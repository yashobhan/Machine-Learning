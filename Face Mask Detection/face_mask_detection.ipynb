{
 "cells": [
  {
   "cell_type": "markdown",
   "metadata": {},
   "source": [
    "# Trying to detect whether someone is wearing a face mask or not"
   ]
  },
  {
   "cell_type": "code",
   "execution_count": null,
   "metadata": {},
   "outputs": [],
   "source": [
    "import pandas as pd\n",
    "import numpy as np\n",
    "\n",
    "from tqdm import tqdm\n",
    "\n",
    "import os\n",
    "import random\n",
    "import pickle\n",
    "import urllib.request\n",
    "\n",
    "import matplotlib.pyplot as plt"
   ]
  },
  {
   "cell_type": "markdown",
   "metadata": {},
   "source": [
    "### Data Collection/Preparation"
   ]
  },
  {
   "cell_type": "code",
   "execution_count": null,
   "metadata": {},
   "outputs": [],
   "source": [
    "df = pd.read_csv('../../Resources/data/mask_detection/mask_labels.udt.csv')\n",
    "df.head()"
   ]
  },
  {
   "cell_type": "code",
   "execution_count": null,
   "metadata": {},
   "outputs": [],
   "source": [
    "df = df[df['path'].str.contains('samples')]\n",
    "df.shape"
   ]
  },
  {
   "cell_type": "code",
   "execution_count": null,
   "metadata": {},
   "outputs": [],
   "source": [
    "df['output'].hist()\n",
    "plt.show()"
   ]
  },
  {
   "cell_type": "code",
   "execution_count": null,
   "metadata": {},
   "outputs": [],
   "source": [
    "df['output'] = df['output'].replace(to_replace='medical_mask', value='mask')\n",
    "df['output'] = df['output'].replace(to_replace='not_medical_mask', value='mask')"
   ]
  },
  {
   "cell_type": "code",
   "execution_count": null,
   "metadata": {},
   "outputs": [],
   "source": [
    "df['output'].hist()"
   ]
  },
  {
   "cell_type": "code",
   "execution_count": null,
   "metadata": {},
   "outputs": [],
   "source": [
    "MASK_DIR = '../../Resources/data/mask_detection/mask/'\n",
    "NOMASK_DIR = '../../Resources/data/mask_detection/no_mask/'"
   ]
  },
  {
   "cell_type": "code",
   "execution_count": null,
   "metadata": {},
   "outputs": [],
   "source": [
    "df.head()"
   ]
  },
  {
   "cell_type": "code",
   "execution_count": null,
   "metadata": {
    "scrolled": true
   },
   "outputs": [],
   "source": [
    "# ## Run ONCE to download images\n",
    "# for i in range(len(df)):\n",
    "#     try:\n",
    "#         img_url = df.iloc[i]['imageUrl']\n",
    "#         name = df.iloc[i]['path'].replace('.', '_') + '.jpg'\n",
    "#         output = df.iloc[i]['output']\n",
    "\n",
    "#         if output == 'mask':\n",
    "#             urllib.request.urlretrieve(img_url, os.path.join(MASK_DIR, name))\n",
    "#         else:\n",
    "#             urllib.request.urlretrieve(img_url, os.path.join(NOMASK_DIR, name))\n",
    "#     except Exception as e:\n",
    "#         print('Error for {}th request: {}'.format(i, e))"
   ]
  },
  {
   "cell_type": "markdown",
   "metadata": {},
   "source": [
    "### Preprocessing"
   ]
  },
  {
   "cell_type": "code",
   "execution_count": null,
   "metadata": {},
   "outputs": [],
   "source": [
    "import mtcnn\n",
    "from PIL import Image"
   ]
  },
  {
   "cell_type": "code",
   "execution_count": null,
   "metadata": {},
   "outputs": [],
   "source": [
    "def extract_face(filename, detector, required_size=(160, 160)):\n",
    "    image = Image.open(filename).convert('RGB')\n",
    "    pixels = np.asarray(image)\n",
    "    \n",
    "    faces = []\n",
    "    \n",
    "    results = detector.detect_faces(pixels)\n",
    "    if results == []:\n",
    "        return 'None'\n",
    "    \n",
    "    else:\n",
    "        for result in results:\n",
    "            x1, y1, width, height = result['box']\n",
    "            x1, y1 = abs(x1), abs(y1)\n",
    "            x2, y2 = x1 + width, y1 + height\n",
    "\n",
    "            face = pixels[y1:y2, x1:x2]\n",
    "            image = Image.fromarray(face)\n",
    "            image = image.resize(required_size)\n",
    "            faces.append(np.asarray(image))\n",
    "        return faces"
   ]
  },
  {
   "cell_type": "code",
   "execution_count": null,
   "metadata": {},
   "outputs": [],
   "source": [
    "detector = mtcnn.MTCNN()"
   ]
  },
  {
   "cell_type": "code",
   "execution_count": null,
   "metadata": {},
   "outputs": [],
   "source": [
    "def get_dataset(which='masked'):\n",
    "    if which == 'masked':\n",
    "        masked_face_arrays = [extract_face(os.path.join(MASK_DIR, i), detector) for i in tqdm(os.listdir(MASK_DIR))]\n",
    "        masked_face_arrays = [i for i in masked_face_arrays if i != 'None']\n",
    "        masked_face_arrays = [j for i in masked_face_arrays for j in i]\n",
    "        masked_face_labels = [1] * len(masked_face_arrays)\n",
    "        \n",
    "        return masked_face_arrays, masked_face_labels\n",
    "    \n",
    "    else:\n",
    "        unmasked_face_arrays = [extract_face(os.path.join(NOMASK_DIR, i), detector) for i in tqdm(os.listdir(NOMASK_DIR))]\n",
    "        unmasked_face_arrays = [i for i in unmasked_face_arrays if i != 'None']\n",
    "        unmasked_face_arrays = [j for i in unmasked_face_arrays for j in i]\n",
    "        unmasked_face_labels = [0] * len(unmasked_face_arrays)\n",
    "        \n",
    "        return unmasked_face_arrays, unmasked_face_labels"
   ]
  },
  {
   "cell_type": "code",
   "execution_count": null,
   "metadata": {},
   "outputs": [],
   "source": [
    "x = extract_face('../../Resources/data/mask_detection/mask/samples_328.jpg', detector)\n",
    "type(x)"
   ]
  },
  {
   "cell_type": "code",
   "execution_count": null,
   "metadata": {},
   "outputs": [],
   "source": [
    "# masked_data, masked_labels = get_dataset()\n",
    "# len(masked_data)"
   ]
  },
  {
   "cell_type": "code",
   "execution_count": null,
   "metadata": {},
   "outputs": [],
   "source": [
    "# unmasked_data, unmasked_labels = get_dataset(which='unmasked')\n",
    "# len(unmasked_data)"
   ]
  },
  {
   "cell_type": "code",
   "execution_count": null,
   "metadata": {},
   "outputs": [],
   "source": [
    "# images = masked_data + unmasked_data\n",
    "# labels = masked_labels + unmasked_labels"
   ]
  },
  {
   "cell_type": "code",
   "execution_count": null,
   "metadata": {},
   "outputs": [],
   "source": [
    "# data = list(zip(images, labels))"
   ]
  },
  {
   "cell_type": "code",
   "execution_count": null,
   "metadata": {},
   "outputs": [],
   "source": [
    "# random.shuffle(data)"
   ]
  },
  {
   "cell_type": "code",
   "execution_count": null,
   "metadata": {},
   "outputs": [],
   "source": [
    "# images, labels = zip(*data)"
   ]
  },
  {
   "cell_type": "code",
   "execution_count": null,
   "metadata": {},
   "outputs": [],
   "source": [
    "# images = np.asarray(images)\n",
    "# images.shape"
   ]
  },
  {
   "cell_type": "code",
   "execution_count": null,
   "metadata": {},
   "outputs": [],
   "source": [
    "# labels = np.asarray(labels)\n",
    "# labels.shape"
   ]
  },
  {
   "cell_type": "code",
   "execution_count": null,
   "metadata": {},
   "outputs": [],
   "source": [
    "# file = open('../../Resources/data/mask_detection/images.pkl', 'wb')\n",
    "# pickle.dump(images, file)\n",
    "# file.close()"
   ]
  },
  {
   "cell_type": "code",
   "execution_count": null,
   "metadata": {},
   "outputs": [],
   "source": [
    "# file = open('../../Resources/data/mask_detection/labels.pkl', 'wb')\n",
    "# pickle.dump(labels, file)\n",
    "# file.close()"
   ]
  },
  {
   "cell_type": "code",
   "execution_count": null,
   "metadata": {},
   "outputs": [],
   "source": [
    "import tensorflow as tf\n",
    "import pickle\n",
    "import numpy as np"
   ]
  },
  {
   "cell_type": "code",
   "execution_count": null,
   "metadata": {},
   "outputs": [],
   "source": [
    "images = pickle.load(open('../../Resources/data/mask_detection/images.pkl', 'rb'))\n",
    "labels = pickle.load(open('../../Resources/data/mask_detection/labels.pkl', 'rb'))"
   ]
  },
  {
   "cell_type": "code",
   "execution_count": null,
   "metadata": {},
   "outputs": [],
   "source": [
    "images.shape, labels.shape"
   ]
  },
  {
   "cell_type": "code",
   "execution_count": null,
   "metadata": {},
   "outputs": [],
   "source": [
    "def get_embeddings(model, img):\n",
    "    try:\n",
    "#         x = tf.keras.preprocessing.image.load_img(img, target_size=(160, 160))\n",
    "        x = tf.keras.preprocessing.image.img_to_array(img)\n",
    "        x = np.expand_dims(x, axis=0)\n",
    "        x = tf.keras.applications.vgg16.preprocess_input(x)\n",
    "\n",
    "        return model.predict(x).reshape(-1)\n",
    "    \n",
    "    except Exception as e:\n",
    "        print(e)\n",
    "        return np.zeros((2048, ))"
   ]
  },
  {
   "cell_type": "code",
   "execution_count": null,
   "metadata": {},
   "outputs": [],
   "source": [
    "base_model = tf.keras.applications.VGG16(include_top=False,\n",
    "                                            weights='imagenet',\n",
    "                                            input_shape=(160, 160, 3))\n",
    "base_model.trainable = False\n",
    "model = tf.keras.models.Sequential([\n",
    "    base_model,\n",
    "    tf.keras.layers.GlobalMaxPool2D()\n",
    "])\n",
    "model.summary()"
   ]
  },
  {
   "cell_type": "code",
   "execution_count": null,
   "metadata": {},
   "outputs": [],
   "source": [
    "face_pixels = images.astype('float32')\n",
    "mean, std = face_pixels.mean(), face_pixels.std()\n",
    "mean, std"
   ]
  },
  {
   "cell_type": "code",
   "execution_count": null,
   "metadata": {},
   "outputs": [],
   "source": [
    "face_pixels = (face_pixels - mean) / std\n",
    "face_pixels.shape"
   ]
  },
  {
   "cell_type": "code",
   "execution_count": null,
   "metadata": {},
   "outputs": [],
   "source": [
    "embeddings = [get_embeddings(model, i) for i in face_pixels]"
   ]
  },
  {
   "cell_type": "code",
   "execution_count": null,
   "metadata": {},
   "outputs": [],
   "source": [
    "len(embeddings)"
   ]
  },
  {
   "cell_type": "code",
   "execution_count": null,
   "metadata": {},
   "outputs": [],
   "source": [
    "file = open('../../Resources/data/mask_detection/embeddings.pkl', 'wb')\n",
    "pickle.dump(embeddings, file)\n",
    "file.close()"
   ]
  },
  {
   "cell_type": "code",
   "execution_count": null,
   "metadata": {},
   "outputs": [],
   "source": [
    "import matplotlib.pyplot as plt\n",
    "from sklearn.svm import SVC"
   ]
  },
  {
   "cell_type": "code",
   "execution_count": null,
   "metadata": {},
   "outputs": [],
   "source": [
    "svm = SVC(kernel='linear')\n",
    "svm.fit(embeddings, labels)"
   ]
  },
  {
   "cell_type": "code",
   "execution_count": null,
   "metadata": {},
   "outputs": [],
   "source": [
    "from sklearn.metrics import accuracy_score"
   ]
  },
  {
   "cell_type": "code",
   "execution_count": null,
   "metadata": {},
   "outputs": [],
   "source": [
    "preds = svm.predict(embeddings)"
   ]
  },
  {
   "cell_type": "code",
   "execution_count": null,
   "metadata": {},
   "outputs": [],
   "source": [
    "accuracy_score(labels, preds)"
   ]
  },
  {
   "cell_type": "code",
   "execution_count": null,
   "metadata": {},
   "outputs": [],
   "source": [
    "maps = {\n",
    "    1: 'mask',\n",
    "    0: 'no_mask'\n",
    "}"
   ]
  },
  {
   "cell_type": "code",
   "execution_count": null,
   "metadata": {},
   "outputs": [],
   "source": [
    "def check_mask(input_img):\n",
    "    \n",
    "    maps = {\n",
    "        1: 'mask',\n",
    "        0: 'no_mask'\n",
    "    }\n",
    "    \n",
    "    img = (input_img - input_img.mean()) / input_img.std()\n",
    "    img = get_embeddings(model, img)\n",
    "    preds = maps[svm.predict(img.reshape(1, -1))[0]]\n",
    "    \n",
    "    plt.imshow(input_img)\n",
    "    plt.title(preds)\n",
    "    plt.show()"
   ]
  },
  {
   "cell_type": "code",
   "execution_count": null,
   "metadata": {},
   "outputs": [],
   "source": [
    "img = images[500]\n",
    "check_mask(img)"
   ]
  },
  {
   "cell_type": "code",
   "execution_count": null,
   "metadata": {},
   "outputs": [],
   "source": [
    "img = images[700]\n",
    "check_mask(img)"
   ]
  },
  {
   "cell_type": "code",
   "execution_count": null,
   "metadata": {},
   "outputs": [],
   "source": [
    "import cv2"
   ]
  },
  {
   "cell_type": "code",
   "execution_count": null,
   "metadata": {},
   "outputs": [],
   "source": [
    "def get_face(frame, detector, required_size=(160, 160)):\n",
    "    image = cv2.cvtColor(frame, cv2.COLOR_BGR2RGB)\n",
    "    pixels = np.asarray(image)\n",
    "    \n",
    "    faces = []\n",
    "    \n",
    "    results = detector.detect_faces(pixels)\n",
    "    if results == []:\n",
    "        return 'None'\n",
    "    \n",
    "    else:\n",
    "        for result in results:\n",
    "            x1, y1, width, height = result['box']\n",
    "            x1, y1 = abs(x1), abs(y1)\n",
    "            x2, y2 = x1 + width, y1 + height\n",
    "\n",
    "            face = pixels[y1:y2, x1:x2]\n",
    "            image = Image.fromarray(face)\n",
    "#             image = image.resize(required_size)\n",
    "            faces.append(np.asarray(image))\n",
    "        return faces"
   ]
  },
  {
   "cell_type": "code",
   "execution_count": null,
   "metadata": {},
   "outputs": [],
   "source": [
    "cap = cv2.VideoCapture(0)"
   ]
  },
  {
   "cell_type": "code",
   "execution_count": null,
   "metadata": {},
   "outputs": [],
   "source": [
    "x, y = 50, 50\n",
    "offset = 35\n",
    "while True:\n",
    "    ret, frame = cap.read()\n",
    "    faces = get_face(frame, detector)\n",
    "#     print(faces)\n",
    "    \n",
    "    for face in faces:\n",
    "        face_pixels = cv2.resize(face, (160, 160))\n",
    "        mask = check_mask(face_pixels)\n",
    "        \n",
    "        print(mask)\n",
    "        cv2.putText(frame, str(lbl), (x,y+offset*idx), cv2.FONT_HERSHEY_SIMPLEX, 1, (0,0,0), 2)\n",
    "        \n",
    "    \n",
    "    cv2.imshow('frame', frame)\n",
    "    if cv2.waitKey(1) & 0xFF == ord('q'):\n",
    "        break"
   ]
  },
  {
   "cell_type": "code",
   "execution_count": null,
   "metadata": {},
   "outputs": [],
   "source": [
    "cap.release()"
   ]
  },
  {
   "cell_type": "code",
   "execution_count": null,
   "metadata": {},
   "outputs": [],
   "source": []
  }
 ],
 "metadata": {
  "kernelspec": {
   "display_name": "Python 3",
   "language": "python",
   "name": "python3"
  },
  "language_info": {
   "codemirror_mode": {
    "name": "ipython",
    "version": 3
   },
   "file_extension": ".py",
   "mimetype": "text/x-python",
   "name": "python",
   "nbconvert_exporter": "python",
   "pygments_lexer": "ipython3",
   "version": "3.7.4"
  }
 },
 "nbformat": 4,
 "nbformat_minor": 2
}
