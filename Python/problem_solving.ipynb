{
 "cells": [
  {
   "cell_type": "markdown",
   "metadata": {},
   "source": [
    "## Armstrong Numbers within a range\n",
    "\n",
    "Numbers of 'N' digits which are equal to the sum of the nth power of its digits"
   ]
  },
  {
   "cell_type": "code",
   "execution_count": 38,
   "metadata": {},
   "outputs": [],
   "source": [
    "def is_armstrong(N):\n",
    "    num_digits = len(str(N))\n",
    "    summ = 0\n",
    "    \n",
    "    for digit in str(N):\n",
    "        summ += int(digit) ** num_digits\n",
    "        \n",
    "    if summ == N:\n",
    "        return True\n",
    "    else:\n",
    "        return False"
   ]
  },
  {
   "cell_type": "code",
   "execution_count": 51,
   "metadata": {},
   "outputs": [
    {
     "data": {
      "text/plain": [
       "(True, False)"
      ]
     },
     "execution_count": 51,
     "metadata": {},
     "output_type": "execute_result"
    }
   ],
   "source": [
    "is_armstrong(407), is_armstrong(100)"
   ]
  },
  {
   "cell_type": "code",
   "execution_count": 50,
   "metadata": {},
   "outputs": [
    {
     "name": "stdout",
     "output_type": "stream",
     "text": [
      "Wall time: 45.9 ms\n"
     ]
    },
    {
     "data": {
      "text/plain": [
       "[0, 1, 2, 3, 4, 5, 6, 7, 8, 9, 153, 370, 371, 407, 1634, 8208, 9474]"
      ]
     },
     "execution_count": 50,
     "metadata": {},
     "output_type": "execute_result"
    }
   ],
   "source": [
    "%%time\n",
    "nums = list(range(10000))\n",
    "[i for i in nums if is_armstrong(i)]"
   ]
  },
  {
   "cell_type": "markdown",
   "metadata": {},
   "source": [
    "## Patterns"
   ]
  },
  {
   "cell_type": "code",
   "execution_count": 76,
   "metadata": {},
   "outputs": [
    {
     "name": "stdout",
     "output_type": "stream",
     "text": [
      "1  \n",
      "1  2  \n",
      "1  2  3  \n",
      "1  2  3  4  \n",
      "1  2  3  4  5  \n",
      "1  2  3  4  5  6  \n",
      "1  2  3  4  5  6  7  \n"
     ]
    }
   ],
   "source": [
    "num_rows = 7\n",
    "\n",
    "for i in range(1, num_rows+1):\n",
    "    for j in range(1, i+1):\n",
    "        print(j, ' ', end=\"\")\n",
    "    print()"
   ]
  },
  {
   "cell_type": "code",
   "execution_count": 77,
   "metadata": {},
   "outputs": [
    {
     "name": "stdout",
     "output_type": "stream",
     "text": [
      "1  \n",
      "2  2  \n",
      "3  3  3  \n",
      "4  4  4  4  \n",
      "5  5  5  5  5  \n",
      "6  6  6  6  6  6  \n",
      "7  7  7  7  7  7  7  \n"
     ]
    }
   ],
   "source": [
    "num_rows = 7\n",
    "\n",
    "for i in range(1, num_rows+1):\n",
    "    for j in range(1, i+1):\n",
    "        print(i, ' ', end=\"\")\n",
    "    print()"
   ]
  },
  {
   "cell_type": "code",
   "execution_count": 126,
   "metadata": {},
   "outputs": [
    {
     "name": "stdout",
     "output_type": "stream",
     "text": [
      "*      \n",
      "**     \n",
      "* *    \n",
      "*  *   \n",
      "*   *  \n",
      "*    * \n",
      "*******\n"
     ]
    }
   ],
   "source": [
    "num_rows = 7\n",
    "\n",
    "for i in range(num_rows):\n",
    "    for j in range(num_rows):\n",
    "        if i == (num_rows-1) or j == 0 or i == j:\n",
    "            print('*', end=\"\")\n",
    "        else:\n",
    "            print(end=\" \")\n",
    "    print()"
   ]
  },
  {
   "cell_type": "markdown",
   "metadata": {},
   "source": [
    "## Factorials"
   ]
  },
  {
   "cell_type": "code",
   "execution_count": 105,
   "metadata": {},
   "outputs": [],
   "source": [
    "N = 4"
   ]
  },
  {
   "cell_type": "code",
   "execution_count": 106,
   "metadata": {},
   "outputs": [
    {
     "data": {
      "text/plain": [
       "24"
      ]
     },
     "execution_count": 106,
     "metadata": {},
     "output_type": "execute_result"
    }
   ],
   "source": [
    "## Using in-built function\n",
    "import math\n",
    "math.factorial(N)"
   ]
  },
  {
   "cell_type": "code",
   "execution_count": 128,
   "metadata": {},
   "outputs": [],
   "source": [
    "## Using a custom function\n",
    "from functools import reduce\n",
    "def factorial_(N):\n",
    "    \n",
    "    if N == 0:\n",
    "        return 1\n",
    "    \n",
    "    if N > 0:\n",
    "        return reduce(lambda x, y: x * y, list(range(1, N + 1)))\n",
    "    else:\n",
    "        return False"
   ]
  },
  {
   "cell_type": "code",
   "execution_count": 129,
   "metadata": {},
   "outputs": [
    {
     "data": {
      "text/plain": [
       "24"
      ]
     },
     "execution_count": 129,
     "metadata": {},
     "output_type": "execute_result"
    }
   ],
   "source": [
    "factorial_(N)"
   ]
  },
  {
   "cell_type": "code",
   "execution_count": 130,
   "metadata": {},
   "outputs": [],
   "source": [
    "## Using a recursive function\n",
    "def rec_fact(N):\n",
    "    if N == 0:\n",
    "        return 1\n",
    "    else:\n",
    "        return N * rec_fact(N - 1)"
   ]
  },
  {
   "cell_type": "code",
   "execution_count": 131,
   "metadata": {},
   "outputs": [
    {
     "data": {
      "text/plain": [
       "24"
      ]
     },
     "execution_count": 131,
     "metadata": {},
     "output_type": "execute_result"
    }
   ],
   "source": [
    "rec_fact(N)"
   ]
  },
  {
   "cell_type": "markdown",
   "metadata": {},
   "source": [
    "## Fibonacci Series"
   ]
  },
  {
   "cell_type": "code",
   "execution_count": 137,
   "metadata": {},
   "outputs": [],
   "source": [
    "N = 3"
   ]
  },
  {
   "cell_type": "code",
   "execution_count": 145,
   "metadata": {},
   "outputs": [],
   "source": [
    "def fibo(N):\n",
    "    first = 0\n",
    "    second = 1\n",
    "    \n",
    "    if N < 0:\n",
    "        return False\n",
    "    \n",
    "    elif N == 0:\n",
    "        return first\n",
    "    \n",
    "    elif N == 1:\n",
    "        return second\n",
    "    \n",
    "    else:\n",
    "        for n in range(2, N):\n",
    "            new = first + second\n",
    "            first = second\n",
    "            second = new\n",
    "        return second"
   ]
  },
  {
   "cell_type": "code",
   "execution_count": 153,
   "metadata": {},
   "outputs": [
    {
     "data": {
      "text/plain": [
       "[1, 1, 2, 3, 5, 8, 13, 21, 34]"
      ]
     },
     "execution_count": 153,
     "metadata": {},
     "output_type": "execute_result"
    }
   ],
   "source": [
    "[fibo(i) for i in range(2, 10+1)]"
   ]
  },
  {
   "cell_type": "code",
   "execution_count": null,
   "metadata": {},
   "outputs": [],
   "source": []
  }
 ],
 "metadata": {
  "kernelspec": {
   "display_name": "Python 3",
   "language": "python",
   "name": "python3"
  },
  "language_info": {
   "codemirror_mode": {
    "name": "ipython",
    "version": 3
   },
   "file_extension": ".py",
   "mimetype": "text/x-python",
   "name": "python",
   "nbconvert_exporter": "python",
   "pygments_lexer": "ipython3",
   "version": "3.7.4"
  }
 },
 "nbformat": 4,
 "nbformat_minor": 2
}
