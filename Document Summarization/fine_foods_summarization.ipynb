{
 "cells": [
  {
   "cell_type": "code",
   "execution_count": 1,
   "metadata": {},
   "outputs": [],
   "source": [
    "import pandas as pd\n",
    "import numpy as np\n",
    "import tensorflow as tf\n",
    "\n",
    "import matplotlib.pyplot as plt"
   ]
  },
  {
   "cell_type": "code",
   "execution_count": 2,
   "metadata": {},
   "outputs": [
    {
     "data": {
      "text/plain": [
       "True"
      ]
     },
     "execution_count": 2,
     "metadata": {},
     "output_type": "execute_result"
    }
   ],
   "source": [
    "tf.test.is_gpu_available()"
   ]
  },
  {
   "cell_type": "markdown",
   "metadata": {},
   "source": [
    "### Data Loading"
   ]
  },
  {
   "cell_type": "code",
   "execution_count": 91,
   "metadata": {},
   "outputs": [
    {
     "data": {
      "text/html": [
       "<div>\n",
       "<style scoped>\n",
       "    .dataframe tbody tr th:only-of-type {\n",
       "        vertical-align: middle;\n",
       "    }\n",
       "\n",
       "    .dataframe tbody tr th {\n",
       "        vertical-align: top;\n",
       "    }\n",
       "\n",
       "    .dataframe thead th {\n",
       "        text-align: right;\n",
       "    }\n",
       "</style>\n",
       "<table border=\"1\" class=\"dataframe\">\n",
       "  <thead>\n",
       "    <tr style=\"text-align: right;\">\n",
       "      <th></th>\n",
       "      <th>Id</th>\n",
       "      <th>ProductId</th>\n",
       "      <th>UserId</th>\n",
       "      <th>ProfileName</th>\n",
       "      <th>HelpfulnessNumerator</th>\n",
       "      <th>HelpfulnessDenominator</th>\n",
       "      <th>Score</th>\n",
       "      <th>Time</th>\n",
       "      <th>Summary</th>\n",
       "      <th>Text</th>\n",
       "    </tr>\n",
       "  </thead>\n",
       "  <tbody>\n",
       "    <tr>\n",
       "      <td>244925</td>\n",
       "      <td>244926</td>\n",
       "      <td>B001VNEDDA</td>\n",
       "      <td>A2B8SUDJGJIQCY</td>\n",
       "      <td>Ronald M. Burkhart \"Burkyii\"</td>\n",
       "      <td>0</td>\n",
       "      <td>0</td>\n",
       "      <td>5</td>\n",
       "      <td>1349136000</td>\n",
       "      <td>Quality Spices</td>\n",
       "      <td>I use a lot of various spices in my cooking an...</td>\n",
       "    </tr>\n",
       "    <tr>\n",
       "      <td>397771</td>\n",
       "      <td>397772</td>\n",
       "      <td>B001EYUE5M</td>\n",
       "      <td>ALEABNMSVO1JI</td>\n",
       "      <td>gibble</td>\n",
       "      <td>0</td>\n",
       "      <td>0</td>\n",
       "      <td>5</td>\n",
       "      <td>1350172800</td>\n",
       "      <td>awesome coffee</td>\n",
       "      <td>I have enjoyed this brand of coffee for severa...</td>\n",
       "    </tr>\n",
       "    <tr>\n",
       "      <td>277459</td>\n",
       "      <td>277460</td>\n",
       "      <td>B000VK8AVK</td>\n",
       "      <td>A1N12WODE6NBRJ</td>\n",
       "      <td>Raghav Chadha</td>\n",
       "      <td>0</td>\n",
       "      <td>0</td>\n",
       "      <td>2</td>\n",
       "      <td>1287360000</td>\n",
       "      <td>Too much vinegar</td>\n",
       "      <td>I bought these chips looking at its sale rank ...</td>\n",
       "    </tr>\n",
       "    <tr>\n",
       "      <td>404982</td>\n",
       "      <td>404983</td>\n",
       "      <td>B0030VJ9K8</td>\n",
       "      <td>A19SXBQWY5Y4YW</td>\n",
       "      <td>Kiersten Yost</td>\n",
       "      <td>5</td>\n",
       "      <td>13</td>\n",
       "      <td>3</td>\n",
       "      <td>1290556800</td>\n",
       "      <td>Ish</td>\n",
       "      <td>I generally make all of LO's food organic from...</td>\n",
       "    </tr>\n",
       "    <tr>\n",
       "      <td>381601</td>\n",
       "      <td>381602</td>\n",
       "      <td>B00376ZEY6</td>\n",
       "      <td>APL8F73NPX6VA</td>\n",
       "      <td>Don'tstandsoclose</td>\n",
       "      <td>0</td>\n",
       "      <td>0</td>\n",
       "      <td>5</td>\n",
       "      <td>1329091200</td>\n",
       "      <td>BEST EVER!!</td>\n",
       "      <td>These caramels are probably the best I have ev...</td>\n",
       "    </tr>\n",
       "  </tbody>\n",
       "</table>\n",
       "</div>"
      ],
      "text/plain": [
       "            Id   ProductId          UserId                   ProfileName  \\\n",
       "244925  244926  B001VNEDDA  A2B8SUDJGJIQCY  Ronald M. Burkhart \"Burkyii\"   \n",
       "397771  397772  B001EYUE5M   ALEABNMSVO1JI                        gibble   \n",
       "277459  277460  B000VK8AVK  A1N12WODE6NBRJ                 Raghav Chadha   \n",
       "404982  404983  B0030VJ9K8  A19SXBQWY5Y4YW                 Kiersten Yost   \n",
       "381601  381602  B00376ZEY6   APL8F73NPX6VA             Don'tstandsoclose   \n",
       "\n",
       "        HelpfulnessNumerator  HelpfulnessDenominator  Score        Time  \\\n",
       "244925                     0                       0      5  1349136000   \n",
       "397771                     0                       0      5  1350172800   \n",
       "277459                     0                       0      2  1287360000   \n",
       "404982                     5                      13      3  1290556800   \n",
       "381601                     0                       0      5  1329091200   \n",
       "\n",
       "                 Summary                                               Text  \n",
       "244925    Quality Spices  I use a lot of various spices in my cooking an...  \n",
       "397771    awesome coffee  I have enjoyed this brand of coffee for severa...  \n",
       "277459  Too much vinegar  I bought these chips looking at its sale rank ...  \n",
       "404982               Ish  I generally make all of LO's food organic from...  \n",
       "381601       BEST EVER!!  These caramels are probably the best I have ev...  "
      ]
     },
     "execution_count": 91,
     "metadata": {},
     "output_type": "execute_result"
    }
   ],
   "source": [
    "data = pd.read_csv('../../Resources/data/text_summarization/fine_foods_reviews.csv')\n",
    "data = data.sample(200000)\n",
    "data.head()"
   ]
  },
  {
   "cell_type": "code",
   "execution_count": 92,
   "metadata": {},
   "outputs": [
    {
     "data": {
      "text/plain": [
       "(200000, 10)"
      ]
     },
     "execution_count": 92,
     "metadata": {},
     "output_type": "execute_result"
    }
   ],
   "source": [
    "data.shape"
   ]
  },
  {
   "cell_type": "code",
   "execution_count": 93,
   "metadata": {},
   "outputs": [],
   "source": [
    "data.dropna(axis=0, inplace=True)\n",
    "data.drop_duplicates(subset=['Text'], inplace=True)"
   ]
  },
  {
   "cell_type": "code",
   "execution_count": 94,
   "metadata": {},
   "outputs": [
    {
     "data": {
      "text/plain": [
       "(161201, 10)"
      ]
     },
     "execution_count": 94,
     "metadata": {},
     "output_type": "execute_result"
    }
   ],
   "source": [
    "data.shape ## Shape after dropping duplicates and NA"
   ]
  },
  {
   "cell_type": "code",
   "execution_count": 95,
   "metadata": {},
   "outputs": [],
   "source": [
    "## Removing all datapoints from sampled data that are below a certain length\n",
    "data = data[data['Text'].str.split().apply(len) < 35]"
   ]
  },
  {
   "cell_type": "code",
   "execution_count": 96,
   "metadata": {},
   "outputs": [
    {
     "data": {
      "text/plain": [
       "(42181, 10)"
      ]
     },
     "execution_count": 96,
     "metadata": {},
     "output_type": "execute_result"
    }
   ],
   "source": [
    "data.shape"
   ]
  },
  {
   "cell_type": "markdown",
   "metadata": {},
   "source": [
    "### Cleaning"
   ]
  },
  {
   "cell_type": "code",
   "execution_count": 97,
   "metadata": {},
   "outputs": [],
   "source": [
    "contractions_dict = {     \n",
    "\"ain't\": \"am not\",\n",
    "\"aren't\": \"are not\",\n",
    "\"can't\": \"cannot\",\n",
    "\"can't've\": \"cannot have\",\n",
    "\"'cause\": \"because\",\n",
    "\"could've\": \"could have\",\n",
    "\"couldn't\": \"could not\",\n",
    "\"couldn't've\": \"could not have\",\n",
    "\"didn't\": \"did not\",\n",
    "\"doesn't\": \"does not\",\n",
    "\"don't\": \"do not\",\n",
    "\"hadn't\": \"had not\",\n",
    "\"hadn't've\": \"had not have\",\n",
    "\"hasn't\": \"has not\",\n",
    "\"haven't\": \"have not\",\n",
    "\"he'd\": \"he had\",\n",
    "\"he'd've\": \"he would have\",\n",
    "\"he'll\": \"he will\",\n",
    "\"he'll've\": \"he will have\",\n",
    "\"he's\": \"he is\",\n",
    "\"how'd\": \"how did\",\n",
    "\"how'd'y\": \"how do you\",\n",
    "\"how'll\": \"how will\",\n",
    "\"how's\": \"how is\",\n",
    "\"I'd\": \"I had\",\n",
    "\"I'd've\": \"I would have\",\n",
    "\"I'll\": \"I will\",\n",
    "\"I'll've\": \"I will have\",\n",
    "\"I'm\": \"I am\",\n",
    "\"I've\": \"I have\",\n",
    "\"isn't\": \"is not\",\n",
    "\"it'd\": \"it had\",\n",
    "\"it'd've\": \"it would have\",\n",
    "\"it'll\": \"it will\",\n",
    "\"it'll've\": \"iit will have\",\n",
    "\"it's\": \"it is\",\n",
    "\"let's\": \"let us\",\n",
    "\"ma'am\": \"madam\",\n",
    "\"mayn't\": \"may not\",\n",
    "\"might've\": \"might have\",\n",
    "\"mightn't\": \"might not\",\n",
    "\"mightn't've\": \"might not have\",\n",
    "\"must've\": \"must have\",\n",
    "\"mustn't\": \"must not\",\n",
    "\"mustn't've\": \"must not have\",\n",
    "\"needn't\": \"need not\",\n",
    "\"needn't've\": \"need not have\",\n",
    "\"o'clock\": \"of the clock\",\n",
    "\"oughtn't\": \"ought not\",\n",
    "\"oughtn't've\": \"ought not have\",\n",
    "\"shan't\": \"shall not\",\n",
    "\"sha'n't\": \"shall not\",\n",
    "\"shan't've\": \"shall not have\",\n",
    "\"she'd\": \"she had\",\n",
    "\"she'd've\": \"she would have\",\n",
    "\"she'll\": \"she will\",\n",
    "\"she'll've\": \"she will have\",\n",
    "\"she's\": \"she is\",\n",
    "\"should've\": \"should have\",\n",
    "\"shouldn't\": \"should not\",\n",
    "\"shouldn't've\": \"should not have\",\n",
    "\"so've\": \"so have\",\n",
    "\"so's\": \"so is\",\n",
    "\"that'd\": \"that had\",\n",
    "\"that'd've\": \"that would have\",\n",
    "\"that's\": \"that is\",\n",
    "\"there'd\": \"there had\",\n",
    "\"there'd've\": \"there would have\",\n",
    "\"there's\": \"there is\",\n",
    "\"they'd\": \"they had\",\n",
    "\"they'd've\": \"they would have\",\n",
    "\"they'll\": \"they will\",\n",
    "\"they'll've\": \"they will have\",\n",
    "\"they're\": \"they are\",\n",
    "\"they've\": \"they have\",\n",
    "\"to've\": \"to have\",\n",
    "\"wasn't\": \"was not\",\n",
    "\"we'd\": \"we had\",\n",
    "\"we'd've\": \"we would have\",\n",
    "\"we'll\": \"we will\",\n",
    "\"we'll've\": \"we will have\",\n",
    "\"we're\": \"we are\",\n",
    "\"we've\": \"we have\",\n",
    "\"weren't\": \"were not\",\n",
    "\"what'll\": \"what will\",\n",
    "\"what'll've\": \"what will have\",\n",
    "\"what're\": \"what are\",\n",
    "\"what's\": \"what is\",\n",
    "\"what've\": \"what have\",\n",
    "\"when's\": \"when is\",\n",
    "\"when've\": \"when have\",\n",
    "\"where'd\": \"where did\",\n",
    "\"where's\": \"where is\",\n",
    "\"where've\": \"where have\",\n",
    "\"who'll\": \"who will\",\n",
    "\"who'll've\": \"who will have\",\n",
    "\"who's\": \"who is\",\n",
    "\"who've\": \"who have\",\n",
    "\"why's\": \"why is\",\n",
    "\"why've\": \"why have\",\n",
    "\"will've\": \"will have\",\n",
    "\"won't\": \"will not\",\n",
    "\"won't've\": \"will not have\",\n",
    "\"would've\": \"would have\",\n",
    "\"wouldn't\": \"would not\",\n",
    "\"wouldn't've\": \"would not have\",\n",
    "\"y'all\": \"you all\",\n",
    "\"y'all'd\": \"you all would\",\n",
    "\"y'all'd've\": \"you all would have\",\n",
    "\"y'all're\": \"you all are\",\n",
    "\"y'all've\": \"you all have\",\n",
    "\"you'd\": \"you had\",\n",
    "\"you'd've\": \"you would have\",\n",
    "\"you'll\": \"you will\",\n",
    "\"you'll've\": \"you will have\",\n",
    "\"you're\": \"you are\",\n",
    "\"you've\": \"you have\"\n",
    "}"
   ]
  },
  {
   "cell_type": "code",
   "execution_count": 98,
   "metadata": {},
   "outputs": [],
   "source": [
    "import re\n",
    "def clean(text, contractions=contractions_dict, remove_stop=False):\n",
    "    text = text.lower()\n",
    "    text = re.sub(r'\\([^)]*\\)', '', text)\n",
    "    text = ' '.join([contractions[t] if t in contractions else t for t in text.split(' ')])\n",
    "    text = re.sub(r\"'s\\b\", \"\", text)\n",
    "    text = re.sub(r'[^a-zA-Z]', ' ', text)\n",
    "    text = re.sub('[m]{2, }', 'mm', text)\n",
    "    \n",
    "    return text.strip()"
   ]
  },
  {
   "cell_type": "code",
   "execution_count": 99,
   "metadata": {},
   "outputs": [
    {
     "data": {
      "text/plain": [
       "'this am not it  chief'"
      ]
     },
     "execution_count": 99,
     "metadata": {},
     "output_type": "execute_result"
    }
   ],
   "source": [
    "clean(\"this ain't it, chief!\")"
   ]
  },
  {
   "cell_type": "code",
   "execution_count": 100,
   "metadata": {},
   "outputs": [
    {
     "data": {
      "text/html": [
       "<div>\n",
       "<style scoped>\n",
       "    .dataframe tbody tr th:only-of-type {\n",
       "        vertical-align: middle;\n",
       "    }\n",
       "\n",
       "    .dataframe tbody tr th {\n",
       "        vertical-align: top;\n",
       "    }\n",
       "\n",
       "    .dataframe thead th {\n",
       "        text-align: right;\n",
       "    }\n",
       "</style>\n",
       "<table border=\"1\" class=\"dataframe\">\n",
       "  <thead>\n",
       "    <tr style=\"text-align: right;\">\n",
       "      <th></th>\n",
       "      <th>text</th>\n",
       "      <th>summary</th>\n",
       "    </tr>\n",
       "  </thead>\n",
       "  <tbody>\n",
       "    <tr>\n",
       "      <td>244925</td>\n",
       "      <td>i use a lot of various spices in my cooking an...</td>\n",
       "      <td>quality spices</td>\n",
       "    </tr>\n",
       "    <tr>\n",
       "      <td>381601</td>\n",
       "      <td>these caramels are probably the best i have ev...</td>\n",
       "      <td>best ever</td>\n",
       "    </tr>\n",
       "    <tr>\n",
       "      <td>267529</td>\n",
       "      <td>according to the manufacturer  these are     b...</td>\n",
       "      <td>not a true soba noodle</td>\n",
       "    </tr>\n",
       "    <tr>\n",
       "      <td>1126</td>\n",
       "      <td>be careful   i ordered a pack of    my invoice...</td>\n",
       "      <td>beefeaters swizzles tripe     inch pack of</td>\n",
       "    </tr>\n",
       "    <tr>\n",
       "      <td>244735</td>\n",
       "      <td>i love this bar and eat it every day  it is ve...</td>\n",
       "      <td>too</td>\n",
       "    </tr>\n",
       "  </tbody>\n",
       "</table>\n",
       "</div>"
      ],
      "text/plain": [
       "                                                     text  \\\n",
       "244925  i use a lot of various spices in my cooking an...   \n",
       "381601  these caramels are probably the best i have ev...   \n",
       "267529  according to the manufacturer  these are     b...   \n",
       "1126    be careful   i ordered a pack of    my invoice...   \n",
       "244735  i love this bar and eat it every day  it is ve...   \n",
       "\n",
       "                                           summary  \n",
       "244925                              quality spices  \n",
       "381601                                   best ever  \n",
       "267529                      not a true soba noodle  \n",
       "1126    beefeaters swizzles tripe     inch pack of  \n",
       "244735                                         too  "
      ]
     },
     "execution_count": 100,
     "metadata": {},
     "output_type": "execute_result"
    }
   ],
   "source": [
    "reviews = pd.DataFrame()\n",
    "reviews['text'] = data['Text'].apply(clean)\n",
    "reviews['summary'] = data['Summary'].apply(clean)\n",
    "\n",
    "reviews.head()"
   ]
  },
  {
   "cell_type": "code",
   "execution_count": 101,
   "metadata": {},
   "outputs": [
    {
     "data": {
      "text/html": [
       "<div>\n",
       "<style scoped>\n",
       "    .dataframe tbody tr th:only-of-type {\n",
       "        vertical-align: middle;\n",
       "    }\n",
       "\n",
       "    .dataframe tbody tr th {\n",
       "        vertical-align: top;\n",
       "    }\n",
       "\n",
       "    .dataframe thead th {\n",
       "        text-align: right;\n",
       "    }\n",
       "</style>\n",
       "<table border=\"1\" class=\"dataframe\">\n",
       "  <thead>\n",
       "    <tr style=\"text-align: right;\">\n",
       "      <th></th>\n",
       "      <th>text</th>\n",
       "      <th>summary</th>\n",
       "    </tr>\n",
       "  </thead>\n",
       "  <tbody>\n",
       "    <tr>\n",
       "      <td>244925</td>\n",
       "      <td>i use a lot of various spices in my cooking an...</td>\n",
       "      <td>sostok quality spices eostok</td>\n",
       "    </tr>\n",
       "    <tr>\n",
       "      <td>381601</td>\n",
       "      <td>these caramels are probably the best i have ev...</td>\n",
       "      <td>sostok best ever eostok</td>\n",
       "    </tr>\n",
       "    <tr>\n",
       "      <td>267529</td>\n",
       "      <td>according to the manufacturer  these are     b...</td>\n",
       "      <td>sostok not a true soba noodle eostok</td>\n",
       "    </tr>\n",
       "    <tr>\n",
       "      <td>1126</td>\n",
       "      <td>be careful   i ordered a pack of    my invoice...</td>\n",
       "      <td>sostok beefeaters swizzles tripe     inch pack...</td>\n",
       "    </tr>\n",
       "    <tr>\n",
       "      <td>244735</td>\n",
       "      <td>i love this bar and eat it every day  it is ve...</td>\n",
       "      <td>sostok too eostok</td>\n",
       "    </tr>\n",
       "  </tbody>\n",
       "</table>\n",
       "</div>"
      ],
      "text/plain": [
       "                                                     text  \\\n",
       "244925  i use a lot of various spices in my cooking an...   \n",
       "381601  these caramels are probably the best i have ev...   \n",
       "267529  according to the manufacturer  these are     b...   \n",
       "1126    be careful   i ordered a pack of    my invoice...   \n",
       "244735  i love this bar and eat it every day  it is ve...   \n",
       "\n",
       "                                                  summary  \n",
       "244925                       sostok quality spices eostok  \n",
       "381601                            sostok best ever eostok  \n",
       "267529               sostok not a true soba noodle eostok  \n",
       "1126    sostok beefeaters swizzles tripe     inch pack...  \n",
       "244735                                  sostok too eostok  "
      ]
     },
     "execution_count": 101,
     "metadata": {},
     "output_type": "execute_result"
    }
   ],
   "source": [
    "reviews['summary'] = reviews['summary'].apply(lambda x: 'sostok ' + x + ' eostok')\n",
    "reviews.head()"
   ]
  },
  {
   "cell_type": "code",
   "execution_count": 102,
   "metadata": {},
   "outputs": [
    {
     "name": "stdout",
     "output_type": "stream",
     "text": [
      "* Review:  i use a lot of various spices in my cooking and wanted to find a source with a quality product at a reasonable price   frontier met that discription\n",
      "* Summary:  sostok quality spices eostok\n",
      "** ---- ** ---- **\n",
      "\n",
      "* Review:  these caramels are probably the best i have ever tasted  they are smooth and buttery and the sea salt accents the smooth caramel perfectly  buy these  you will not regret it\n",
      "* Summary:  sostok best ever eostok\n",
      "** ---- ** ---- **\n",
      "\n",
      "* Review:  according to the manufacturer  these are     buckwheat   a classic soba noodle should be at least      preferably     buckwheat\n",
      "* Summary:  sostok not a true soba noodle eostok\n",
      "** ---- ** ---- **\n",
      "\n",
      "* Review:  be careful   i ordered a pack of    my invoice says pack of    but i received only   stick\n",
      "* Summary:  sostok beefeaters swizzles tripe     inch pack of eostok\n",
      "** ---- ** ---- **\n",
      "\n",
      "* Review:  i love this bar and eat it every day  it is very healthy and  tastes great but it is priced twice as much what i paid at local supermarket\n",
      "* Summary:  sostok too eostok\n",
      "** ---- ** ---- **\n",
      "\n"
     ]
    }
   ],
   "source": [
    "for i in range(5):\n",
    "    print('* Review: ', reviews['text'].iloc[i])\n",
    "    print('* Summary: ', reviews['summary'].iloc[i])\n",
    "    print('** ---- ** ---- **\\n')"
   ]
  },
  {
   "cell_type": "markdown",
   "metadata": {},
   "source": [
    "### Preprocessing"
   ]
  },
  {
   "cell_type": "code",
   "execution_count": 103,
   "metadata": {},
   "outputs": [],
   "source": [
    "lengths = pd.DataFrame()\n",
    "lengths['text'] = [len(i.split()) for i in reviews['text']]\n",
    "lengths['summary'] = [len(i.split()) for i in reviews['summary']]"
   ]
  },
  {
   "cell_type": "code",
   "execution_count": 104,
   "metadata": {},
   "outputs": [
    {
     "data": {
      "image/png": "[encoded data removed]",
      "text/plain": [
       "<Figure size 720x432 with 2 Axes>"
      ]
     },
     "metadata": {
      "needs_background": "light"
     },
     "output_type": "display_data"
    }
   ],
   "source": [
    "plt.figure(figsize=(10, 6))\n",
    "\n",
    "plt.subplot(1, 2, 1)\n",
    "plt.hist(lengths['text'], bins=30)\n",
    "plt.subplot(1, 2, 2)\n",
    "plt.hist(lengths['summary'], bins=30)\n",
    "plt.tight_layout()"
   ]
  },
  {
   "cell_type": "code",
   "execution_count": 105,
   "metadata": {},
   "outputs": [
    {
     "data": {
      "text/html": [
       "<div>\n",
       "<style scoped>\n",
       "    .dataframe tbody tr th:only-of-type {\n",
       "        vertical-align: middle;\n",
       "    }\n",
       "\n",
       "    .dataframe tbody tr th {\n",
       "        vertical-align: top;\n",
       "    }\n",
       "\n",
       "    .dataframe thead th {\n",
       "        text-align: right;\n",
       "    }\n",
       "</style>\n",
       "<table border=\"1\" class=\"dataframe\">\n",
       "  <thead>\n",
       "    <tr style=\"text-align: right;\">\n",
       "      <th></th>\n",
       "      <th>text</th>\n",
       "      <th>summary</th>\n",
       "    </tr>\n",
       "  </thead>\n",
       "  <tbody>\n",
       "    <tr>\n",
       "      <td>count</td>\n",
       "      <td>42181.000000</td>\n",
       "      <td>42181.000000</td>\n",
       "    </tr>\n",
       "    <tr>\n",
       "      <td>mean</td>\n",
       "      <td>25.872668</td>\n",
       "      <td>5.250516</td>\n",
       "    </tr>\n",
       "    <tr>\n",
       "      <td>std</td>\n",
       "      <td>5.463069</td>\n",
       "      <td>2.056745</td>\n",
       "    </tr>\n",
       "    <tr>\n",
       "      <td>min</td>\n",
       "      <td>4.000000</td>\n",
       "      <td>2.000000</td>\n",
       "    </tr>\n",
       "    <tr>\n",
       "      <td>25%</td>\n",
       "      <td>22.000000</td>\n",
       "      <td>4.000000</td>\n",
       "    </tr>\n",
       "    <tr>\n",
       "      <td>50%</td>\n",
       "      <td>26.000000</td>\n",
       "      <td>5.000000</td>\n",
       "    </tr>\n",
       "    <tr>\n",
       "      <td>75%</td>\n",
       "      <td>30.000000</td>\n",
       "      <td>6.000000</td>\n",
       "    </tr>\n",
       "    <tr>\n",
       "      <td>max</td>\n",
       "      <td>63.000000</td>\n",
       "      <td>31.000000</td>\n",
       "    </tr>\n",
       "  </tbody>\n",
       "</table>\n",
       "</div>"
      ],
      "text/plain": [
       "               text       summary\n",
       "count  42181.000000  42181.000000\n",
       "mean      25.872668      5.250516\n",
       "std        5.463069      2.056745\n",
       "min        4.000000      2.000000\n",
       "25%       22.000000      4.000000\n",
       "50%       26.000000      5.000000\n",
       "75%       30.000000      6.000000\n",
       "max       63.000000     31.000000"
      ]
     },
     "execution_count": 105,
     "metadata": {},
     "output_type": "execute_result"
    }
   ],
   "source": [
    "lengths.describe()"
   ]
  },
  {
   "cell_type": "code",
   "execution_count": 106,
   "metadata": {},
   "outputs": [
    {
     "data": {
      "text/plain": [
       "(63, 6)"
      ]
     },
     "execution_count": 106,
     "metadata": {},
     "output_type": "execute_result"
    }
   ],
   "source": [
    "text_len = int(lengths['text'].max())\n",
    "summary_len = int(lengths['summary'].quantile(q=0.75))\n",
    "\n",
    "text_len, summary_len"
   ]
  },
  {
   "cell_type": "code",
   "execution_count": 107,
   "metadata": {},
   "outputs": [],
   "source": [
    "from sklearn.model_selection import train_test_split"
   ]
  },
  {
   "cell_type": "code",
   "execution_count": 108,
   "metadata": {},
   "outputs": [
    {
     "data": {
      "text/plain": [
       "((37962,), (4219,))"
      ]
     },
     "execution_count": 108,
     "metadata": {},
     "output_type": "execute_result"
    }
   ],
   "source": [
    "X_train, X_test, y_train, y_test = train_test_split(reviews['text'], reviews['summary'], test_size=0.1, shuffle=True)\n",
    "\n",
    "X_train.shape, X_test.shape"
   ]
  },
  {
   "cell_type": "code",
   "execution_count": 109,
   "metadata": {},
   "outputs": [],
   "source": [
    "X_tokenizer = tf.keras.preprocessing.text.Tokenizer()\n",
    "X_tokenizer.fit_on_texts(reviews['text'])\n",
    "\n",
    "y_tokenizer = tf.keras.preprocessing.text.Tokenizer()\n",
    "y_tokenizer.fit_on_texts(reviews['summary'])"
   ]
  },
  {
   "cell_type": "code",
   "execution_count": 110,
   "metadata": {},
   "outputs": [
    {
     "data": {
      "text/plain": [
       "1"
      ]
     },
     "execution_count": 110,
     "metadata": {},
     "output_type": "execute_result"
    }
   ],
   "source": [
    "y_tokenizer.word_index['sostok']"
   ]
  },
  {
   "cell_type": "code",
   "execution_count": 111,
   "metadata": {},
   "outputs": [],
   "source": [
    "X_train = X_tokenizer.texts_to_sequences(X_train)\n",
    "X_test = X_tokenizer.texts_to_sequences(X_test)\n",
    "\n",
    "y_train = y_tokenizer.texts_to_sequences(y_train)\n",
    "y_test = y_tokenizer.texts_to_sequences(y_test)"
   ]
  },
  {
   "cell_type": "code",
   "execution_count": 112,
   "metadata": {},
   "outputs": [],
   "source": [
    "X_train = tf.keras.preprocessing.sequence.pad_sequences(X_train, maxlen=text_len, padding='post')\n",
    "X_test = tf.keras.preprocessing.sequence.pad_sequences(X_test, maxlen=text_len, padding='post')\n",
    "\n",
    "y_train = tf.keras.preprocessing.sequence.pad_sequences(y_train, maxlen=summary_len, padding='post')\n",
    "y_test = tf.keras.preprocessing.sequence.pad_sequences(y_test, maxlen=summary_len, padding='post')"
   ]
  },
  {
   "cell_type": "code",
   "execution_count": 113,
   "metadata": {},
   "outputs": [
    {
     "name": "stdout",
     "output_type": "stream",
     "text": [
      "Wall time: 36.2 s\n"
     ]
    }
   ],
   "source": [
    "%%time\n",
    "glove_embeddings = np.load('../../Resources/glove.840B.300d.pkl', allow_pickle=True)"
   ]
  },
  {
   "cell_type": "code",
   "execution_count": 114,
   "metadata": {},
   "outputs": [],
   "source": [
    "def map_embeddings(emb_index, tokenizer=X_tokenizer, latent_dim=300):\n",
    "    emb_matrix = np.zeros((len(tokenizer.word_index)+1, latent_dim), dtype='float32')\n",
    "    \n",
    "    for word, i in tokenizer.word_index.items():\n",
    "        emb_vector = emb_index.get(word)\n",
    "        if emb_vector is not None:\n",
    "            emb_matrix[i] = emb_vector\n",
    "    return emb_matrix"
   ]
  },
  {
   "cell_type": "code",
   "execution_count": 115,
   "metadata": {},
   "outputs": [
    {
     "data": {
      "text/plain": [
       "((20906, 300), (9574, 300))"
      ]
     },
     "execution_count": 115,
     "metadata": {},
     "output_type": "execute_result"
    }
   ],
   "source": [
    "text_embeddings = map_embeddings(glove_embeddings)\n",
    "summary_embeddings = map_embeddings(glove_embeddings, tokenizer=y_tokenizer)\n",
    "\n",
    "text_embeddings.shape, summary_embeddings.shape"
   ]
  },
  {
   "cell_type": "code",
   "execution_count": 116,
   "metadata": {},
   "outputs": [],
   "source": [
    "del glove_embeddings"
   ]
  },
  {
   "cell_type": "markdown",
   "metadata": {},
   "source": [
    "### Summarization with Attention"
   ]
  },
  {
   "cell_type": "code",
   "execution_count": 117,
   "metadata": {},
   "outputs": [],
   "source": [
    "latent_dim = 500"
   ]
  },
  {
   "cell_type": "code",
   "execution_count": 118,
   "metadata": {},
   "outputs": [],
   "source": [
    "from attention_keras.layers.attention import AttentionLayer"
   ]
  },
  {
   "cell_type": "code",
   "execution_count": 119,
   "metadata": {},
   "outputs": [
    {
     "name": "stdout",
     "output_type": "stream",
     "text": [
      "Model: \"model_1\"\n",
      "__________________________________________________________________________________________________\n",
      "Layer (type)                    Output Shape         Param #     Connected to                     \n",
      "==================================================================================================\n",
      "encoder_inputs (InputLayer)     [(None, 63)]         0                                            \n",
      "__________________________________________________________________________________________________\n",
      "decoder_inputs (InputLayer)     [(None, None)]       0                                            \n",
      "__________________________________________________________________________________________________\n",
      "text_embeddings (Embedding)     (None, 63, 300)      6271800     encoder_inputs[0][0]             \n",
      "__________________________________________________________________________________________________\n",
      "summary_embeddings (Embedding)  (None, None, 300)    2872200     decoder_inputs[0][0]             \n",
      "__________________________________________________________________________________________________\n",
      "encoder_lstm2 (LSTM)            [(None, 63, 500), (N 1602000     text_embeddings[0][0]            \n",
      "__________________________________________________________________________________________________\n",
      "decoder_lstm (LSTM)             [(None, None, 500),  1602000     summary_embeddings[0][0]         \n",
      "                                                                 encoder_lstm2[0][1]              \n",
      "                                                                 encoder_lstm2[0][2]              \n",
      "__________________________________________________________________________________________________\n",
      "attention_layer (AttentionLayer ((None, None, 500),  500500      encoder_lstm2[0][0]              \n",
      "                                                                 decoder_lstm[0][0]               \n",
      "__________________________________________________________________________________________________\n",
      "concat_layer (Concatenate)      (None, None, 1000)   0           decoder_lstm[0][0]               \n",
      "                                                                 attention_layer[0][0]            \n",
      "__________________________________________________________________________________________________\n",
      "time_distributed_1 (TimeDistrib (None, None, 9574)   9583574     concat_layer[0][0]               \n",
      "==================================================================================================\n",
      "Total params: 22,432,074\n",
      "Trainable params: 13,288,074\n",
      "Non-trainable params: 9,144,000\n",
      "__________________________________________________________________________________________________\n"
     ]
    }
   ],
   "source": [
    "## ENCODER\n",
    "encoder_inputs = tf.keras.layers.Input(shape=(text_len, ), name='encoder_inputs')\n",
    "X_embeddings = tf.keras.layers.Embedding(len(X_tokenizer.word_index)+1, 300, \n",
    "                                              trainable=False, weights=[text_embeddings],\n",
    "                                              name='text_embeddings')\n",
    "encoder_embeddings = X_embeddings(encoder_inputs)\n",
    "\n",
    "## LSTM - 1\n",
    "encoder_lstm1 = tf.keras.layers.LSTM(latent_dim, return_sequences=True, return_state=True, name='encoder_lstm1')\n",
    "encoder_output1, state_h1, state_c1 = encoder_lstm1(encoder_embeddings)\n",
    "\n",
    "## LSTM - 2\n",
    "encoder_lstm2 = tf.keras.layers.LSTM(latent_dim, return_sequences=True, return_state=True, name='encoder_lstm2')\n",
    "encoder_outputs, state_h, state_c = encoder_lstm2(encoder_embeddings)\n",
    "\n",
    "\n",
    "\n",
    "## DECODER\n",
    "decoder_inputs = tf.keras.layers.Input(shape=(None, ), name='decoder_inputs')\n",
    "y_embeddings = tf.keras.layers.Embedding(len(y_tokenizer.word_index)+1, 300, \n",
    "                                              trainable=False, weights=[summary_embeddings], \n",
    "                                              name='summary_embeddings')\n",
    "decoder_embeddings = y_embeddings(decoder_inputs)\n",
    "\n",
    "## Decoder LSTM using encoder_states as initial states\n",
    "decoder_lstm = tf.keras.layers.LSTM(latent_dim, return_sequences=True, return_state=True, name='decoder_lstm')\n",
    "decoder_outputs, decoder_fwd_state, decoder_back_state = decoder_lstm(decoder_embeddings, initial_state=[state_h, state_c])\n",
    "\n",
    "\n",
    "## ATTENTION\n",
    "attn_layer = AttentionLayer(name='attention_layer')\n",
    "attn_out, attn_states = attn_layer([encoder_outputs, decoder_outputs])\n",
    "\n",
    "\n",
    "## CONCAT\n",
    "decoder_concat = tf.keras.layers.Concatenate(axis=-1, name='concat_layer') ([decoder_outputs, attn_out])\n",
    "\n",
    "## DENSE\n",
    "decoder_dense = tf.keras.layers.TimeDistributed(tf.keras.layers.Dense(len(y_tokenizer.word_index)+1, activation='softmax'))\n",
    "decoder_outputs = decoder_dense(decoder_concat)\n",
    "\n",
    "\n",
    "## MODEL\n",
    "model = tf.keras.models.Model([encoder_inputs, decoder_inputs], decoder_outputs)\n",
    "model.summary()"
   ]
  },
  {
   "cell_type": "code",
   "execution_count": 120,
   "metadata": {},
   "outputs": [],
   "source": [
    "model.compile(optimizer='adam', loss='sparse_categorical_crossentropy')"
   ]
  },
  {
   "cell_type": "code",
   "execution_count": 121,
   "metadata": {},
   "outputs": [
    {
     "data": {
      "text/plain": [
       "'../../Resources/models/document_summarization/init_summarizer.h5'"
      ]
     },
     "execution_count": 121,
     "metadata": {},
     "output_type": "execute_result"
    }
   ],
   "source": [
    "import os\n",
    "model_name = 'init_summarizer.h5'\n",
    "model_path = '../../Resources/models/document_summarization/'\n",
    "\n",
    "final_savepath = os.path.join(model_path, model_name)\n",
    "final_savepath"
   ]
  },
  {
   "cell_type": "code",
   "execution_count": 122,
   "metadata": {},
   "outputs": [],
   "source": [
    "cbks = [\n",
    "    tf.keras.callbacks.ModelCheckpoint(final_savepath),\n",
    "    tf.keras.callbacks.EarlyStopping(monitor='loss', patience=5)\n",
    "]"
   ]
  },
  {
   "cell_type": "code",
   "execution_count": 182,
   "metadata": {
    "scrolled": true
   },
   "outputs": [
    {
     "name": "stdout",
     "output_type": "stream",
     "text": [
      "Train on 37962 samples\n",
      "37962/37962 [==============================] - 654s 17ms/sample - loss: 0.1975\n"
     ]
    },
    {
     "data": {
      "text/plain": [
       "<tensorflow.python.keras.callbacks.History at 0x26abaec3388>"
      ]
     },
     "execution_count": 182,
     "metadata": {},
     "output_type": "execute_result"
    }
   ],
   "source": [
    "## Trained it for around 23 epochs, the params here say 1 but there were ~21 more \n",
    "\n",
    "model.fit([X_train, y_train[:, :-1]], y_train.reshape(y_train.shape[0], y_train.shape[1], 1)[:, 1:],\n",
    "          epochs=1, batch_size=64, callbacks=cbks)"
   ]
  },
  {
   "cell_type": "markdown",
   "metadata": {},
   "source": [
    "### Predictions"
   ]
  },
  {
   "cell_type": "code",
   "execution_count": 183,
   "metadata": {},
   "outputs": [
    {
     "name": "stdout",
     "output_type": "stream",
     "text": [
      "Model: \"model_10\"\n",
      "__________________________________________________________________________________________________\n",
      "Layer (type)                    Output Shape         Param #     Connected to                     \n",
      "==================================================================================================\n",
      "decoder_inputs (InputLayer)     [(None, None)]       0                                            \n",
      "__________________________________________________________________________________________________\n",
      "summary_embeddings (Embedding)  (None, None, 300)    2872200     decoder_inputs[0][0]             \n",
      "__________________________________________________________________________________________________\n",
      "input_14 (InputLayer)           [(None, 500)]        0                                            \n",
      "__________________________________________________________________________________________________\n",
      "input_15 (InputLayer)           [(None, 500)]        0                                            \n",
      "__________________________________________________________________________________________________\n",
      "decoder_lstm (LSTM)             [(None, None, 500),  1602000     summary_embeddings[4][0]         \n",
      "                                                                 input_14[0][0]                   \n",
      "                                                                 input_15[0][0]                   \n",
      "__________________________________________________________________________________________________\n",
      "input_16 (InputLayer)           [(None, 63, 500)]    0                                            \n",
      "__________________________________________________________________________________________________\n",
      "attention_layer (AttentionLayer ((None, None, 500),  500500      input_16[0][0]                   \n",
      "                                                                 decoder_lstm[4][0]               \n",
      "__________________________________________________________________________________________________\n",
      "concat (Concatenate)            (None, None, 1000)   0           decoder_lstm[4][0]               \n",
      "                                                                 attention_layer[3][0]            \n",
      "__________________________________________________________________________________________________\n",
      "time_distributed_1 (TimeDistrib (None, None, 9574)   9583574     concat[0][0]                     \n",
      "==================================================================================================\n",
      "Total params: 14,558,274\n",
      "Trainable params: 11,686,074\n",
      "Non-trainable params: 2,872,200\n",
      "__________________________________________________________________________________________________\n"
     ]
    }
   ],
   "source": [
    "encoder_model = tf.keras.models.Model(inputs=encoder_inputs, outputs=[encoder_outputs, state_h, state_c])\n",
    "\n",
    "\n",
    "## Tensors to hold states of prev timestep\n",
    "decoder_state_input_h = tf.keras.layers.Input(shape=(latent_dim, ))\n",
    "decoder_state_input_c = tf.keras.layers.Input(shape=(latent_dim, ))\n",
    "decoder_hidden_state_input = tf.keras.layers.Input(shape=(text_len, latent_dim))\n",
    "\n",
    "## Get embeddings of decoder sequence\n",
    "decoder_embeddings_2 = y_embeddings(decoder_inputs)\n",
    "\n",
    "## Set the initial states to the states of the prev timestep\n",
    "decoder_outputs2, state_h2, state_c2 = decoder_lstm(decoder_embeddings_2, initial_state=[decoder_state_input_h, decoder_state_input_c])\n",
    "\n",
    "## Attention inference\n",
    "attention_inference, attention_inference_states = attn_layer([decoder_hidden_state_input, decoder_outputs2])\n",
    "decoder_inference_concat = tf.keras.layers.Concatenate(axis=-1, name='concat')([decoder_outputs2, attention_inference])\n",
    "\n",
    "## Softmax for prob dist\n",
    "decoder_outputs2 = decoder_dense(decoder_inference_concat)\n",
    "\n",
    "## Final decoder\n",
    "decoder_model = tf.keras.models.Model([decoder_inputs] + [decoder_hidden_state_input, decoder_state_input_h, decoder_state_input_c],\n",
    "                                      [decoder_outputs2] + [state_h2, state_c2])\n",
    "\n",
    "\n",
    "decoder_model.summary()"
   ]
  },
  {
   "cell_type": "code",
   "execution_count": 184,
   "metadata": {},
   "outputs": [],
   "source": [
    "y_tokenizer.index_word[0] = '<pad>'"
   ]
  },
  {
   "cell_type": "code",
   "execution_count": 185,
   "metadata": {},
   "outputs": [],
   "source": [
    "def decode_sequence(input_seq):\n",
    "    \n",
    "    ## Encode the inputs\n",
    "    e_out, e_h, e_c = encoder_model.predict(input_seq)\n",
    "    \n",
    "    ## Initialize an empty target seq of len 1\n",
    "    target_seq = np.zeros((1, 1))\n",
    "    \n",
    "    ## Set the first word of target sequence as index of sostok\n",
    "    target_seq[0, 0] = y_tokenizer.word_index['sostok']\n",
    "    \n",
    "    stop_condition = False\n",
    "    decoded_sequence = ''\n",
    "    \n",
    "    ## Loop to predict the remaining sequence\n",
    "    while not stop_condition:\n",
    "        \n",
    "        output_tokens, h, c = decoder_model.predict([target_seq] + [e_out, e_h, e_c])\n",
    "        \n",
    "        ## Sample a token\n",
    "        sampled_token_index = np.argmax(output_tokens[0, -1, :])\n",
    "        sampled_token = y_tokenizer.index_word[sampled_token_index]\n",
    "#         print(sampled_token)\n",
    "        \n",
    "        if sampled_token != 'eostok':\n",
    "            decoded_sequence += ' ' + sampled_token\n",
    "            \n",
    "        ## Stop condition check - if eostok is predicted of max len is reached\n",
    "        if sampled_token == 'eostok' or len(decoded_sequence.split()) >= (summary_len - 1):\n",
    "            stop_condition = True\n",
    "            \n",
    "        ## Update target sequence with currently predicted token index for next loop\n",
    "        target_seq = np.zeros((1, 1))\n",
    "        target_seq[0, 0] = sampled_token_index\n",
    "        \n",
    "        ## Update transformer states\n",
    "        e_h, e_c = h, c\n",
    "        \n",
    "    return decoded_sequence"
   ]
  },
  {
   "cell_type": "code",
   "execution_count": 186,
   "metadata": {},
   "outputs": [],
   "source": [
    "def seq2summary(input_seq, y_tokenizer=y_tokenizer):\n",
    "    text = ''\n",
    "    \n",
    "    for i in input_seq:\n",
    "        if i != 0 and i != y_tokenizer.word_index['sostok'] and i != y_tokenizer.word_index['eostok']:\n",
    "            text = text + y_tokenizer.index_word[i] + ' '\n",
    "            \n",
    "    return text"
   ]
  },
  {
   "cell_type": "code",
   "execution_count": 187,
   "metadata": {},
   "outputs": [],
   "source": [
    "def seq2text(input_seq, y_tokenizer=y_tokenizer):\n",
    "    text = ''\n",
    "    \n",
    "    for i in input_seq:\n",
    "        if i != 0:\n",
    "            text = text + y_tokenizer.index_word[i] + ' '\n",
    "    \n",
    "    return text"
   ]
  },
  {
   "cell_type": "markdown",
   "metadata": {},
   "source": [
    "### Summarization"
   ]
  },
  {
   "cell_type": "code",
   "execution_count": 192,
   "metadata": {
    "scrolled": true
   },
   "outputs": [
    {
     "name": "stdout",
     "output_type": "stream",
     "text": [
      "* Review: eostok people but sostok poor is coffee taste missing great good taste jerkey orange variety fire tasty eostok drink and sampler good always \n",
      "\n",
      "* Original Summary: awful \n",
      "\n",
      "* Predicted Summary:  not very good\n",
      "\n",
      "* Review: eostok gift my not it stops great pasta water flavor i super came great love disappointed tomatoes the product big not much yuck do jack \n",
      "\n",
      "* Original Summary: great gift \n",
      "\n",
      "* Predicted Summary:  great chocolates\n",
      "\n",
      "* Review: it was than coffee cereal sostok teeth wife tea carb great lovely excellent sostok horrible everyday great plant workday not addicted eostok but sostok loves rich pear w burgers \n",
      "\n",
      "* Original Summary: my dog loves this food \n",
      "\n",
      "* Predicted Summary:  tasty and chewy\n",
      "\n",
      "* Review: coffee goodness best and candy pretty is rice nice yum mix eostok know love described powder treat chips delicious excellent flavored nice \n",
      "\n",
      "* Original Summary: awesome for breakfast \n",
      "\n",
      "* Predicted Summary:  good value\n",
      "\n",
      "* Review: of coffee find priced gift good not it noodles go mexican no pasta drink and treats good a sostok columbian rip pasta finger \n",
      "\n",
      "* Original Summary: countrytime lemonade \n",
      "\n",
      "* Predicted Summary:  great\n",
      "\n"
     ]
    }
   ],
   "source": [
    "for i in range(10, 15):\n",
    "    print('* Review: {}\\n'.format(seq2text(X_test[i])))\n",
    "    print('* Original Summary: {}\\n'.format(seq2summary(y_test[i])))\n",
    "    print('* Predicted Summary: {}\\n'.format(decode_sequence(X_test[i].reshape(1, text_len))))"
   ]
  },
  {
   "cell_type": "code",
   "execution_count": 224,
   "metadata": {},
   "outputs": [],
   "source": [
    "def summarize(input_seq, X_tokenizer=X_tokenizer):\n",
    "    input_seq = clean(input_seq)\n",
    "    input_seq = [input_seq]\n",
    "    input_seq = X_tokenizer.texts_to_sequences(input_seq)\n",
    "    input_seq = tf.keras.preprocessing.sequence.pad_sequences(input_seq, maxlen=text_len, padding='post')\n",
    "    \n",
    "    return decode_sequence(input_seq.reshape(1, -1))"
   ]
  },
  {
   "cell_type": "code",
   "execution_count": 228,
   "metadata": {},
   "outputs": [
    {
     "data": {
      "text/plain": [
       "' it works'"
      ]
     },
     "execution_count": 228,
     "metadata": {},
     "output_type": "execute_result"
    }
   ],
   "source": [
    "input_seq = \"it isn't that great, it causes problems sometimes, but for the money it charges, i can't complain\"\n",
    "summarize(input_seq)"
   ]
  },
  {
   "cell_type": "markdown",
   "metadata": {},
   "source": [
    "### It takes quite a while to train it, even with a subset of the data. If data size is increased and more training time is allocated, the performanace can be improved."
   ]
  },
  {
   "cell_type": "code",
   "execution_count": null,
   "metadata": {},
   "outputs": [],
   "source": []
  }
 ],
 "metadata": {
  "kernelspec": {
   "display_name": "Python 3",
   "language": "python",
   "name": "python3"
  },
  "language_info": {
   "codemirror_mode": {
    "name": "ipython",
    "version": 3
   },
   "file_extension": ".py",
   "mimetype": "text/x-python",
   "name": "python",
   "nbconvert_exporter": "python",
   "pygments_lexer": "ipython3",
   "version": "3.7.4"
  }
 },
 "nbformat": 4,
 "nbformat_minor": 2
}
