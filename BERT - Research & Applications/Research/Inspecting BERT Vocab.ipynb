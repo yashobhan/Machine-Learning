{
 "cells": [
  {
   "cell_type": "markdown",
   "metadata": {
    "colab_type": "text",
    "id": "26RJ6Aw-bs9Y"
   },
   "source": [
    "# Inspecting BERT Vocab"
   ]
  },
  {
   "cell_type": "code",
   "execution_count": 0,
   "metadata": {
    "colab": {},
    "colab_type": "code",
    "id": "MsAQwxxxbvIN"
   },
   "outputs": [],
   "source": [
    "import transformers\n",
    "import torch"
   ]
  },
  {
   "cell_type": "code",
   "execution_count": null,
   "metadata": {
    "colab": {
     "base_uri": "https://localhost:8080/",
     "height": 67,
     "referenced_widgets": [
      "8bb08df810c14d9893046116418965b0",
      "5ac00725dcf64a9d96dac647d15c61ec",
      "ff77b481bd5a48069469fe303f752ce3",
      "3ca47bb7dff74627ae1984780c6f9866",
      "bfc6e388604746d7bd4586c3839152d1",
      "622179b2d8d64922afa47c1ee34e63a5",
      "90f6ff8dbdb746c4bbda3a260cd7a6ef",
      "dc78e8425a5a49d1981d47a0137e0b1a"
     ]
    },
    "colab_type": "code",
    "id": "16A3YcTNbygr",
    "outputId": "1b714823-13a3-4072-b269-87c5b1d91f77"
   },
   "outputs": [],
   "source": [
    "tokenizer = transformers.BertTokenizer.from_pretrained('bert-base-cased')"
   ]
  },
  {
   "cell_type": "code",
   "execution_count": 0,
   "metadata": {
    "colab": {},
    "colab_type": "code",
    "id": "2XKTXRKSb9w-"
   },
   "outputs": [],
   "source": [
    "vocab = dict(tokenizer.vocab)"
   ]
  },
  {
   "cell_type": "markdown",
   "metadata": {
    "colab_type": "text",
    "id": "7L3vbGjxcV8s"
   },
   "source": [
    "## Vocab Analysis"
   ]
  },
  {
   "cell_type": "markdown",
   "metadata": {
    "colab_type": "text",
    "id": "O3098zV6ctR6"
   },
   "source": [
    "- The first 999 tokens (1-indexded) are reserved, mostly of the form [unused[1]]\n",
    "\n",
    "- Row 1000-1996 appear to be individual characters\n",
    "  - They don't appear to be sorted by frequency\n",
    "\n",
    "- The first word is \"the\" at position 1997\n",
    "  - The words appear to be sorted by frequency after that\n",
    "  - Top ~18 words are whole words, then the number 2016 is ##s, presumably the most common sub-word\n",
    "  - The last whole word is 29612, \"necessitated\"\n",
    "\n",
    "- Starbucks is a part of the vocabulary for some reason"
   ]
  },
  {
   "cell_type": "markdown",
   "metadata": {
    "colab_type": "text",
    "id": "fO2xXhF3eGmZ"
   },
   "source": [
    "### Single Characters"
   ]
  },
  {
   "cell_type": "code",
   "execution_count": 0,
   "metadata": {
    "colab": {},
    "colab_type": "code",
    "id": "74gjBGYfeNbf"
   },
   "outputs": [],
   "source": [
    "one_chars = []\n",
    "one_chars_hashes = []\n",
    "\n",
    "for token in vocab.keys():\n",
    "    if len(token) == 1:\n",
    "        one_chars.append(token)\n",
    "\n",
    "    elif len(token) == 3 and token[0:2] == '##':\n",
    "        one_chars_hashes.append(token)"
   ]
  },
  {
   "cell_type": "code",
   "execution_count": 25,
   "metadata": {
    "colab": {
     "base_uri": "https://localhost:8080/",
     "height": 74
    },
    "colab_type": "code",
    "id": "y6AJRNZ7eqdZ",
    "outputId": "3cb61fa4-0815-4cce-c1dc-6ea8a97463e0"
   },
   "outputs": [
    {
     "name": "stdout",
     "output_type": "stream",
     "text": [
      "Number of single character tokens:  997\n",
      "! \" # $ % & ' ( ) * + , - . / 0 1 2 3 4 5 6 7 8 9 : ; < = > ? @ A B C D E F G H I J K L M N O P Q R S T U V W X Y Z [ \\ ] ^ _ ` a b c d e f g h i j k l m n o p q r s t u v w x y z { | } ~ ¡ ¢ £ ¥ § ¨ © ª « ¬ ® ° ± ² ³ ´ µ ¶ · ¹ º » ¼ ½ ¾ ¿ À Á Â Ä Å Æ Ç È É Í Î Ñ Ó Ö × Ø Ú Ü Þ ß à á â ã ä å æ ç è é "
     ]
    }
   ],
   "source": [
    "print('Number of single character tokens: ', len(one_chars))\n",
    "\n",
    "for i in range(150):\n",
    "    print(one_chars[i], end=' ')"
   ]
  },
  {
   "cell_type": "code",
   "execution_count": 24,
   "metadata": {
    "colab": {
     "base_uri": "https://localhost:8080/",
     "height": 74
    },
    "colab_type": "code",
    "id": "WOhrlbc_ev8-",
    "outputId": "08d43ed3-8e68-4ca8-c72d-0536959e5f3c"
   },
   "outputs": [
    {
     "name": "stdout",
     "output_type": "stream",
     "text": [
      "Number of single character tokens with hashes:  997\n",
      "##s ##a ##e ##n ##d ##i ##y ##o ##r ##t ##l ##m ##h ##u ##k ##g ##1 ##2 ##3 ##4 ##6 ##7 ##0 ##5 ##9 ##z ##A ##8 ##p ##C ##c ##S ##x ##b ##T ##v ##E ##B ##R ##f ##P ##M ##D ##L ##I ##w ##N ##F ##O ##G ##K ##V ##U ##é ##W ##H ##X ##j ##Y ##q ##J ##ō ##Q ##Z ##á ##í ##ć ##° ##ó ##₂ ##à ##ā ##ū ##š ##а ##² ##ī ##₃ ##₁ ##ı ##ú ##⁺ ##ë ##₄ ##ý ##½ ##я ##ă ##ه ##α ##ي ##å ##о ##й ##н ##ü ##и ##ä ##ن ##ø ##ς ##د ##ş ##č ##₀ ##ń ##ö ##е ##³ ##ر ##ò ##р ##ł ##ₙ ##ᵢ ##ì ##ß ##ù ##ة ##ν ##ș ##ê ##− ##م ##♭ ##è ##! ##\" ### ##$ ##% ##& ##' ##( ##) ##* ##+ ##, ##- ##. ##/ ##: ##; ##< ##= ##> ##? ##@ ##[ ##\\ "
     ]
    }
   ],
   "source": [
    "print('Number of single character tokens with hashes: ', len(one_chars_hashes))\n",
    "for i in range(150):\n",
    "    print(one_chars_hashes[i], end=' ')"
   ]
  },
  {
   "cell_type": "markdown",
   "metadata": {
    "colab_type": "text",
    "id": "GqhAb7aafsgl"
   },
   "source": [
    "### Sub-words vs Whole words"
   ]
  },
  {
   "cell_type": "code",
   "execution_count": 26,
   "metadata": {
    "colab": {
     "base_uri": "https://localhost:8080/",
     "height": 74
    },
    "colab_type": "code",
    "id": "qDa-01vCfhKN",
    "outputId": "1df4891e-5624-41c9-bc31-38d5656f379c"
   },
   "outputs": [
    {
     "name": "stderr",
     "output_type": "stream",
     "text": [
      "/usr/local/lib/python3.6/dist-packages/statsmodels/tools/_testing.py:19: FutureWarning: pandas.util.testing is deprecated. Use the functions in the public API at pandas.testing instead.\n",
      "  import pandas.util.testing as tm\n"
     ]
    }
   ],
   "source": [
    "import matplotlib.pyplot as plt\n",
    "import seaborn as sns\n",
    "import numpy as np"
   ]
  },
  {
   "cell_type": "code",
   "execution_count": 28,
   "metadata": {
    "colab": {
     "base_uri": "https://localhost:8080/",
     "height": 424
    },
    "colab_type": "code",
    "id": "IYoZeg69fxnU",
    "outputId": "6d6cab6f-e184-4ef9-b9e8-38af08e78ffd"
   },
   "outputs": [
    {
     "name": "stdout",
     "output_type": "stream",
     "text": [
      "Max token length:  18\n"
     ]
    },
    {
     "data": {
      "image/png": "[encoded data removed]",
      "text/plain": [
       "<Figure size 864x432 with 1 Axes>"
      ]
     },
     "metadata": {
      "tags": []
     },
     "output_type": "display_data"
    }
   ],
   "source": [
    "sns.set(font_scale=1.5)\n",
    "plt.figure(figsize=(12, 6))\n",
    "\n",
    "token_lengths = [len(token) for token in vocab.keys()]\n",
    "\n",
    "sns.countplot(token_lengths)\n",
    "plt.title('Vocab Token Lengths')\n",
    "plt.xlabel('Token Length')\n",
    "plt.ylabel('No. of tokens')\n",
    "plt.tight_layout()\n",
    "\n",
    "print('Max token length: ', max(token_lengths))"
   ]
  },
  {
   "cell_type": "markdown",
   "metadata": {
    "colab_type": "text",
    "id": "s024cqKrgw8y"
   },
   "source": [
    "### Sub-word Analysis"
   ]
  },
  {
   "cell_type": "code",
   "execution_count": 0,
   "metadata": {
    "colab": {},
    "colab_type": "code",
    "id": "2ATR09D6gH4D"
   },
   "outputs": [],
   "source": [
    "num_subwords = 0\n",
    "subword_lengths = []\n",
    "\n",
    "for token in vocab.keys():\n",
    "    if len(token) >= 2 and token[:2] == '##':\n",
    "        num_subwords += 1\n",
    "        length = len(token) - 2\n",
    "        subword_lengths.append(length)"
   ]
  },
  {
   "cell_type": "code",
   "execution_count": 36,
   "metadata": {
    "colab": {
     "base_uri": "https://localhost:8080/",
     "height": 72
    },
    "colab_type": "code",
    "id": "1F2X0HlNhBGm",
    "outputId": "303d2d38-dbfc-434b-aeb6-6d8e38575890"
   },
   "outputs": [
    {
     "name": "stdout",
     "output_type": "stream",
     "text": [
      "Number of subwords:  6477\n",
      "Total size of vocab:  28996\n",
      "Percentage of subwords in vocab:  22.34\n"
     ]
    }
   ],
   "source": [
    "vocab_size = len(vocab.keys())\n",
    "print('Number of subwords: ', num_subwords)\n",
    "print('Total size of vocab: ', vocab_size)\n",
    "\n",
    "print('Percentage of subwords in vocab: ', round((num_subwords / vocab_size)*100, 2))"
   ]
  },
  {
   "cell_type": "code",
   "execution_count": 39,
   "metadata": {
    "colab": {
     "base_uri": "https://localhost:8080/",
     "height": 406
    },
    "colab_type": "code",
    "id": "0b4QaQNphThK",
    "outputId": "df0979ef-fc71-4629-bdad-09613d32a8ee"
   },
   "outputs": [
    {
     "data": {
      "image/png": "[encoded data removed]",
      "text/plain": [
       "<Figure size 864x432 with 1 Axes>"
      ]
     },
     "metadata": {
      "tags": []
     },
     "output_type": "display_data"
    }
   ],
   "source": [
    "plt.figure(figsize=(12, 6))\n",
    "sns.countplot(subword_lengths)\n",
    "plt.title('Subword Token Lengths (w/o \"##\")')\n",
    "plt.xlabel('Subword Length')\n",
    "plt.ylabel('No. of ## Subwords')\n",
    "plt.tight_layout()"
   ]
  },
  {
   "cell_type": "markdown",
   "metadata": {
    "colab_type": "text",
    "id": "Z_zeY9V5iOiJ"
   },
   "source": [
    "### Number & Date Analysis"
   ]
  },
  {
   "cell_type": "code",
   "execution_count": 41,
   "metadata": {
    "colab": {
     "base_uri": "https://localhost:8080/",
     "height": 36
    },
    "colab_type": "code",
    "id": "EMAghUYohlDX",
    "outputId": "e1572a15-4f53-4485-9a38-dbbaf473cd14"
   },
   "outputs": [
    {
     "name": "stdout",
     "output_type": "stream",
     "text": [
      "Number of numbers in vocab:  692\n"
     ]
    }
   ],
   "source": [
    "count = 0\n",
    "for token in vocab.keys():\n",
    "    if token.isdigit():\n",
    "        count += 1\n",
    "\n",
    "print('Number of numbers in vocab: ', count)"
   ]
  },
  {
   "cell_type": "code",
   "execution_count": 42,
   "metadata": {
    "colab": {
     "base_uri": "https://localhost:8080/",
     "height": 36
    },
    "colab_type": "code",
    "id": "cMQDDX0UimZB",
    "outputId": "007f8878-a9b5-4610-9105-a6ddf1f58727"
   },
   "outputs": [
    {
     "name": "stdout",
     "output_type": "stream",
     "text": [
      "Number of dates in vocab from 1600 - 2021:  295\n"
     ]
    }
   ],
   "source": [
    "dates = 0\n",
    "for i in range(1600, 2021):\n",
    "    if str(i) in vocab:\n",
    "        dates += 1\n",
    "\n",
    "print('Number of dates in vocab from 1600 - 2021: ', dates)"
   ]
  },
  {
   "cell_type": "code",
   "execution_count": 0,
   "metadata": {
    "colab": {},
    "colab_type": "code",
    "id": "fro8pZFHi0jk"
   },
   "outputs": [],
   "source": []
  }
 ],
 "metadata": {
  "colab": {
   "collapsed_sections": [],
   "name": "Inspecting BERT Vocab",
   "provenance": []
  },
  "kernelspec": {
   "display_name": "Python 3",
   "language": "python",
   "name": "python3"
  },
  "language_info": {
   "codemirror_mode": {
    "name": "ipython",
    "version": 3
   },
   "file_extension": ".py",
   "mimetype": "text/x-python",
   "name": "python",
   "nbconvert_exporter": "python",
   "pygments_lexer": "ipython3",
   "version": "3.7.6"
  },
  "widgets": {
   "application/vnd.jupyter.widget-state+json": {
    "3ca47bb7dff74627ae1984780c6f9866": {
     "model_module": "@jupyter-widgets/controls",
     "model_name": "HTMLModel",
     "state": {
      "_dom_classes": [],
      "_model_module": "@jupyter-widgets/controls",
      "_model_module_version": "1.5.0",
      "_model_name": "HTMLModel",
      "_view_count": null,
      "_view_module": "@jupyter-widgets/controls",
      "_view_module_version": "1.5.0",
      "_view_name": "HTMLView",
      "description": "",
      "description_tooltip": null,
      "layout": "IPY_MODEL_dc78e8425a5a49d1981d47a0137e0b1a",
      "placeholder": "​",
      "style": "IPY_MODEL_90f6ff8dbdb746c4bbda3a260cd7a6ef",
      "value": " 213k/213k [00:00&lt;00:00, 1.40MB/s]"
     }
    },
    "5ac00725dcf64a9d96dac647d15c61ec": {
     "model_module": "@jupyter-widgets/base",
     "model_name": "LayoutModel",
     "state": {
      "_model_module": "@jupyter-widgets/base",
      "_model_module_version": "1.2.0",
      "_model_name": "LayoutModel",
      "_view_count": null,
      "_view_module": "@jupyter-widgets/base",
      "_view_module_version": "1.2.0",
      "_view_name": "LayoutView",
      "align_content": null,
      "align_items": null,
      "align_self": null,
      "border": null,
      "bottom": null,
      "display": null,
      "flex": null,
      "flex_flow": null,
      "grid_area": null,
      "grid_auto_columns": null,
      "grid_auto_flow": null,
      "grid_auto_rows": null,
      "grid_column": null,
      "grid_gap": null,
      "grid_row": null,
      "grid_template_areas": null,
      "grid_template_columns": null,
      "grid_template_rows": null,
      "height": null,
      "justify_content": null,
      "justify_items": null,
      "left": null,
      "margin": null,
      "max_height": null,
      "max_width": null,
      "min_height": null,
      "min_width": null,
      "object_fit": null,
      "object_position": null,
      "order": null,
      "overflow": null,
      "overflow_x": null,
      "overflow_y": null,
      "padding": null,
      "right": null,
      "top": null,
      "visibility": null,
      "width": null
     }
    },
    "622179b2d8d64922afa47c1ee34e63a5": {
     "model_module": "@jupyter-widgets/base",
     "model_name": "LayoutModel",
     "state": {
      "_model_module": "@jupyter-widgets/base",
      "_model_module_version": "1.2.0",
      "_model_name": "LayoutModel",
      "_view_count": null,
      "_view_module": "@jupyter-widgets/base",
      "_view_module_version": "1.2.0",
      "_view_name": "LayoutView",
      "align_content": null,
      "align_items": null,
      "align_self": null,
      "border": null,
      "bottom": null,
      "display": null,
      "flex": null,
      "flex_flow": null,
      "grid_area": null,
      "grid_auto_columns": null,
      "grid_auto_flow": null,
      "grid_auto_rows": null,
      "grid_column": null,
      "grid_gap": null,
      "grid_row": null,
      "grid_template_areas": null,
      "grid_template_columns": null,
      "grid_template_rows": null,
      "height": null,
      "justify_content": null,
      "justify_items": null,
      "left": null,
      "margin": null,
      "max_height": null,
      "max_width": null,
      "min_height": null,
      "min_width": null,
      "object_fit": null,
      "object_position": null,
      "order": null,
      "overflow": null,
      "overflow_x": null,
      "overflow_y": null,
      "padding": null,
      "right": null,
      "top": null,
      "visibility": null,
      "width": null
     }
    },
    "8bb08df810c14d9893046116418965b0": {
     "model_module": "@jupyter-widgets/controls",
     "model_name": "HBoxModel",
     "state": {
      "_dom_classes": [],
      "_model_module": "@jupyter-widgets/controls",
      "_model_module_version": "1.5.0",
      "_model_name": "HBoxModel",
      "_view_count": null,
      "_view_module": "@jupyter-widgets/controls",
      "_view_module_version": "1.5.0",
      "_view_name": "HBoxView",
      "box_style": "",
      "children": [
       "IPY_MODEL_ff77b481bd5a48069469fe303f752ce3",
       "IPY_MODEL_3ca47bb7dff74627ae1984780c6f9866"
      ],
      "layout": "IPY_MODEL_5ac00725dcf64a9d96dac647d15c61ec"
     }
    },
    "90f6ff8dbdb746c4bbda3a260cd7a6ef": {
     "model_module": "@jupyter-widgets/controls",
     "model_name": "DescriptionStyleModel",
     "state": {
      "_model_module": "@jupyter-widgets/controls",
      "_model_module_version": "1.5.0",
      "_model_name": "DescriptionStyleModel",
      "_view_count": null,
      "_view_module": "@jupyter-widgets/base",
      "_view_module_version": "1.2.0",
      "_view_name": "StyleView",
      "description_width": ""
     }
    },
    "bfc6e388604746d7bd4586c3839152d1": {
     "model_module": "@jupyter-widgets/controls",
     "model_name": "ProgressStyleModel",
     "state": {
      "_model_module": "@jupyter-widgets/controls",
      "_model_module_version": "1.5.0",
      "_model_name": "ProgressStyleModel",
      "_view_count": null,
      "_view_module": "@jupyter-widgets/base",
      "_view_module_version": "1.2.0",
      "_view_name": "StyleView",
      "bar_color": null,
      "description_width": "initial"
     }
    },
    "dc78e8425a5a49d1981d47a0137e0b1a": {
     "model_module": "@jupyter-widgets/base",
     "model_name": "LayoutModel",
     "state": {
      "_model_module": "@jupyter-widgets/base",
      "_model_module_version": "1.2.0",
      "_model_name": "LayoutModel",
      "_view_count": null,
      "_view_module": "@jupyter-widgets/base",
      "_view_module_version": "1.2.0",
      "_view_name": "LayoutView",
      "align_content": null,
      "align_items": null,
      "align_self": null,
      "border": null,
      "bottom": null,
      "display": null,
      "flex": null,
      "flex_flow": null,
      "grid_area": null,
      "grid_auto_columns": null,
      "grid_auto_flow": null,
      "grid_auto_rows": null,
      "grid_column": null,
      "grid_gap": null,
      "grid_row": null,
      "grid_template_areas": null,
      "grid_template_columns": null,
      "grid_template_rows": null,
      "height": null,
      "justify_content": null,
      "justify_items": null,
      "left": null,
      "margin": null,
      "max_height": null,
      "max_width": null,
      "min_height": null,
      "min_width": null,
      "object_fit": null,
      "object_position": null,
      "order": null,
      "overflow": null,
      "overflow_x": null,
      "overflow_y": null,
      "padding": null,
      "right": null,
      "top": null,
      "visibility": null,
      "width": null
     }
    },
    "ff77b481bd5a48069469fe303f752ce3": {
     "model_module": "@jupyter-widgets/controls",
     "model_name": "FloatProgressModel",
     "state": {
      "_dom_classes": [],
      "_model_module": "@jupyter-widgets/controls",
      "_model_module_version": "1.5.0",
      "_model_name": "FloatProgressModel",
      "_view_count": null,
      "_view_module": "@jupyter-widgets/controls",
      "_view_module_version": "1.5.0",
      "_view_name": "ProgressView",
      "bar_style": "success",
      "description": "Downloading: 100%",
      "description_tooltip": null,
      "layout": "IPY_MODEL_622179b2d8d64922afa47c1ee34e63a5",
      "max": 213450,
      "min": 0,
      "orientation": "horizontal",
      "style": "IPY_MODEL_bfc6e388604746d7bd4586c3839152d1",
      "value": 213450
     }
    }
   }
  }
 },
 "nbformat": 4,
 "nbformat_minor": 1
}
