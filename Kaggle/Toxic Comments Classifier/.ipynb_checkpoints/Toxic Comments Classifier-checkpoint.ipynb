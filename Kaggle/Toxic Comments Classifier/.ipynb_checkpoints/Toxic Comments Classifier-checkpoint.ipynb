{
 "cells": [
  {
   "cell_type": "code",
   "execution_count": 1,
   "metadata": {
    "_cell_guid": "79c7e3d0-c299-4dcb-8224-4455121ee9b0",
    "_uuid": "d629ff2d2480ee46fbb7e2d37f6b5fab8052498a"
   },
   "outputs": [],
   "source": [
    "import re\n",
    "import  numpy as np\n",
    "import pandas as pd\n",
    "import tensorflow as tf\n",
    "\n",
    "from sklearn import preprocessing\n",
    "from sklearn.model_selection import train_test_split\n",
    "from sklearn import metrics\n",
    "from sklearn import pipeline\n",
    "\n",
    "import matplotlib.pyplot as plt\n",
    "import seaborn as sns"
   ]
  },
  {
   "cell_type": "code",
   "execution_count": 47,
   "metadata": {},
   "outputs": [],
   "source": [
    "def plot(model, name='Simple RNN'):\n",
    "    \n",
    "    plt.subplot(1, 2, 1)\n",
    "    plt.plot(model.history.history['accuracy'], c='b', label='Train Acc')\n",
    "    plt.plot(model.history.history['val_accuracy'], c='g', label='Test Acc')\n",
    "    plt.title('{} - Training/Testig Accuracy'.format(name))\n",
    "    \n",
    "    plt.legend()\n",
    "\n",
    "    plt.subplot(1, 2, 2)\n",
    "    plt.plot(model.history.history['loss'], c='r', label='Train Loss')\n",
    "    plt.plot(model.history.history['val_loss'], c='g', label='Test Loss')\n",
    "    plt.title('{} - Testing Loss'.format(name))\n",
    "    \n",
    "    plt.legend()\n",
    "\n",
    "    plt.show()"
   ]
  },
  {
   "cell_type": "code",
   "execution_count": 3,
   "metadata": {
    "scrolled": true
   },
   "outputs": [
    {
     "data": {
      "text/plain": [
       "True"
      ]
     },
     "execution_count": 3,
     "metadata": {},
     "output_type": "execute_result"
    }
   ],
   "source": [
    "tf.test.is_gpu_available()"
   ]
  },
  {
   "cell_type": "markdown",
   "metadata": {},
   "source": [
    "### Data Loading"
   ]
  },
  {
   "cell_type": "code",
   "execution_count": 4,
   "metadata": {},
   "outputs": [
    {
     "data": {
      "text/html": [
       "<div>\n",
       "<style scoped>\n",
       "    .dataframe tbody tr th:only-of-type {\n",
       "        vertical-align: middle;\n",
       "    }\n",
       "\n",
       "    .dataframe tbody tr th {\n",
       "        vertical-align: top;\n",
       "    }\n",
       "\n",
       "    .dataframe thead th {\n",
       "        text-align: right;\n",
       "    }\n",
       "</style>\n",
       "<table border=\"1\" class=\"dataframe\">\n",
       "  <thead>\n",
       "    <tr style=\"text-align: right;\">\n",
       "      <th></th>\n",
       "      <th>id</th>\n",
       "      <th>comment_text</th>\n",
       "      <th>toxic</th>\n",
       "      <th>severe_toxic</th>\n",
       "      <th>obscene</th>\n",
       "      <th>threat</th>\n",
       "      <th>insult</th>\n",
       "      <th>identity_hate</th>\n",
       "    </tr>\n",
       "  </thead>\n",
       "  <tbody>\n",
       "    <tr>\n",
       "      <td>0</td>\n",
       "      <td>0000997932d777bf</td>\n",
       "      <td>Explanation\\nWhy the edits made under my usern...</td>\n",
       "      <td>0</td>\n",
       "      <td>0</td>\n",
       "      <td>0</td>\n",
       "      <td>0</td>\n",
       "      <td>0</td>\n",
       "      <td>0</td>\n",
       "    </tr>\n",
       "    <tr>\n",
       "      <td>1</td>\n",
       "      <td>000103f0d9cfb60f</td>\n",
       "      <td>D'aww! He matches this background colour I'm s...</td>\n",
       "      <td>0</td>\n",
       "      <td>0</td>\n",
       "      <td>0</td>\n",
       "      <td>0</td>\n",
       "      <td>0</td>\n",
       "      <td>0</td>\n",
       "    </tr>\n",
       "    <tr>\n",
       "      <td>2</td>\n",
       "      <td>000113f07ec002fd</td>\n",
       "      <td>Hey man, I'm really not trying to edit war. It...</td>\n",
       "      <td>0</td>\n",
       "      <td>0</td>\n",
       "      <td>0</td>\n",
       "      <td>0</td>\n",
       "      <td>0</td>\n",
       "      <td>0</td>\n",
       "    </tr>\n",
       "    <tr>\n",
       "      <td>3</td>\n",
       "      <td>0001b41b1c6bb37e</td>\n",
       "      <td>\"\\nMore\\nI can't make any real suggestions on ...</td>\n",
       "      <td>0</td>\n",
       "      <td>0</td>\n",
       "      <td>0</td>\n",
       "      <td>0</td>\n",
       "      <td>0</td>\n",
       "      <td>0</td>\n",
       "    </tr>\n",
       "    <tr>\n",
       "      <td>4</td>\n",
       "      <td>0001d958c54c6e35</td>\n",
       "      <td>You, sir, are my hero. Any chance you remember...</td>\n",
       "      <td>0</td>\n",
       "      <td>0</td>\n",
       "      <td>0</td>\n",
       "      <td>0</td>\n",
       "      <td>0</td>\n",
       "      <td>0</td>\n",
       "    </tr>\n",
       "  </tbody>\n",
       "</table>\n",
       "</div>"
      ],
      "text/plain": [
       "                 id                                       comment_text  toxic  \\\n",
       "0  0000997932d777bf  Explanation\\nWhy the edits made under my usern...      0   \n",
       "1  000103f0d9cfb60f  D'aww! He matches this background colour I'm s...      0   \n",
       "2  000113f07ec002fd  Hey man, I'm really not trying to edit war. It...      0   \n",
       "3  0001b41b1c6bb37e  \"\\nMore\\nI can't make any real suggestions on ...      0   \n",
       "4  0001d958c54c6e35  You, sir, are my hero. Any chance you remember...      0   \n",
       "\n",
       "   severe_toxic  obscene  threat  insult  identity_hate  \n",
       "0             0        0       0       0              0  \n",
       "1             0        0       0       0              0  \n",
       "2             0        0       0       0              0  \n",
       "3             0        0       0       0              0  \n",
       "4             0        0       0       0              0  "
      ]
     },
     "execution_count": 4,
     "metadata": {},
     "output_type": "execute_result"
    }
   ],
   "source": [
    "data = pd.read_csv('../../../Resources/data/toxic_comments_classification/jigsaw-toxic-comment-train.csv/jigsaw-toxic-comment-train.csv')\n",
    "data.head()"
   ]
  },
  {
   "cell_type": "code",
   "execution_count": 5,
   "metadata": {},
   "outputs": [],
   "source": [
    "data = data.sample(20000)"
   ]
  },
  {
   "cell_type": "code",
   "execution_count": 6,
   "metadata": {},
   "outputs": [
    {
     "data": {
      "text/plain": [
       "(20000, 7)"
      ]
     },
     "execution_count": 6,
     "metadata": {},
     "output_type": "execute_result"
    }
   ],
   "source": [
    "data.drop(columns='id', inplace=True)\n",
    "data.shape"
   ]
  },
  {
   "cell_type": "markdown",
   "metadata": {},
   "source": [
    "### Data Cleaning"
   ]
  },
  {
   "cell_type": "code",
   "execution_count": 7,
   "metadata": {},
   "outputs": [],
   "source": [
    "contractions_dict = {     \n",
    "\"ain't\": \"am not\",\n",
    "\"aren't\": \"are not\",\n",
    "\"can't\": \"cannot\",\n",
    "\"can't've\": \"cannot have\",\n",
    "\"'cause\": \"because\",\n",
    "\"could've\": \"could have\",\n",
    "\"couldn't\": \"could not\",\n",
    "\"couldn't've\": \"could not have\",\n",
    "\"didn't\": \"did not\",\n",
    "\"doesn't\": \"does not\",\n",
    "\"don't\": \"do not\",\n",
    "\"hadn't\": \"had not\",\n",
    "\"hadn't've\": \"had not have\",\n",
    "\"hasn't\": \"has not\",\n",
    "\"haven't\": \"have not\",\n",
    "\"he'd\": \"he had\",\n",
    "\"he'd've\": \"he would have\",\n",
    "\"he'll\": \"he will\",\n",
    "\"he'll've\": \"he will have\",\n",
    "\"he's\": \"he is\",\n",
    "\"how'd\": \"how did\",\n",
    "\"how'd'y\": \"how do you\",\n",
    "\"how'll\": \"how will\",\n",
    "\"how's\": \"how is\",\n",
    "\"I'd\": \"I had\",\n",
    "\"I'd've\": \"I would have\",\n",
    "\"I'll\": \"I will\",\n",
    "\"I'll've\": \"I will have\",\n",
    "\"I'm\": \"I am\",\n",
    "\"I've\": \"I have\",\n",
    "\"isn't\": \"is not\",\n",
    "\"it'd\": \"it had\",\n",
    "\"it'd've\": \"it would have\",\n",
    "\"it'll\": \"it will\",\n",
    "\"it'll've\": \"iit will have\",\n",
    "\"it's\": \"it is\",\n",
    "\"let's\": \"let us\",\n",
    "\"ma'am\": \"madam\",\n",
    "\"mayn't\": \"may not\",\n",
    "\"might've\": \"might have\",\n",
    "\"mightn't\": \"might not\",\n",
    "\"mightn't've\": \"might not have\",\n",
    "\"must've\": \"must have\",\n",
    "\"mustn't\": \"must not\",\n",
    "\"mustn't've\": \"must not have\",\n",
    "\"needn't\": \"need not\",\n",
    "\"needn't've\": \"need not have\",\n",
    "\"o'clock\": \"of the clock\",\n",
    "\"oughtn't\": \"ought not\",\n",
    "\"oughtn't've\": \"ought not have\",\n",
    "\"shan't\": \"shall not\",\n",
    "\"sha'n't\": \"shall not\",\n",
    "\"shan't've\": \"shall not have\",\n",
    "\"she'd\": \"she had\",\n",
    "\"she'd've\": \"she would have\",\n",
    "\"she'll\": \"she will\",\n",
    "\"she'll've\": \"she will have\",\n",
    "\"she's\": \"she is\",\n",
    "\"should've\": \"should have\",\n",
    "\"shouldn't\": \"should not\",\n",
    "\"shouldn't've\": \"should not have\",\n",
    "\"so've\": \"so have\",\n",
    "\"so's\": \"so is\",\n",
    "\"that'd\": \"that had\",\n",
    "\"that'd've\": \"that would have\",\n",
    "\"that's\": \"that is\",\n",
    "\"there'd\": \"there had\",\n",
    "\"there'd've\": \"there would have\",\n",
    "\"there's\": \"there is\",\n",
    "\"they'd\": \"they had\",\n",
    "\"they'd've\": \"they would have\",\n",
    "\"they'll\": \"they will\",\n",
    "\"they'll've\": \"they will have\",\n",
    "\"they're\": \"they are\",\n",
    "\"they've\": \"they have\",\n",
    "\"to've\": \"to have\",\n",
    "\"wasn't\": \"was not\",\n",
    "\"we'd\": \"we had\",\n",
    "\"we'd've\": \"we would have\",\n",
    "\"we'll\": \"we will\",\n",
    "\"we'll've\": \"we will have\",\n",
    "\"we're\": \"we are\",\n",
    "\"we've\": \"we have\",\n",
    "\"weren't\": \"were not\",\n",
    "\"what'll\": \"what will\",\n",
    "\"what'll've\": \"what will have\",\n",
    "\"what're\": \"what are\",\n",
    "\"what's\": \"what is\",\n",
    "\"what've\": \"what have\",\n",
    "\"when's\": \"when is\",\n",
    "\"when've\": \"when have\",\n",
    "\"where'd\": \"where did\",\n",
    "\"where's\": \"where is\",\n",
    "\"where've\": \"where have\",\n",
    "\"who'll\": \"who will\",\n",
    "\"who'll've\": \"who will have\",\n",
    "\"who's\": \"who is\",\n",
    "\"who've\": \"who have\",\n",
    "\"why's\": \"why is\",\n",
    "\"why've\": \"why have\",\n",
    "\"will've\": \"will have\",\n",
    "\"won't\": \"will not\",\n",
    "\"won't've\": \"will not have\",\n",
    "\"would've\": \"would have\",\n",
    "\"wouldn't\": \"would not\",\n",
    "\"wouldn't've\": \"would not have\",\n",
    "\"y'all\": \"you all\",\n",
    "\"y'all'd\": \"you all would\",\n",
    "\"y'all'd've\": \"you all would have\",\n",
    "\"y'all're\": \"you all are\",\n",
    "\"y'all've\": \"you all have\",\n",
    "\"you'd\": \"you had\",\n",
    "\"you'd've\": \"you would have\",\n",
    "\"you'll\": \"you will\",\n",
    "\"you'll've\": \"you will have\",\n",
    "\"you're\": \"you are\",\n",
    "\"you've\": \"you have\"\n",
    "}"
   ]
  },
  {
   "cell_type": "code",
   "execution_count": 8,
   "metadata": {},
   "outputs": [],
   "source": [
    "def clean(text, contractions=contractions_dict, remove_stop=False):\n",
    "    text = text.lower()\n",
    "    text = re.sub(r'\\([^)]*\\)', '', text)\n",
    "    text = ' '.join([contractions[t] if t in contractions else t for t in text.split(' ')])\n",
    "    text = re.sub(r\"'s\\b\", \"\", text)\n",
    "    text = re.sub(r'[^a-zA-Z]', ' ', text)\n",
    "    text = re.sub('[m]{2, }', 'mm', text)\n",
    "    \n",
    "    return ' '.join(text.strip().split())"
   ]
  },
  {
   "cell_type": "code",
   "execution_count": 9,
   "metadata": {},
   "outputs": [
    {
     "name": "stdout",
     "output_type": "stream",
     "text": [
      "* BEFORE CLEANING:  This edit shows that you are not at all interested in a neutral, encyclopedic article. Which of the cult-basher cliques do you hang out with? \n",
      "\n",
      "* AFTER CLEANING:  this edit shows that you are not at all interested in a neutral encyclopedic article which of the cult basher cliques do you hang out with\n"
     ]
    }
   ],
   "source": [
    "print('* BEFORE CLEANING: ', data.comment_text.iloc[0], '\\n')\n",
    "print('* AFTER CLEANING: ', clean(data.comment_text.iloc[0]))"
   ]
  },
  {
   "cell_type": "code",
   "execution_count": 10,
   "metadata": {},
   "outputs": [],
   "source": [
    "data['comment_text_clean'] = data['comment_text'].apply(clean)"
   ]
  },
  {
   "cell_type": "code",
   "execution_count": 11,
   "metadata": {},
   "outputs": [
    {
     "name": "stdout",
     "output_type": "stream",
     "text": [
      "Max comment length:  71\n"
     ]
    }
   ],
   "source": [
    "max_len = int(data['comment_text_clean'].str.split().apply(len).describe()['75%'])\n",
    "print('Max comment length: ', max_len)"
   ]
  },
  {
   "cell_type": "markdown",
   "metadata": {},
   "source": [
    "### Data Preparation"
   ]
  },
  {
   "cell_type": "code",
   "execution_count": 12,
   "metadata": {},
   "outputs": [],
   "source": [
    "tokenizer = tf.keras.preprocessing.text.Tokenizer()\n",
    "tokenizer.fit_on_texts(list(data['comment_text_clean']))"
   ]
  },
  {
   "cell_type": "code",
   "execution_count": 13,
   "metadata": {},
   "outputs": [
    {
     "data": {
      "text/plain": [
       "(20000, 71)"
      ]
     },
     "execution_count": 13,
     "metadata": {},
     "output_type": "execute_result"
    }
   ],
   "source": [
    "X_train_seq = tokenizer.texts_to_sequences(data['comment_text'])\n",
    "X_train_pad = tf.keras.preprocessing.sequence.pad_sequences(X_train_seq, maxlen=max_len)\n",
    "\n",
    "X_train_pad.shape"
   ]
  },
  {
   "cell_type": "code",
   "execution_count": 14,
   "metadata": {},
   "outputs": [
    {
     "data": {
      "text/plain": [
       "(20000, 6)"
      ]
     },
     "execution_count": 14,
     "metadata": {},
     "output_type": "execute_result"
    }
   ],
   "source": [
    "y_train = data[['toxic', 'severe_toxic', 'obscene', 'threat', 'insult', 'identity_hate']].values\n",
    "y_train.shape"
   ]
  },
  {
   "cell_type": "code",
   "execution_count": 15,
   "metadata": {},
   "outputs": [
    {
     "data": {
      "text/plain": [
       "6"
      ]
     },
     "execution_count": 15,
     "metadata": {},
     "output_type": "execute_result"
    }
   ],
   "source": [
    "NUM_CLASSES = y_train.shape[1]\n",
    "NUM_CLASSES"
   ]
  },
  {
   "cell_type": "markdown",
   "metadata": {},
   "source": [
    "### Data Splitting"
   ]
  },
  {
   "cell_type": "code",
   "execution_count": 16,
   "metadata": {},
   "outputs": [
    {
     "data": {
      "text/plain": [
       "((13400, 71), (13400, 6), (6600, 71), (6600, 6))"
      ]
     },
     "execution_count": 16,
     "metadata": {},
     "output_type": "execute_result"
    }
   ],
   "source": [
    "X_train, X_test, y_train, y_test = train_test_split(X_train_pad, y_train, test_size=0.33)\n",
    "\n",
    "X_train.shape, y_train.shape, X_test.shape, y_test.shape"
   ]
  },
  {
   "cell_type": "markdown",
   "metadata": {},
   "source": [
    "### Setting up a callback"
   ]
  },
  {
   "cell_type": "code",
   "execution_count": 17,
   "metadata": {},
   "outputs": [],
   "source": [
    "callbacks = [tf.keras.callbacks.EarlyStopping(monitor='val_loss', patience=2)]"
   ]
  },
  {
   "cell_type": "markdown",
   "metadata": {},
   "source": [
    "### A basic RNN"
   ]
  },
  {
   "cell_type": "code",
   "execution_count": 18,
   "metadata": {},
   "outputs": [
    {
     "name": "stdout",
     "output_type": "stream",
     "text": [
      "Model: \"sequential\"\n",
      "_________________________________________________________________\n",
      "Layer (type)                 Output Shape              Param #   \n",
      "=================================================================\n",
      "embedding (Embedding)        (None, 71, 300)           15096300  \n",
      "_________________________________________________________________\n",
      "simple_rnn (SimpleRNN)       (None, 512)               416256    \n",
      "_________________________________________________________________\n",
      "dense (Dense)                (None, 6)                 3078      \n",
      "=================================================================\n",
      "Total params: 15,515,634\n",
      "Trainable params: 15,515,634\n",
      "Non-trainable params: 0\n",
      "_________________________________________________________________\n"
     ]
    }
   ],
   "source": [
    "def make_rnn():\n",
    "    model = tf.keras.models.Sequential()\n",
    "    model.add(tf.keras.layers.Input(shape=(max_len, )))\n",
    "    model.add(tf.keras.layers.Embedding(len(tokenizer.word_index)+1, 300, input_length=max_len))\n",
    "    model.add(tf.keras.layers.SimpleRNN(512))\n",
    "    model.add(tf.keras.layers.Dense(NUM_CLASSES, activation='sigmoid'))\n",
    "    \n",
    "    model.compile(loss='binary_crossentropy',\n",
    "                  optimizer='adam',\n",
    "                  metrics=['accuracy', 'categorical_accuracy'])\n",
    "    return model\n",
    "    \n",
    "rnn = make_rnn()\n",
    "rnn.summary()"
   ]
  },
  {
   "cell_type": "code",
   "execution_count": 19,
   "metadata": {
    "scrolled": true
   },
   "outputs": [
    {
     "name": "stdout",
     "output_type": "stream",
     "text": [
      "Train on 13400 samples, validate on 6600 samples\n",
      "Epoch 1/5\n",
      "13400/13400 [==============================] - 90s 7ms/sample - loss: 0.1517 - accuracy: 0.9589 - categorical_accuracy: 0.8851 - val_loss: 0.1377 - val_accuracy: 0.9628 - val_categorical_accuracy: 0.9958\n",
      "Epoch 2/5\n",
      "13400/13400 [==============================] - 92s 7ms/sample - loss: 0.1174 - accuracy: 0.9653 - categorical_accuracy: 0.8719 - val_loss: 0.1259 - val_accuracy: 0.9655 - val_categorical_accuracy: 0.9773\n",
      "Epoch 3/5\n",
      "13400/13400 [==============================] - 95s 7ms/sample - loss: 0.0867 - accuracy: 0.9721 - categorical_accuracy: 0.7763 - val_loss: 0.1358 - val_accuracy: 0.9652 - val_categorical_accuracy: 0.9779\n",
      "Epoch 4/5\n",
      "13400/13400 [==============================] - 91s 7ms/sample - loss: 0.2713 - accuracy: 0.8967 - categorical_accuracy: 0.6679 - val_loss: 0.1555 - val_accuracy: 0.9520 - val_categorical_accuracy: 0.9250\n"
     ]
    },
    {
     "data": {
      "text/plain": [
       "<tensorflow.python.keras.callbacks.History at 0x14dcca8cd88>"
      ]
     },
     "execution_count": 19,
     "metadata": {},
     "output_type": "execute_result"
    }
   ],
   "source": [
    "rnn.fit(X_train, y_train, \n",
    "          epochs=5, \n",
    "          validation_data=(X_test, y_test), \n",
    "          batch_size=64,\n",
    "          callbacks=callbacks)"
   ]
  },
  {
   "cell_type": "code",
   "execution_count": 20,
   "metadata": {},
   "outputs": [
    {
     "data": {
      "image/png": "[encoded data removed]",
      "text/plain": [
       "<Figure size 864x576 with 2 Axes>"
      ]
     },
     "metadata": {
      "needs_background": "light"
     },
     "output_type": "display_data"
    }
   ],
   "source": [
    "plot(rnn)"
   ]
  },
  {
   "cell_type": "markdown",
   "metadata": {},
   "source": [
    "### Pre-trained Embeddings"
   ]
  },
  {
   "cell_type": "code",
   "execution_count": 21,
   "metadata": {},
   "outputs": [
    {
     "name": "stdout",
     "output_type": "stream",
     "text": [
      "Wall time: 40.9 s\n"
     ]
    }
   ],
   "source": [
    "%%time\n",
    "glove_file = '../../../Resources/glove.840B.300d.pkl'\n",
    "glove = np.load(glove_file, allow_pickle=True)\n",
    "\n",
    "embedding_matrix = np.zeros((len(tokenizer.word_index)+1, 300))\n",
    "for word, i in tokenizer.word_index.items():\n",
    "    embedding_vector = glove.get(word)\n",
    "    if embedding_vector is not None:\n",
    "        embedding_matrix[i] = embedding_vector\n",
    "        \n",
    "del glove"
   ]
  },
  {
   "cell_type": "markdown",
   "metadata": {},
   "source": [
    "### Using stacked LSTMs with pre-trained word embeddings"
   ]
  },
  {
   "cell_type": "code",
   "execution_count": 22,
   "metadata": {},
   "outputs": [
    {
     "name": "stdout",
     "output_type": "stream",
     "text": [
      "Model: \"sequential_1\"\n",
      "_________________________________________________________________\n",
      "Layer (type)                 Output Shape              Param #   \n",
      "=================================================================\n",
      "embedding_1 (Embedding)      (None, 71, 300)           15096300  \n",
      "_________________________________________________________________\n",
      "lstm (LSTM)                  (None, 71, 512)           1665024   \n",
      "_________________________________________________________________\n",
      "lstm_1 (LSTM)                (None, 512)               2099200   \n",
      "_________________________________________________________________\n",
      "dense_1 (Dense)              (None, 6)                 3078      \n",
      "=================================================================\n",
      "Total params: 18,863,602\n",
      "Trainable params: 3,767,302\n",
      "Non-trainable params: 15,096,300\n",
      "_________________________________________________________________\n"
     ]
    }
   ],
   "source": [
    "def make_stacked_lstm():\n",
    "    model = tf.keras.models.Sequential()\n",
    "    model.add(tf.keras.layers.Input(shape=(max_len, )))\n",
    "    \n",
    "    model.add(tf.keras.layers.Embedding(len(tokenizer.word_index)+1,\n",
    "                                        embedding_matrix.shape[1],\n",
    "                                        weights=[embedding_matrix],\n",
    "                                        input_length=max_len,\n",
    "                                        trainable=False))\n",
    "    \n",
    "    model.add(tf.keras.layers.LSTM(512,\n",
    "                                   return_sequences=True,\n",
    "                                   recurrent_dropout=0.3))\n",
    "    model.add(tf.keras.layers.LSTM(512, \n",
    "                                   recurrent_dropout=0.3))\n",
    "    \n",
    "    model.add(tf.keras.layers.Dense(NUM_CLASSES, activation='sigmoid'))\n",
    "    \n",
    "    model.compile(loss='binary_crossentropy',\n",
    "                  optimizer='adam',\n",
    "                  metrics=['accuracy', 'categorical_accuracy'])\n",
    "    return model\n",
    "    \n",
    "stacked_lstm = make_stacked_lstm()\n",
    "stacked_lstm.summary()"
   ]
  },
  {
   "cell_type": "code",
   "execution_count": 23,
   "metadata": {
    "scrolled": true
   },
   "outputs": [
    {
     "name": "stdout",
     "output_type": "stream",
     "text": [
      "Train on 13400 samples, validate on 6600 samples\n",
      "Epoch 1/5\n",
      "13400/13400 [==============================] - 219s 16ms/sample - loss: 0.1103 - accuracy: 0.9652 - categorical_accuracy: 0.9152 - val_loss: 0.0753 - val_accuracy: 0.9757 - val_categorical_accuracy: 0.9930\n",
      "Epoch 2/5\n",
      "13400/13400 [==============================] - 349s 26ms/sample - loss: 0.0657 - accuracy: 0.9756 - categorical_accuracy: 0.9890 - val_loss: 0.0644 - val_accuracy: 0.9771 - val_categorical_accuracy: 0.9956\n",
      "Epoch 3/5\n",
      "13400/13400 [==============================] - 309s 23ms/sample - loss: 0.0597 - accuracy: 0.9779 - categorical_accuracy: 0.9931 - val_loss: 0.0610 - val_accuracy: 0.9785 - val_categorical_accuracy: 0.9956\n",
      "Epoch 4/5\n",
      "13400/13400 [==============================] - 355s 26ms/sample - loss: 0.0562 - accuracy: 0.9792 - categorical_accuracy: 0.9949 - val_loss: 0.0605 - val_accuracy: 0.9785 - val_categorical_accuracy: 0.9945\n",
      "Epoch 5/5\n",
      "13400/13400 [==============================] - 356s 27ms/sample - loss: 0.0512 - accuracy: 0.9805 - categorical_accuracy: 0.9928 - val_loss: 0.0591 - val_accuracy: 0.9787 - val_categorical_accuracy: 0.9927\n"
     ]
    },
    {
     "data": {
      "text/plain": [
       "<tensorflow.python.keras.callbacks.History at 0x14d9969bf08>"
      ]
     },
     "execution_count": 23,
     "metadata": {},
     "output_type": "execute_result"
    }
   ],
   "source": [
    "stacked_lstm.fit(X_train, y_train, \n",
    "          epochs=5, \n",
    "          validation_data=(X_test, y_test), \n",
    "          batch_size=64,\n",
    "          callbacks=callbacks)"
   ]
  },
  {
   "cell_type": "code",
   "execution_count": 24,
   "metadata": {},
   "outputs": [
    {
     "data": {
      "image/png": "[encoded data removed]",
      "text/plain": [
       "<Figure size 864x576 with 2 Axes>"
      ]
     },
     "metadata": {
      "needs_background": "light"
     },
     "output_type": "display_data"
    }
   ],
   "source": [
    "plot(stacked_lstm, name='Stacked LSTM')"
   ]
  },
  {
   "cell_type": "markdown",
   "metadata": {},
   "source": [
    "### Using stacked GRUs"
   ]
  },
  {
   "cell_type": "code",
   "execution_count": 49,
   "metadata": {},
   "outputs": [
    {
     "name": "stdout",
     "output_type": "stream",
     "text": [
      "Model: \"sequential_3\"\n",
      "_________________________________________________________________\n",
      "Layer (type)                 Output Shape              Param #   \n",
      "=================================================================\n",
      "embedding_3 (Embedding)      (None, 71, 300)           15096300  \n",
      "_________________________________________________________________\n",
      "gru_2 (GRU)                  (None, 71, 512)           1250304   \n",
      "_________________________________________________________________\n",
      "gru_3 (GRU)                  (None, 512)               1575936   \n",
      "_________________________________________________________________\n",
      "dense_3 (Dense)              (None, 6)                 3078      \n",
      "=================================================================\n",
      "Total params: 17,925,618\n",
      "Trainable params: 2,829,318\n",
      "Non-trainable params: 15,096,300\n",
      "_________________________________________________________________\n"
     ]
    }
   ],
   "source": [
    "def make_stacked_gru():\n",
    "    model = tf.keras.models.Sequential()\n",
    "    model.add(tf.keras.layers.Input(shape=(max_len, )))\n",
    "    \n",
    "    model.add(tf.keras.layers.Embedding(len(tokenizer.word_index)+1,\n",
    "                                        embedding_matrix.shape[1],\n",
    "                                        weights=[embedding_matrix],\n",
    "                                        input_length=max_len,\n",
    "                                        trainable=False))\n",
    "    \n",
    "    model.add(tf.keras.layers.GRU(512,\n",
    "                                   return_sequences=True,\n",
    "                                   recurrent_dropout=0.3))\n",
    "    model.add(tf.keras.layers.GRU(512, \n",
    "                                   recurrent_dropout=0.3))\n",
    "    \n",
    "    model.add(tf.keras.layers.Dense(NUM_CLASSES, activation='sigmoid'))\n",
    "    \n",
    "    model.compile(loss='binary_crossentropy',\n",
    "                  optimizer='adam',\n",
    "                  metrics=['accuracy', 'categorical_accuracy'])\n",
    "    return model\n",
    "    \n",
    "stacked_gru = make_stacked_gru()\n",
    "stacked_gru.summary()"
   ]
  },
  {
   "cell_type": "code",
   "execution_count": 50,
   "metadata": {
    "scrolled": true
   },
   "outputs": [
    {
     "name": "stdout",
     "output_type": "stream",
     "text": [
      "Train on 13400 samples, validate on 6600 samples\n",
      "Epoch 1/5\n",
      "13400/13400 [==============================] - 194s 14ms/sample - loss: 151165.4964 - accuracy: 0.8898 - categorical_accuracy: 0.2707 - val_loss: 0.4104 - val_accuracy: 0.9467 - val_categorical_accuracy: 0.1176\n",
      "Epoch 2/5\n",
      "13400/13400 [==============================] - 241s 18ms/sample - loss: 203340.7992 - accuracy: 0.9562 - categorical_accuracy: 0.2660 - val_loss: 0.1666 - val_accuracy: 0.9625 - val_categorical_accuracy: 0.9898\n",
      "Epoch 3/5\n",
      "13400/13400 [==============================] - 240s 18ms/sample - loss: 2047820.5547 - accuracy: 0.9392 - categorical_accuracy: 0.4808 - val_loss: 0.1993 - val_accuracy: 0.9613 - val_categorical_accuracy: 0.4895\n",
      "Epoch 4/5\n",
      "13400/13400 [==============================] - 288s 22ms/sample - loss: 69705.4590 - accuracy: 0.9514 - categorical_accuracy: 0.4784 - val_loss: 0.1906 - val_accuracy: 0.9620 - val_categorical_accuracy: 0.6124\n"
     ]
    },
    {
     "data": {
      "text/plain": [
       "<tensorflow.python.keras.callbacks.History at 0x14eb0034148>"
      ]
     },
     "execution_count": 50,
     "metadata": {},
     "output_type": "execute_result"
    }
   ],
   "source": [
    "stacked_gru.fit(X_train, y_train, \n",
    "          epochs=5, \n",
    "          validation_data=(X_test, y_test), \n",
    "          batch_size=64,\n",
    "          callbacks=callbacks)"
   ]
  },
  {
   "cell_type": "code",
   "execution_count": 51,
   "metadata": {},
   "outputs": [
    {
     "data": {
      "image/png": "[encoded data removed]",
      "text/plain": [
       "<Figure size 432x288 with 2 Axes>"
      ]
     },
     "metadata": {
      "needs_background": "light"
     },
     "output_type": "display_data"
    }
   ],
   "source": [
    "plot(stacked_gru, name='Stacked GRUs')"
   ]
  },
  {
   "cell_type": "markdown",
   "metadata": {},
   "source": [
    "### Using a Bi-LSTM"
   ]
  },
  {
   "cell_type": "code",
   "execution_count": 52,
   "metadata": {},
   "outputs": [],
   "source": [
    "def make_bilstm():\n",
    "    model = tf.keras.models.Sequential()\n",
    "    model.add(tf.keras.layers.Input(shape=(max_len, )))\n",
    "    \n",
    "    model.add(tf.keras.layers.Embedding(len(tokenizer.word_index)+1,\n",
    "                                        embedding_matrix.shape[1],\n",
    "                                        weights=[embedding_matrix],\n",
    "                                        input_length=max_len,\n",
    "                                        trainable=False))\n",
    "    \n",
    "    model.add(tf.keras.layers.Bidirectional(tf.keras.layers.LSTM(512, recurrent_dropout=0.3)))\n",
    "    \n",
    "    model.add(tf.keras.layers.Dense(NUM_CLASSES, activation='sigmoid'))\n",
    "    \n",
    "    model.compile(loss='binary_crossentropy',\n",
    "                  optimizer='adam',\n",
    "                  metrics=['accuracy', 'categorical_accuracy'])\n",
    "    return model\n",
    "\n",
    "bilstm = make_bilstm()"
   ]
  },
  {
   "cell_type": "code",
   "execution_count": 53,
   "metadata": {},
   "outputs": [
    {
     "name": "stdout",
     "output_type": "stream",
     "text": [
      "Train on 13400 samples, validate on 6600 samples\n",
      "Epoch 1/5\n",
      "13400/13400 [==============================] - 265s 20ms/sample - loss: 0.1005 - accuracy: 0.9670 - categorical_accuracy: 0.9152 - val_loss: 0.0690 - val_accuracy: 0.9759 - val_categorical_accuracy: 0.9900\n",
      "Epoch 2/5\n",
      "13400/13400 [==============================] - 327s 24ms/sample - loss: 0.0655 - accuracy: 0.9763 - categorical_accuracy: 0.9787 - val_loss: 0.0639 - val_accuracy: 0.9773 - val_categorical_accuracy: 0.9792\n",
      "Epoch 3/5\n",
      "13400/13400 [==============================] - 354s 26ms/sample - loss: 0.0591 - accuracy: 0.9781 - categorical_accuracy: 0.9834 - val_loss: 0.0623 - val_accuracy: 0.9787 - val_categorical_accuracy: 0.9885\n",
      "Epoch 4/5\n",
      "13400/13400 [==============================] - 458s 34ms/sample - loss: 0.0537 - accuracy: 0.9793 - categorical_accuracy: 0.9836 - val_loss: 0.0602 - val_accuracy: 0.9785 - val_categorical_accuracy: 0.9945\n",
      "Epoch 5/5\n",
      "13400/13400 [==============================] - 307s 23ms/sample - loss: 0.0501 - accuracy: 0.9816 - categorical_accuracy: 0.9728 - val_loss: 0.0646 - val_accuracy: 0.9773 - val_categorical_accuracy: 0.8879\n"
     ]
    },
    {
     "data": {
      "text/plain": [
       "<tensorflow.python.keras.callbacks.History at 0x14ec32f6648>"
      ]
     },
     "execution_count": 53,
     "metadata": {},
     "output_type": "execute_result"
    }
   ],
   "source": [
    "bilstm.fit(X_train, y_train, \n",
    "          epochs=5, \n",
    "          validation_data=(X_test, y_test), \n",
    "          batch_size=64,\n",
    "          callbacks=callbacks)"
   ]
  },
  {
   "cell_type": "code",
   "execution_count": 55,
   "metadata": {},
   "outputs": [
    {
     "data": {
      "image/png": "[encoded data removed]",
      "text/plain": [
       "<Figure size 432x288 with 2 Axes>"
      ]
     },
     "metadata": {
      "needs_background": "light"
     },
     "output_type": "display_data"
    }
   ],
   "source": [
    "plot(bilstm, name='Bi-LSTM')"
   ]
  },
  {
   "cell_type": "markdown",
   "metadata": {},
   "source": [
    "### Predictions"
   ]
  },
  {
   "cell_type": "code",
   "execution_count": 73,
   "metadata": {},
   "outputs": [],
   "source": [
    "def toxicity(x, model):\n",
    "    x = clean(x)\n",
    "    x = tokenizer.texts_to_sequences([x])\n",
    "    x = tf.keras.preprocessing.sequence.pad_sequences(x, maxlen=max_len)\n",
    "    preds = model.predict(x)[0]\n",
    "    classes = ['toxic', 'severe_toxic', 'obscene', 'threat', 'insult', 'identity_hate']\n",
    "    \n",
    "    return dict(zip(classes, preds))"
   ]
  },
  {
   "cell_type": "code",
   "execution_count": 82,
   "metadata": {},
   "outputs": [
    {
     "data": {
      "text/plain": [
       "{'toxic': 0.7129599,\n",
       " 'severe_toxic': 0.0054055452,\n",
       " 'obscene': 0.24743456,\n",
       " 'threat': 0.007377088,\n",
       " 'insult': 0.18756628,\n",
       " 'identity_hate': 0.024941975}"
      ]
     },
     "execution_count": 82,
     "metadata": {},
     "output_type": "execute_result"
    }
   ],
   "source": [
    "toxicity('i hate you', stacked_lstm)"
   ]
  },
  {
   "cell_type": "code",
   "execution_count": 87,
   "metadata": {},
   "outputs": [
    {
     "data": {
      "text/plain": [
       "{'toxic': 0.96703887,\n",
       " 'severe_toxic': 0.121037304,\n",
       " 'obscene': 0.81686497,\n",
       " 'threat': 0.05452916,\n",
       " 'insult': 0.8807459,\n",
       " 'identity_hate': 0.24652083}"
      ]
     },
     "execution_count": 87,
     "metadata": {},
     "output_type": "execute_result"
    }
   ],
   "source": [
    "toxicity('you deserve to die you imbecile', stacked_lstm)"
   ]
  },
  {
   "cell_type": "markdown",
   "metadata": {},
   "source": [
    "### Training DistilBERT"
   ]
  },
  {
   "cell_type": "code",
   "execution_count": null,
   "metadata": {},
   "outputs": [],
   "source": [
    "import transformers"
   ]
  },
  {
   "cell_type": "code",
   "execution_count": null,
   "metadata": {},
   "outputs": [],
   "source": [
    "test_data = pd.read_csv('/kaggle/input/jigsaw-multilingual-toxic-comment-classification/validation.csv')\n",
    "test_data['comment_text_clean'] = test_data['comment_text'].apply(clean)\n",
    "test_data.head()"
   ]
  },
  {
   "cell_type": "code",
   "execution_count": null,
   "metadata": {},
   "outputs": [],
   "source": [
    "def fast_encode(texts, tokenizer, chunk_size=512, maxlen=max_len):\n",
    "    tokenizer.enable_truncation(max_length=maxlen)\n",
    "    tokenizer.enable_padding(max_length=maxlen)\n",
    "    all_ids = []\n",
    "    \n",
    "    for i in tqdm(range(0, len(texts), chunk_size)):\n",
    "        text_chunk = texts[i:i+chunk_size].tolist()\n",
    "        encodings = tokenizer.encode_batch(text_chunk)\n",
    "        all_ids.extend([enc.ids for enc in encodings])\n",
    "        \n",
    "    return np.array(all_ids)"
   ]
  },
  {
   "cell_type": "code",
   "execution_count": null,
   "metadata": {},
   "outputs": [],
   "source": [
    "AUTO_TUNE = tf.data.experimental.AUTOTUNE\n",
    "EPOCHS = 10\n",
    "BATCH_SIZE = 120 * strategy.num_replicas_in_sync\n",
    "MAX_LEN = max_len"
   ]
  },
  {
   "cell_type": "code",
   "execution_count": null,
   "metadata": {},
   "outputs": [],
   "source": [
    "tokenizer = transformers.DistilBertTokenizer.from_pretrained('distilbert-base-multilingual-cased')\n",
    "tokenizer.save_pretrained('.')\n",
    "\n",
    "fast_tokenizer = transformers.BertTokenizerFast('vocab.txt', lowercase=False)\n",
    "fast_tokenizer"
   ]
  },
  {
   "cell_type": "code",
   "execution_count": null,
   "metadata": {},
   "outputs": [],
   "source": [
    "X_train = fast_encode(train.comment_text_clean.astype(str), fast_tokenizer.tokenizer, maxlen=MAX_LEN)\n",
    "y_train = train.toxic.values\n",
    "\n",
    "X_test = fast_encode(test_data.comment_text_clean.astype(str), fast_tokenizer.tokenizer, maxlen=MAX_LEN)\n",
    "y_test = test_data.toxic.values\n",
    "\n",
    "X_train[1]"
   ]
  },
  {
   "cell_type": "code",
   "execution_count": null,
   "metadata": {},
   "outputs": [],
   "source": [
    "train_dataset = (tf.data.Dataset\n",
    "                .from_tensor_slices((X_train, y_train))\n",
    "                .repeat()\n",
    "                .shuffle(2048)\n",
    "                .batch(BATCH_SIZE)\n",
    "                .prefetch(AUTO_TUNE))\n",
    "\n",
    "test_dataset = (tf.data.Dataset\n",
    "                .from_tensor_slices((X_test, y_test))\n",
    "                .repeat()\n",
    "                .shuffle(2048)\n",
    "                .cache()\n",
    "                .batch(BATCH_SIZE)\n",
    "                .prefetch(AUTO_TUNE))"
   ]
  },
  {
   "cell_type": "code",
   "execution_count": null,
   "metadata": {},
   "outputs": [],
   "source": [
    "def build_model(transformer, max_len=MAX_LEN):\n",
    "    input_word_ids = tf.keras.layers.Input(shape=(max_len, ), dtype=tf.int32, name='input_word_ids')\n",
    "    sequence_output = transformer(input_word_ids)[0]\n",
    "    cls_token = sequence_output[:, 0, :]\n",
    "    out = tf.keras.layers.Dense(1, activation='sigmoid')(cls_token)\n",
    "    \n",
    "    model = tf.keras.models.Model(inputs=input_word_ids, outputs=out)\n",
    "    \n",
    "    model.compile(tf.keras.optimizers.Adam(lr=1e-5), loss='binary_crossentropy', metrics=['accuracy'])\n",
    "    \n",
    "    return model"
   ]
  },
  {
   "cell_type": "code",
   "execution_count": null,
   "metadata": {},
   "outputs": [],
   "source": [
    "with strategy.scope():\n",
    "    transformer_layer = (\n",
    "        transformers.TFDistilBertModel\n",
    "        .from_pretrained('distilbert-base-multilingual-cased')\n",
    "    )\n",
    "    \n",
    "    model = build_model(transformer_layer, max_len=MAX_LEN)\n",
    "    \n",
    "model.summary()"
   ]
  },
  {
   "cell_type": "code",
   "execution_count": null,
   "metadata": {},
   "outputs": [],
   "source": [
    "n_steps = X_train.shape[0] // BATCH_SIZE\n",
    "history = model.fit(train_dataset,\n",
    "                    steps_per_epoch=n_steps,\n",
    "                    epochs=EPOCHS)"
   ]
  },
  {
   "cell_type": "code",
   "execution_count": null,
   "metadata": {},
   "outputs": [],
   "source": [
    "n_steps = X_test.shape[0] // BATCH_SIZE\n",
    "history_test = model.fit(test_dataset,\n",
    "                    steps_per_epoch=n_steps,\n",
    "                    epochs=EPOCHS)"
   ]
  },
  {
   "cell_type": "code",
   "execution_count": null,
   "metadata": {},
   "outputs": [],
   "source": [
    "plt.figure(figsize=(12, 8))\n",
    "plt.subplot(2, 2, 1)\n",
    "plt.plot(history.history['accuracy'])\n",
    "plt.title('DistilBERT - Training Accuracy')\n",
    "\n",
    "plt.subplot(2, 2, 2)\n",
    "plt.plot(history.history['loss'])\n",
    "plt.title('DistilBERT - Training Loss')\n",
    "\n",
    "plt.subplot(2, 2, 3)\n",
    "plt.plot(history_test.history['accuracy'], c='r')\n",
    "plt.title('DistilBERT - Testing Accuracy')\n",
    "\n",
    "plt.subplot(2, 2, 4)\n",
    "plt.plot(history_test.history['loss'], c='r')\n",
    "plt.title('DistilBERT - Testing Loss')\n",
    "\n",
    "plt.show()"
   ]
  },
  {
   "cell_type": "code",
   "execution_count": null,
   "metadata": {},
   "outputs": [],
   "source": []
  }
 ],
 "metadata": {
  "kernelspec": {
   "display_name": "Python 3",
   "language": "python",
   "name": "python3"
  },
  "language_info": {
   "codemirror_mode": {
    "name": "ipython",
    "version": 3
   },
   "file_extension": ".py",
   "mimetype": "text/x-python",
   "name": "python",
   "nbconvert_exporter": "python",
   "pygments_lexer": "ipython3",
   "version": "3.7.4"
  }
 },
 "nbformat": 4,
 "nbformat_minor": 4
}
