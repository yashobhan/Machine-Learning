{
 "cells": [
  {
   "cell_type": "markdown",
   "metadata": {},
   "source": [
    "## Generative Adversarial Networks"
   ]
  },
  {
   "cell_type": "code",
   "execution_count": null,
   "metadata": {},
   "outputs": [],
   "source": [
    "import os\n",
    "from tqdm import tqdm\n",
    "import numpy as np\n",
    "from PIL import Image\n",
    "import tensorflow as tf\n",
    "import matplotlib.pyplot as plt"
   ]
  },
  {
   "cell_type": "code",
   "execution_count": null,
   "metadata": {},
   "outputs": [],
   "source": [
    "def load_img(filename):\n",
    "    return np.asarray(Image.open(filename).convert('RGB'))"
   ]
  },
  {
   "cell_type": "code",
   "execution_count": null,
   "metadata": {},
   "outputs": [],
   "source": [
    "def load_faces(dir_, n_faces):\n",
    "    faces = list()\n",
    "    \n",
    "    for filename in os.listdir(dir_):\n",
    "        filename = os.path.join(dir_, filename)\n",
    "        pixels = load_img(filename)\n",
    "        faces.append(pixels)\n",
    "        \n",
    "        if len(faces) >= n_faces:\n",
    "            break\n",
    "        \n",
    "    return np.asarray(faces)"
   ]
  },
  {
   "cell_type": "code",
   "execution_count": null,
   "metadata": {},
   "outputs": [],
   "source": [
    "def plot_faces(faces, n):\n",
    "    plt.figure(figsize=(15, 10))\n",
    "    for i in range(n**2):\n",
    "        plt.subplot(n, n, 1+i)\n",
    "        plt.axis('off')\n",
    "        plt.imshow(faces[i])\n",
    "    plt.show()"
   ]
  },
  {
   "cell_type": "code",
   "execution_count": null,
   "metadata": {},
   "outputs": [],
   "source": [
    "DATA_DIR = '../../Resources/data/gan/celeba-dataset/img_align_celeba/img_align_celeba/'\n",
    "faces = load_faces(DATA_DIR, 25)\n",
    "faces.shape"
   ]
  },
  {
   "cell_type": "code",
   "execution_count": null,
   "metadata": {},
   "outputs": [],
   "source": [
    "plot_faces(faces, 5)"
   ]
  },
  {
   "cell_type": "code",
   "execution_count": null,
   "metadata": {},
   "outputs": [],
   "source": [
    "import mtcnn\n",
    "mtcnn.__version__"
   ]
  },
  {
   "cell_type": "code",
   "execution_count": null,
   "metadata": {},
   "outputs": [],
   "source": [
    "def extract_faces(model, pixels, required_size=(80, 80)):\n",
    "    faces = model.detect_faces(pixels)\n",
    "    \n",
    "    if len(faces) == 0:\n",
    "        return None\n",
    "    \n",
    "    x1, y1, width, height = faces[0]['box']\n",
    "    x1, y1 = abs(x1), abs(y1)\n",
    "    \n",
    "    x2, y2 = x1 + width, y1 + height\n",
    "    \n",
    "    face_pixels = pixels[y1:y2, x1:x2]\n",
    "    \n",
    "    image = Image.fromarray(face_pixels)\n",
    "    image = image.resize(required_size)\n",
    "    face_array = np.asarray(image)\n",
    "    \n",
    "    return face_array"
   ]
  },
  {
   "cell_type": "code",
   "execution_count": null,
   "metadata": {
    "scrolled": true
   },
   "outputs": [],
   "source": [
    "## Updating load_faces\n",
    "\n",
    "from tqdm import tqdm\n",
    "\n",
    "def load_faces(dir_, n_faces):\n",
    "    model = mtcnn.MTCNN()\n",
    "    faces = list()\n",
    "    \n",
    "    for filename in tqdm(os.listdir(dir_)):\n",
    "        filename = os.path.join(dir_, filename)\n",
    "        pixels = load_img(filename)\n",
    "        face = extract_faces(model, pixels)\n",
    "        \n",
    "        if face is None:\n",
    "            continue\n",
    "            \n",
    "        faces.append(face)\n",
    "        \n",
    "        if len(faces) >= n_faces:\n",
    "            break\n",
    "            \n",
    "    return np.asarray(faces)"
   ]
  },
  {
   "cell_type": "code",
   "execution_count": null,
   "metadata": {
    "scrolled": true
   },
   "outputs": [],
   "source": [
    "faces = load_faces(DATA_DIR, 50)\n",
    "faces.shape"
   ]
  },
  {
   "cell_type": "code",
   "execution_count": null,
   "metadata": {},
   "outputs": [],
   "source": [
    "np.savez_compressed(os.path.join(DATA_DIR, 'compressed_faces.npz'), faces)"
   ]
  },
  {
   "cell_type": "markdown",
   "metadata": {},
   "source": [
    "## GAN"
   ]
  },
  {
   "cell_type": "code",
   "execution_count": null,
   "metadata": {},
   "outputs": [],
   "source": [
    "def make_discriminator(in_shape=(80, 80, 3)):\n",
    "    model = tf.keras.models.Sequential()\n",
    "    \n",
    "    ## Conv\n",
    "    model.add(tf.keras.layers.Conv2D(128, (5, 5), padding='same', input_shape=in_shape))\n",
    "    model.add(tf.keras.layers.LeakyReLU(alpha=0.2))\n",
    "    \n",
    "    ## Downsample\n",
    "    model.add(tf.keras.layers.Conv2D(128, (5, 5), strides=(2, 2), padding='same'))\n",
    "    model.add(tf.keras.layers.LeakyReLU(alpha=0.2))\n",
    "    \n",
    "    ## Downsample\n",
    "    model.add(tf.keras.layers.Conv2D(128, (5, 5), strides=(2, 2), padding='same'))\n",
    "    model.add(tf.keras.layers.LeakyReLU(alpha=0.2))\n",
    "    \n",
    "    ## Downsample\n",
    "    model.add(tf.keras.layers.Conv2D(128, (5, 5), strides=(2, 2), padding='same'))\n",
    "    model.add(tf.keras.layers.LeakyReLU(alpha=0.2))\n",
    "    \n",
    "    ## Downsample\n",
    "    model.add(tf.keras.layers.Conv2D(128, (5, 5), strides=(2, 2), padding='same'))\n",
    "    model.add(tf.keras.layers.LeakyReLU(alpha=0.2))\n",
    "    \n",
    "    model.add(tf.keras.layers.Flatten())\n",
    "    model.add(tf.keras.layers.Dropout(0.4))\n",
    "    model.add(tf.keras.layers.Dense(1, activation='sigmoid'))\n",
    "    \n",
    "    opt = tf.keras.optimizers.Adam(lr=0.0002, beta_1=0.5)\n",
    "    \n",
    "    model.compile(loss='binary_crossentropy', optimizer=opt, metrics=['accuracy'])\n",
    "    \n",
    "    return model"
   ]
  },
  {
   "cell_type": "code",
   "execution_count": null,
   "metadata": {},
   "outputs": [],
   "source": [
    "def make_generator(latent_dim):\n",
    "    \n",
    "    model = tf.keras.models.Sequential()\n",
    "\n",
    "    n_nodes = 128 * 5 * 5\n",
    "    \n",
    "    \n",
    "    model.add(tf.keras.layers.Dense(n_nodes, input_dim=latent_dim))\n",
    "    model.add(tf.keras.layers.LeakyReLU(alpha=0.2))\n",
    "    model.add(tf.keras.layers.Reshape((5, 5, 128)))\n",
    "    \n",
    "    \n",
    "    # upsample to 10x10\n",
    "    model.add(tf.keras.layers.Conv2DTranspose(128, (4,4), strides=(2,2), padding='same'))\n",
    "    model.add(tf.keras.layers.LeakyReLU(alpha=0.2))\n",
    "    \n",
    "    \n",
    "    # upsample to 20x20\n",
    "    model.add(tf.keras.layers.Conv2DTranspose(128, (4,4), strides=(2,2), padding='same'))\n",
    "    model.add(tf.keras.layers.LeakyReLU(alpha=0.2))\n",
    "    \n",
    "    \n",
    "    # upsample to 40x40\n",
    "    model.add(tf.keras.layers.Conv2DTranspose(128, (4,4), strides=(2,2), padding='same'))\n",
    "    model.add(tf.keras.layers.LeakyReLU(alpha=0.2))\n",
    "    \n",
    "    \n",
    "    # upsample to 80x80\n",
    "    model.add(tf.keras.layers.Conv2DTranspose(128, (4,4), strides=(2,2), padding='same'))\n",
    "    model.add(tf.keras.layers.LeakyReLU(alpha=0.2))\n",
    "    \n",
    "    \n",
    "    # output layer 80x80x3\n",
    "    model.add(tf.keras.layers.Conv2D(3, (5,5), activation='tanh', padding='same'))\n",
    "    \n",
    "    \n",
    "    return model"
   ]
  },
  {
   "cell_type": "code",
   "execution_count": null,
   "metadata": {},
   "outputs": [],
   "source": [
    "def make_gan(g_model, d_model):\n",
    "    \n",
    "    d_model.trainable = False\n",
    "    \n",
    "    \n",
    "    model = tf.keras.models.Sequential()\n",
    "\n",
    "    model.add(g_model)\n",
    "    model.add(d_model)\n",
    "\n",
    "    \n",
    "    opt = tf.keras.optimizers.Adam(lr=0.0002, beta_1=0.5)\n",
    "    model.compile(loss='binary_crossentropy', optimizer=opt)\n",
    "    \n",
    "    return model"
   ]
  },
  {
   "cell_type": "code",
   "execution_count": null,
   "metadata": {},
   "outputs": [],
   "source": [
    "def load_real_samples(DATA_DIR):\n",
    "    # load the face dataset\n",
    "    data = np.load(os.path.join(DATA_DIR, 'compressed_faces.npz'))\n",
    "    X = data['arr_0']\n",
    "    # convert from unsigned ints to floats\n",
    "    X = X.astype('float32')\n",
    "    # scale from [0,255] to [-1,1]\n",
    "    X = (X - 127.5) / 127.5\n",
    "    return X"
   ]
  },
  {
   "cell_type": "code",
   "execution_count": null,
   "metadata": {},
   "outputs": [],
   "source": [
    "def generate_real_samples(dataset, n_samples):\n",
    "\n",
    "    ix = np.random.randint(0, dataset.shape[0], n_samples)\n",
    "    X = dataset[ix]\n",
    "    y = np.ones((n_samples, 1))\n",
    "    return X, y"
   ]
  },
  {
   "cell_type": "code",
   "execution_count": null,
   "metadata": {},
   "outputs": [],
   "source": [
    "def generate_latent_points(latent_dim, n_samples):\n",
    "    x_input = np.random.randn(latent_dim * n_samples)\n",
    "    # reshape into a batch of inputs for the network\n",
    "    x_input = x_input.reshape(n_samples, latent_dim)\n",
    "    return x_input"
   ]
  },
  {
   "cell_type": "code",
   "execution_count": null,
   "metadata": {},
   "outputs": [],
   "source": [
    "def generate_fake_samples(g_model, latent_dim, n_samples):\n",
    "    # generate points in latent space\n",
    "    x_input = generate_latent_points(latent_dim, n_samples)\n",
    "    \n",
    "    # predict outputs\n",
    "    X = g_model.predict(x_input)\n",
    "    \n",
    "    # create 'fake' class labels (0)\n",
    "    y = np.zeros((n_samples, 1))\n",
    "    return X, y"
   ]
  },
  {
   "cell_type": "code",
   "execution_count": null,
   "metadata": {},
   "outputs": [],
   "source": [
    "def save_plot(examples, epoch, n=10):\n",
    "    # scale from [-1,1] to [0,1]\n",
    "    examples = (examples + 1) / 2.0\n",
    "    # plot images\n",
    "    for i in range(n * n):\n",
    "        # define subplot\n",
    "        plt.subplot(n, n, 1 + i)\n",
    "        # turn off axis\n",
    "        plt.axis('off')\n",
    "        # plot raw pixel data\n",
    "        plt.imshow(examples[i])\n",
    "    # save plot to file\n",
    "    filename = 'generations/vanilla_gan/generated_plot_e%03d.png' % (epoch+1)\n",
    "    plt.savefig(filename)\n",
    "    plt.close()"
   ]
  },
  {
   "cell_type": "code",
   "execution_count": null,
   "metadata": {},
   "outputs": [],
   "source": [
    "def summarize_performance(epoch, g_model, d_model, dataset, latent_dim, n_samples=100):\n",
    "    # prepare real samples\n",
    "    X_real, y_real = generate_real_samples(dataset, n_samples)\n",
    "    # evaluate discriminator on real examples\n",
    "    _, acc_real = d_model.evaluate(X_real, y_real, verbose=0)\n",
    "    # prepare fake examples\n",
    "    x_fake, y_fake = generate_fake_samples(g_model, latent_dim, n_samples)\n",
    "    # evaluate discriminator on fake examples\n",
    "    _, acc_fake = d_model.evaluate(x_fake, y_fake, verbose=0)\n",
    "    # summarize discriminator performance\n",
    "    print('* Accuracy real: %.0f%%, fake: %.0f%%' % (acc_real*100, acc_fake*100))\n",
    "    # save plot\n",
    "    save_plot(x_fake, epoch)\n",
    "    # save the generator model tile file\n",
    "    filename = '../../Resources/models/gan/vanilla_generator_model_%03d.h5' % (epoch+1)\n",
    "    g_model.save(filename)"
   ]
  },
  {
   "cell_type": "code",
   "execution_count": null,
   "metadata": {},
   "outputs": [],
   "source": [
    "def train(generator, discriminator, gan_model, dataset, latent_dim, n_epochs=100, n_batch=32):\n",
    "    \n",
    "    batch_per_epoch = dataset.shape[0] // n_batch\n",
    "    half_batch = batch_per_epoch // 2\n",
    "    \n",
    "    print('Batch per epoch: ', batch_per_epoch)\n",
    "    \n",
    "    for i in range(n_epochs):\n",
    "        for j in range(batch_per_epoch):\n",
    "            \n",
    "            \n",
    "            X_real, y_real = generate_real_samples(dataset, half_batch)\n",
    "            d_loss1, _ = discriminator.train_on_batch(X_real, y_real)\n",
    "            \n",
    "            X_fake, y_fake = generate_fake_samples(generator, latent_dim, half_batch)\n",
    "            d_loss2, _ = discriminator.train_on_batch(X_fake, y_fake)\n",
    "            \n",
    "            ## Prepare points in latent space as inputs for generator\n",
    "            X_gan = generate_latent_points(latent_dim, n_batch)\n",
    "            y_gan = np.ones((n_batch, 1))\n",
    "            \n",
    "            ## Update the generator via discriminator's error\n",
    "            g_loss = gan_model.train_on_batch(X_gan, y_gan)\n",
    "            \n",
    "            print('* Epoch: {}, Batch: {}, d1: {}, d2: {}, g: {}'.format(i+1, j+1, batch_per_epoch, d_loss1, d_loss2, g_loss))\n",
    "            \n",
    "        if (i + 1) % 10 == 0:\n",
    "            summarize_performance(i, generator, discriminator, dataset, latent_dim)"
   ]
  },
  {
   "cell_type": "code",
   "execution_count": null,
   "metadata": {
    "scrolled": true
   },
   "outputs": [],
   "source": [
    "latent_dim = 100\n",
    "\n",
    "\n",
    "discriminator = make_discriminator()\n",
    "generator = make_generator(latent_dim)\n",
    "gan = make_gan(generator, discriminator)\n",
    "\n",
    "DATA_DIR = '../../Resources/data/gan/celeba-dataset/img_align_celeba/img_align_celeba/'\n",
    "dataset = load_real_samples(DATA_DIR)\n",
    "\n",
    "\n",
    "train(generator, discriminator, gan, dataset, latent_dim)"
   ]
  },
  {
   "cell_type": "code",
   "execution_count": null,
   "metadata": {},
   "outputs": [],
   "source": []
  },
  {
   "cell_type": "code",
   "execution_count": null,
   "metadata": {},
   "outputs": [],
   "source": []
  },
  {
   "cell_type": "code",
   "execution_count": null,
   "metadata": {},
   "outputs": [],
   "source": []
  },
  {
   "cell_type": "code",
   "execution_count": null,
   "metadata": {},
   "outputs": [],
   "source": []
  },
  {
   "cell_type": "code",
   "execution_count": null,
   "metadata": {},
   "outputs": [],
   "source": []
  },
  {
   "cell_type": "code",
   "execution_count": null,
   "metadata": {},
   "outputs": [],
   "source": []
  }
 ],
 "metadata": {
  "kernelspec": {
   "display_name": "Python 3",
   "language": "python",
   "name": "python3"
  },
  "language_info": {
   "codemirror_mode": {
    "name": "ipython",
    "version": 3
   },
   "file_extension": ".py",
   "mimetype": "text/x-python",
   "name": "python",
   "nbconvert_exporter": "python",
   "pygments_lexer": "ipython3",
   "version": "3.7.4"
  }
 },
 "nbformat": 4,
 "nbformat_minor": 2
}
