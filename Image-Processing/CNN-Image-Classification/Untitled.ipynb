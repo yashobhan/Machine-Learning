{
 "cells": [
  {
   "cell_type": "code",
   "execution_count": 1,
   "metadata": {},
   "outputs": [],
   "source": [
    "import cv2\n",
    "import os\n",
    "import numpy as np\n",
    "from glob import glob"
   ]
  },
  {
   "cell_type": "code",
   "execution_count": 24,
   "metadata": {},
   "outputs": [],
   "source": [
    "IMAGES_DIR = '../../../Resources/dataset/'\n",
    "img_size = 100"
   ]
  },
  {
   "cell_type": "code",
   "execution_count": 25,
   "metadata": {},
   "outputs": [
    {
     "data": {
      "text/plain": [
       "183"
      ]
     },
     "execution_count": 25,
     "metadata": {},
     "output_type": "execute_result"
    }
   ],
   "source": [
    "pav_bhaji = []\n",
    "\n",
    "pav_bhaji_images = glob(os.path.join(IMAGES_DIR, '1/*.jpg'))\n",
    "len(pav_bhaji_images)"
   ]
  },
  {
   "cell_type": "code",
   "execution_count": 26,
   "metadata": {},
   "outputs": [
    {
     "data": {
      "text/plain": [
       "183"
      ]
     },
     "execution_count": 26,
     "metadata": {},
     "output_type": "execute_result"
    }
   ],
   "source": [
    "for img in pav_bhaji_images:\n",
    "    img = cv2.imread(img)\n",
    "    img = cv2.resize(img, (img_size, img_size))\n",
    "    pav_bhaji.append(img)\n",
    "    \n",
    "len(pav_bhaji)"
   ]
  },
  {
   "cell_type": "code",
   "execution_count": 27,
   "metadata": {},
   "outputs": [
    {
     "data": {
      "text/plain": [
       "269"
      ]
     },
     "execution_count": 27,
     "metadata": {},
     "output_type": "execute_result"
    }
   ],
   "source": [
    "not_pav_bhaji = []\n",
    "not_pav_bhaji_images = glob(os.path.join(IMAGES_DIR, '0/*.jpg'))\n",
    "len(not_pav_bhaji_images)"
   ]
  },
  {
   "cell_type": "code",
   "execution_count": 28,
   "metadata": {},
   "outputs": [
    {
     "data": {
      "text/plain": [
       "269"
      ]
     },
     "execution_count": 28,
     "metadata": {},
     "output_type": "execute_result"
    }
   ],
   "source": [
    "for img in not_pav_bhaji_images:\n",
    "    img = cv2.imread(img)\n",
    "    img = cv2.resize(img, (img_size, img_size))\n",
    "    not_pav_bhaji.append(img)\n",
    "    \n",
    "len(not_pav_bhaji)"
   ]
  },
  {
   "cell_type": "code",
   "execution_count": 29,
   "metadata": {},
   "outputs": [],
   "source": [
    "true_labels = [1] * len(pav_bhaji)\n",
    "false_labels = [0] * len(not_pav_bhaji)"
   ]
  },
  {
   "cell_type": "code",
   "execution_count": 30,
   "metadata": {},
   "outputs": [
    {
     "data": {
      "text/plain": [
       "(452, 452)"
      ]
     },
     "execution_count": 30,
     "metadata": {},
     "output_type": "execute_result"
    }
   ],
   "source": [
    "X = pav_bhaji + not_pav_bhaji\n",
    "y = true_labels + false_labels\n",
    "\n",
    "len(X), len(y)"
   ]
  },
  {
   "cell_type": "code",
   "execution_count": 31,
   "metadata": {},
   "outputs": [],
   "source": [
    "data = list(zip(X, y))"
   ]
  },
  {
   "cell_type": "code",
   "execution_count": 32,
   "metadata": {},
   "outputs": [],
   "source": [
    "import random"
   ]
  },
  {
   "cell_type": "code",
   "execution_count": 33,
   "metadata": {},
   "outputs": [],
   "source": [
    "random.shuffle(data)"
   ]
  },
  {
   "cell_type": "code",
   "execution_count": 34,
   "metadata": {},
   "outputs": [],
   "source": [
    "X, y = zip(*data)"
   ]
  },
  {
   "cell_type": "code",
   "execution_count": 35,
   "metadata": {},
   "outputs": [
    {
     "data": {
      "text/plain": [
       "(452, 100, 100, 3)"
      ]
     },
     "execution_count": 35,
     "metadata": {},
     "output_type": "execute_result"
    }
   ],
   "source": [
    "X = np.array(X)\n",
    "X.shape"
   ]
  },
  {
   "cell_type": "code",
   "execution_count": 36,
   "metadata": {},
   "outputs": [
    {
     "data": {
      "text/plain": [
       "(452,)"
      ]
     },
     "execution_count": 36,
     "metadata": {},
     "output_type": "execute_result"
    }
   ],
   "source": [
    "y = np.array(y)\n",
    "y.shape"
   ]
  },
  {
   "cell_type": "code",
   "execution_count": 37,
   "metadata": {},
   "outputs": [
    {
     "data": {
      "text/plain": [
       "True"
      ]
     },
     "execution_count": 37,
     "metadata": {},
     "output_type": "execute_result"
    }
   ],
   "source": [
    "len(X) == len(y)"
   ]
  },
  {
   "cell_type": "code",
   "execution_count": 38,
   "metadata": {},
   "outputs": [],
   "source": [
    "import matplotlib.pyplot as plt"
   ]
  },
  {
   "cell_type": "code",
   "execution_count": 39,
   "metadata": {},
   "outputs": [
    {
     "data": {
      "text/plain": [
       "<matplotlib.image.AxesImage at 0x2afc46440c8>"
      ]
     },
     "execution_count": 39,
     "metadata": {},
     "output_type": "execute_result"
    },
    {
     "data": {
      "image/png": "[encoded data removed]",
      "text/plain": [
       "<Figure size 432x288 with 1 Axes>"
      ]
     },
     "metadata": {
      "needs_background": "light"
     },
     "output_type": "display_data"
    }
   ],
   "source": [
    "plt.imshow(X[219])"
   ]
  },
  {
   "cell_type": "code",
   "execution_count": 40,
   "metadata": {},
   "outputs": [
    {
     "data": {
      "text/plain": [
       "0"
      ]
     },
     "execution_count": 40,
     "metadata": {},
     "output_type": "execute_result"
    }
   ],
   "source": [
    "y[219]"
   ]
  },
  {
   "cell_type": "code",
   "execution_count": 41,
   "metadata": {},
   "outputs": [],
   "source": [
    "from sklearn.model_selection import train_test_split"
   ]
  },
  {
   "cell_type": "code",
   "execution_count": 42,
   "metadata": {},
   "outputs": [],
   "source": [
    "X_train, X_test, y_train, y_test = train_test_split(X, y, test_size=0.3)"
   ]
  },
  {
   "cell_type": "code",
   "execution_count": 43,
   "metadata": {},
   "outputs": [],
   "source": [
    "import tensorflow as tf"
   ]
  },
  {
   "cell_type": "code",
   "execution_count": 73,
   "metadata": {
    "scrolled": true
   },
   "outputs": [
    {
     "name": "stdout",
     "output_type": "stream",
     "text": [
      "Model: \"sequential_8\"\n",
      "_________________________________________________________________\n",
      "Layer (type)                 Output Shape              Param #   \n",
      "=================================================================\n",
      "conv2d_36 (Conv2D)           (None, 98, 98, 64)        1792      \n",
      "_________________________________________________________________\n",
      "conv2d_37 (Conv2D)           (None, 96, 96, 64)        36928     \n",
      "_________________________________________________________________\n",
      "max_pooling2d_24 (MaxPooling (None, 48, 48, 64)        0         \n",
      "_________________________________________________________________\n",
      "dropout_10 (Dropout)         (None, 48, 48, 64)        0         \n",
      "_________________________________________________________________\n",
      "batch_normalization_18 (Batc (None, 48, 48, 64)        256       \n",
      "_________________________________________________________________\n",
      "conv2d_38 (Conv2D)           (None, 46, 46, 128)       73856     \n",
      "_________________________________________________________________\n",
      "conv2d_39 (Conv2D)           (None, 44, 44, 128)       147584    \n",
      "_________________________________________________________________\n",
      "max_pooling2d_25 (MaxPooling (None, 22, 22, 128)       0         \n",
      "_________________________________________________________________\n",
      "dropout_11 (Dropout)         (None, 22, 22, 128)       0         \n",
      "_________________________________________________________________\n",
      "batch_normalization_19 (Batc (None, 22, 22, 128)       512       \n",
      "_________________________________________________________________\n",
      "conv2d_40 (Conv2D)           (None, 20, 20, 256)       295168    \n",
      "_________________________________________________________________\n",
      "conv2d_41 (Conv2D)           (None, 18, 18, 256)       590080    \n",
      "_________________________________________________________________\n",
      "max_pooling2d_26 (MaxPooling (None, 9, 9, 256)         0         \n",
      "_________________________________________________________________\n",
      "batch_normalization_20 (Batc (None, 9, 9, 256)         1024      \n",
      "_________________________________________________________________\n",
      "conv2d_42 (Conv2D)           (None, 7, 7, 128)         295040    \n",
      "_________________________________________________________________\n",
      "conv2d_43 (Conv2D)           (None, 5, 5, 128)         147584    \n",
      "_________________________________________________________________\n",
      "max_pooling2d_27 (MaxPooling (None, 2, 2, 128)         0         \n",
      "_________________________________________________________________\n",
      "batch_normalization_21 (Batc (None, 2, 2, 128)         512       \n",
      "_________________________________________________________________\n",
      "flatten_8 (Flatten)          (None, 512)               0         \n",
      "_________________________________________________________________\n",
      "dropout_12 (Dropout)         (None, 512)               0         \n",
      "_________________________________________________________________\n",
      "dense_15 (Dense)             (None, 64)                32832     \n",
      "_________________________________________________________________\n",
      "dense_16 (Dense)             (None, 1)                 65        \n",
      "=================================================================\n",
      "Total params: 1,623,233\n",
      "Trainable params: 1,622,081\n",
      "Non-trainable params: 1,152\n",
      "_________________________________________________________________\n"
     ]
    }
   ],
   "source": [
    "## Neural net\n",
    "model = tf.keras.models.Sequential()\n",
    "model.add(tf.keras.layers.Conv2D(64, (3, 3), activation='relu', input_shape=(img_size, img_size, 3)))\n",
    "model.add(tf.keras.layers.Conv2D(64, (3, 3), activation='relu'))\n",
    "model.add(tf.keras.layers.MaxPool2D(2, 2))\n",
    "model.add(tf.keras.layers.Dropout(0.2))\n",
    "model.add(tf.keras.layers.BatchNormalization())\n",
    "\n",
    "\n",
    "model.add(tf.keras.layers.Conv2D(128, (3, 3), activation='relu'))\n",
    "model.add(tf.keras.layers.Conv2D(128, (3, 3), activation='relu'))\n",
    "model.add(tf.keras.layers.MaxPool2D(2, 2))\n",
    "model.add(tf.keras.layers.Dropout(0.2))\n",
    "model.add(tf.keras.layers.BatchNormalization())\n",
    "\n",
    "model.add(tf.keras.layers.Conv2D(256, (3, 3), activation='relu'))\n",
    "model.add(tf.keras.layers.Conv2D(256, (3, 3), activation='relu'))\n",
    "model.add(tf.keras.layers.MaxPool2D(2, 2))\n",
    "model.add(tf.keras.layers.BatchNormalization())\n",
    "\n",
    "model.add(tf.keras.layers.Conv2D(128, (3, 3), activation='relu'))\n",
    "model.add(tf.keras.layers.Conv2D(128, (3, 3), activation='relu'))\n",
    "model.add(tf.keras.layers.MaxPool2D(2, 2))\n",
    "model.add(tf.keras.layers.BatchNormalization())\n",
    "\n",
    "# model.add(tf.keras.layers.Conv2D(16, (3, 3), activation='relu'))\n",
    "# model.add(tf.keras.layers.Conv2D(32, (3, 3), activation='relu'))\n",
    "# model.add(tf.keras.layers.MaxPool2D(2, 2))\n",
    "# model.add(tf.keras.layers.BatchNormalization())\n",
    "\n",
    "model.add(tf.keras.layers.Flatten())\n",
    "\n",
    "model.add(tf.keras.layers.Dropout(0.2))\n",
    "\n",
    "model.add(tf.keras.layers.Dense(64, activation='relu'))\n",
    "model.add(tf.keras.layers.Dense(1, activation='sigmoid'))\n",
    "\n",
    "model.summary()"
   ]
  },
  {
   "cell_type": "code",
   "execution_count": 74,
   "metadata": {},
   "outputs": [],
   "source": [
    "# ## Neural net\n",
    "# model = tf.keras.models.Sequential()\n",
    "# model.add(tf.keras.layers.Conv2D(32, (3, 3), activation='relu', input_shape=(img_size, img_size, 3)))\n",
    "# model.add(tf.keras.layers.MaxPool2D(2, 2))\n",
    "\n",
    "# model.add(tf.keras.layers.Conv2D(64, (3, 3), activation='relu'))\n",
    "# model.add(tf.keras.layers.Conv2D(64, (3, 3), activation='relu'))\n",
    "# model.add(tf.keras.layers.MaxPool2D(2, 2))\n",
    "\n",
    "# model.add(tf.keras.layers.Dropout(0.2))\n",
    "\n",
    "# model.add(tf.keras.layers.Flatten())\n",
    "\n",
    "# model.add(tf.keras.layers.Dense(64, activation='relu'))\n",
    "# model.add(tf.keras.layers.Dense(1, activation='sigmoid'))\n",
    "\n",
    "# model.summary()"
   ]
  },
  {
   "cell_type": "code",
   "execution_count": 75,
   "metadata": {},
   "outputs": [],
   "source": [
    "model.compile(loss='binary_crossentropy', optimizer='adam', metrics=['accuracy'])"
   ]
  },
  {
   "cell_type": "code",
   "execution_count": 76,
   "metadata": {
    "scrolled": true
   },
   "outputs": [
    {
     "name": "stdout",
     "output_type": "stream",
     "text": [
      "Train on 316 samples, validate on 136 samples\n",
      "Epoch 1/30\n",
      "316/316 [==============================] - 10s 31ms/sample - loss: 0.7372 - accuracy: 0.5949 - val_loss: 10.2513 - val_accuracy: 0.6029\n",
      "Epoch 2/30\n",
      "316/316 [==============================] - 6s 17ms/sample - loss: 0.6478 - accuracy: 0.6709 - val_loss: 18.9706 - val_accuracy: 0.6029\n",
      "Epoch 3/30\n",
      "316/316 [==============================] - 6s 19ms/sample - loss: 0.7039 - accuracy: 0.6741 - val_loss: 2.6217 - val_accuracy: 0.6029\n",
      "Epoch 4/30\n",
      "316/316 [==============================] - 5s 17ms/sample - loss: 0.6492 - accuracy: 0.6392 - val_loss: 0.7107 - val_accuracy: 0.6176\n",
      "Epoch 5/30\n",
      "316/316 [==============================] - 6s 18ms/sample - loss: 0.5951 - accuracy: 0.6741 - val_loss: 0.6464 - val_accuracy: 0.6544\n",
      "Epoch 6/30\n",
      "316/316 [==============================] - 6s 18ms/sample - loss: 0.5371 - accuracy: 0.7500 - val_loss: 0.8779 - val_accuracy: 0.6397\n",
      "Epoch 7/30\n",
      "316/316 [==============================] - 6s 18ms/sample - loss: 0.5314 - accuracy: 0.7437 - val_loss: 0.8179 - val_accuracy: 0.6397\n",
      "Epoch 8/30\n",
      "316/316 [==============================] - 6s 18ms/sample - loss: 0.4944 - accuracy: 0.7848 - val_loss: 0.8067 - val_accuracy: 0.5735\n",
      "Epoch 9/30\n",
      "316/316 [==============================] - 6s 19ms/sample - loss: 0.4193 - accuracy: 0.8038 - val_loss: 0.8302 - val_accuracy: 0.5809\n",
      "Epoch 10/30\n",
      "316/316 [==============================] - 6s 19ms/sample - loss: 0.3455 - accuracy: 0.8576 - val_loss: 0.7895 - val_accuracy: 0.6250\n",
      "Epoch 11/30\n",
      "316/316 [==============================] - 6s 19ms/sample - loss: 0.3357 - accuracy: 0.8576 - val_loss: 0.7375 - val_accuracy: 0.6397\n",
      "Epoch 12/30\n",
      "316/316 [==============================] - 6s 19ms/sample - loss: 0.3150 - accuracy: 0.8639 - val_loss: 0.7226 - val_accuracy: 0.6544\n",
      "Epoch 13/30\n",
      "316/316 [==============================] - 6s 19ms/sample - loss: 0.2994 - accuracy: 0.8797 - val_loss: 0.8483 - val_accuracy: 0.6544\n",
      "Epoch 14/30\n",
      "316/316 [==============================] - 6s 19ms/sample - loss: 0.2533 - accuracy: 0.8987 - val_loss: 0.8270 - val_accuracy: 0.6618\n",
      "Epoch 15/30\n",
      "316/316 [==============================] - 6s 19ms/sample - loss: 0.1765 - accuracy: 0.9335 - val_loss: 0.8209 - val_accuracy: 0.6838\n",
      "Epoch 16/30\n",
      "316/316 [==============================] - 6s 19ms/sample - loss: 0.1706 - accuracy: 0.9335 - val_loss: 0.7208 - val_accuracy: 0.6765\n",
      "Epoch 17/30\n",
      "316/316 [==============================] - 6s 19ms/sample - loss: 0.1044 - accuracy: 0.9810 - val_loss: 0.8307 - val_accuracy: 0.6029\n",
      "Epoch 18/30\n",
      "316/316 [==============================] - 6s 19ms/sample - loss: 0.1050 - accuracy: 0.9778 - val_loss: 0.7995 - val_accuracy: 0.5882\n",
      "Epoch 19/30\n",
      "316/316 [==============================] - 6s 20ms/sample - loss: 0.1955 - accuracy: 0.9177 - val_loss: 0.9353 - val_accuracy: 0.5735\n",
      "Epoch 20/30\n",
      "316/316 [==============================] - 7s 22ms/sample - loss: 0.1790 - accuracy: 0.9462 - val_loss: 1.1232 - val_accuracy: 0.5809\n",
      "Epoch 21/30\n",
      "316/316 [==============================] - 10s 32ms/sample - loss: 0.2118 - accuracy: 0.8987 - val_loss: 1.2899 - val_accuracy: 0.6250\n",
      "Epoch 22/30\n",
      "316/316 [==============================] - 10s 32ms/sample - loss: 0.1700 - accuracy: 0.9399 - val_loss: 1.2433 - val_accuracy: 0.6103\n",
      "Epoch 23/30\n",
      "316/316 [==============================] - 10s 32ms/sample - loss: 0.1204 - accuracy: 0.9652 - val_loss: 1.1510 - val_accuracy: 0.6618\n",
      "Epoch 24/30\n",
      "316/316 [==============================] - 10s 31ms/sample - loss: 0.1038 - accuracy: 0.9715 - val_loss: 0.9737 - val_accuracy: 0.6691\n",
      "Epoch 25/30\n",
      "316/316 [==============================] - 10s 31ms/sample - loss: 0.1217 - accuracy: 0.9652 - val_loss: 1.1151 - val_accuracy: 0.6544\n",
      "Epoch 26/30\n",
      "316/316 [==============================] - 10s 31ms/sample - loss: 0.0628 - accuracy: 0.9810 - val_loss: 1.1356 - val_accuracy: 0.6618\n",
      "Epoch 27/30\n",
      "316/316 [==============================] - 10s 31ms/sample - loss: 0.0411 - accuracy: 0.9905 - val_loss: 1.1629 - val_accuracy: 0.6250\n",
      "Epoch 28/30\n",
      "316/316 [==============================] - 10s 31ms/sample - loss: 0.0651 - accuracy: 0.9778 - val_loss: 1.0652 - val_accuracy: 0.6985\n",
      "Epoch 29/30\n",
      "316/316 [==============================] - 10s 31ms/sample - loss: 0.0817 - accuracy: 0.9652 - val_loss: 1.7992 - val_accuracy: 0.5809\n",
      "Epoch 30/30\n",
      "316/316 [==============================] - 10s 31ms/sample - loss: 0.0638 - accuracy: 0.9810 - val_loss: 1.2830 - val_accuracy: 0.6324\n"
     ]
    },
    {
     "data": {
      "text/plain": [
       "<tensorflow.python.keras.callbacks.History at 0x2b0b9517348>"
      ]
     },
     "execution_count": 76,
     "metadata": {},
     "output_type": "execute_result"
    }
   ],
   "source": [
    "model.fit(X_train, y_train, batch_size=12, epochs=30, validation_data=(X_test, y_test))"
   ]
  },
  {
   "cell_type": "code",
   "execution_count": 77,
   "metadata": {},
   "outputs": [
    {
     "data": {
      "text/plain": [
       "<matplotlib.legend.Legend at 0x2b0bbe64fc8>"
      ]
     },
     "execution_count": 77,
     "metadata": {},
     "output_type": "execute_result"
    },
    {
     "data": {
      "image/png": "[encoded data removed]",
      "text/plain": [
       "<Figure size 1008x360 with 2 Axes>"
      ]
     },
     "metadata": {
      "needs_background": "light"
     },
     "output_type": "display_data"
    }
   ],
   "source": [
    "plt.figure(figsize=(14, 5))\n",
    "plt.subplot(1, 2, 1)\n",
    "plt.plot(model.history.history['accuracy'], label='accuracy')\n",
    "plt.plot(model.history.history['val_accuracy'], label = 'val_accuracy')\n",
    "plt.xlabel('Epochs')\n",
    "plt.ylabel('Accuracy')\n",
    "plt.title('Accuracy vs Val Accuracy')\n",
    "# plt.ylim([0.5, 1])\n",
    "plt.legend(loc='lower right')\n",
    "\n",
    "plt.subplot(1, 2, 2)\n",
    "plt.plot(model.history.history['loss'], label='loss')\n",
    "plt.plot(model.history.history['val_loss'], label = 'val_loss')\n",
    "plt.xlabel('Epochs')\n",
    "plt.ylabel('Loss')\n",
    "plt.title('Loss vs Val Loss')\n",
    "# plt.ylim([0.5, 1])\n",
    "plt.legend(loc='lower right')"
   ]
  },
  {
   "cell_type": "code",
   "execution_count": null,
   "metadata": {},
   "outputs": [],
   "source": []
  }
 ],
 "metadata": {
  "kernelspec": {
   "display_name": "Python 3",
   "language": "python",
   "name": "python3"
  },
  "language_info": {
   "codemirror_mode": {
    "name": "ipython",
    "version": 3
   },
   "file_extension": ".py",
   "mimetype": "text/x-python",
   "name": "python",
   "nbconvert_exporter": "python",
   "pygments_lexer": "ipython3",
   "version": "3.7.4"
  }
 },
 "nbformat": 4,
 "nbformat_minor": 2
}
