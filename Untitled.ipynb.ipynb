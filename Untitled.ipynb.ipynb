{
 "cells": [
  {
   "cell_type": "code",
   "execution_count": null,
   "metadata": {},
   "outputs": [],
   "source": [
    "import pandas as pd\n",
    "import numpy as np\n",
    "\n",
    "from sklearn.multiclass import OneVsRestClassifier\n",
    "from sklearn.svm import SVC"
   ]
  },
  {
   "cell_type": "code",
   "execution_count": null,
   "metadata": {},
   "outputs": [],
   "source": [
    "train = pd.read_csv('../Resources/train.csv', header=None).to_numpy()\n",
    "train_features = train[:, :294]\n",
    "train_targets = train[:, 294:]"
   ]
  },
  {
   "cell_type": "code",
   "execution_count": null,
   "metadata": {},
   "outputs": [],
   "source": [
    "test_features = pd.read_csv('../Resources/test.csv', header=None).to_numpy() "
   ]
  },
  {
   "cell_type": "code",
   "execution_count": null,
   "metadata": {},
   "outputs": [],
   "source": [
    "model = OneVsRestClassifier(SVC(kernel='linear'))\n",
    "model.fit(train_features, train_targets)"
   ]
  },
  {
   "cell_type": "code",
   "execution_count": null,
   "metadata": {},
   "outputs": [],
   "source": [
    "print(model.score(train_features, train_targets))"
   ]
  },
  {
   "cell_type": "code",
   "execution_count": null,
   "metadata": {},
   "outputs": [],
   "source": [
    "results = model.predict(test_features)"
   ]
  },
  {
   "cell_type": "code",
   "execution_count": null,
   "metadata": {},
   "outputs": [],
   "source": [
    "df = pd.DataFrame(results)"
   ]
  },
  {
   "cell_type": "code",
   "execution_count": null,
   "metadata": {},
   "outputs": [],
   "source": [
    "df.to_csv('prediction.csv', index=False)"
   ]
  },
  {
   "cell_type": "code",
   "execution_count": null,
   "metadata": {},
   "outputs": [],
   "source": []
  },
  {
   "cell_type": "code",
   "execution_count": null,
   "metadata": {},
   "outputs": [],
   "source": []
  },
  {
   "cell_type": "code",
   "execution_count": null,
   "metadata": {},
   "outputs": [],
   "source": []
  },
  {
   "cell_type": "code",
   "execution_count": null,
   "metadata": {},
   "outputs": [],
   "source": []
  },
  {
   "cell_type": "code",
   "execution_count": 18,
   "metadata": {},
   "outputs": [],
   "source": [
    "import tweepy, requests, time\n",
    "from pytz import timezone\n",
    "from datetime import datetime\n",
    "\n",
    "from apscheduler.schedulers.blocking import BlockingScheduler\n",
    "import logging\n",
    "logging.basicConfig()\n",
    "logging.getLogger('apscheduler').setLevel(logging.WARNING)\n",
    "\n",
    "\n",
    "CONSUMER_KEY = 'JmFgKANxjeryAOXjcE8FKEWpE'\n",
    "CONSUMER_SECRET = 'jp61OTFMDYkoulFiIwSwAUIRua8rWLLpRJU5lFMx6H1FtsOK7w'\n",
    "ACCESS_KEY = '920184279748960256-gLbMwaCIHmI2uz09GucDyEkQjPQ2Zun'\n",
    "ACCESS_SECRET = 'Qjr0U1hayOLHDPmE5Z1fNcnQgjUgdAm8K8bTuC2dvAqrI'\n",
    "auth = tweepy.OAuthHandler(CONSUMER_KEY, CONSUMER_SECRET)\n",
    "auth.set_access_token(ACCESS_KEY, ACCESS_SECRET)"
   ]
  },
  {
   "cell_type": "code",
   "execution_count": 19,
   "metadata": {},
   "outputs": [],
   "source": [
    "def get_data(auth):\n",
    "    \n",
    "    api = tweepy.API(auth)\n",
    "    \n",
    "    url = 'http://api.openweathermap.org/data/2.5/weather?appid=669b07295f04c42de83f857f64e247b5&q=Mumbai'\n",
    "    poll_url = 'https://api.waqi.info/feed/geo:19.0760;72.8777/?token=6cf2991fe8c5ceeb19a4b518fe3c46e3932353c4'\n",
    "    json_data = requests.get(url).json()\n",
    "    poll_json_data = requests.get(poll_url).json()\n",
    "    \n",
    "    return api, json_data, poll_json_data"
   ]
  },
  {
   "cell_type": "code",
   "execution_count": 20,
   "metadata": {
    "scrolled": true
   },
   "outputs": [
    {
     "data": {
      "text/plain": [
       "(<tweepy.api.API at 0x11a4b072d08>,\n",
       " {'coord': {'lon': 72.85, 'lat': 19.01},\n",
       "  'weather': [{'id': 721,\n",
       "    'main': 'Haze',\n",
       "    'description': 'haze',\n",
       "    'icon': '50n'}],\n",
       "  'base': 'stations',\n",
       "  'main': {'temp': 302.15,\n",
       "   'feels_like': 304.68,\n",
       "   'temp_min': 302.15,\n",
       "   'temp_max': 302.15,\n",
       "   'pressure': 1012,\n",
       "   'humidity': 66},\n",
       "  'visibility': 3500,\n",
       "  'wind': {'speed': 3.1, 'deg': 310},\n",
       "  'clouds': {'all': 40},\n",
       "  'dt': 1585331570,\n",
       "  'sys': {'type': 1,\n",
       "   'id': 9052,\n",
       "   'country': 'IN',\n",
       "   'sunrise': 1585271194,\n",
       "   'sunset': 1585315263},\n",
       "  'timezone': 19800,\n",
       "  'id': 1275339,\n",
       "  'name': 'Mumbai',\n",
       "  'cod': 200},\n",
       " {'status': 'ok',\n",
       "  'data': {'aqi': 122,\n",
       "   'idx': 7020,\n",
       "   'attributions': [{'url': 'http://worldweather.wmo.int',\n",
       "     'name': 'World Meteorological Organization - surface synoptic observations (WMO-SYNOP)'},\n",
       "    {'url': 'https://in.usembassy.gov/embassy-consulates/new-delhi/air-quality-data/',\n",
       "     'name': \"U.S. Embassy and Consulates' Air Quality Monitor in India\",\n",
       "     'logo': 'US-StateDepartment.png'},\n",
       "    {'url': 'https://waqi.info/', 'name': 'World Air Quality Index Project'}],\n",
       "   'city': {'geo': [19.07283, 72.88261],\n",
       "    'name': 'Mumbai US Consulate, India (मुंबई अमेरिकी वाणिज्य दूतावास)',\n",
       "    'url': 'https://aqicn.org/city/india/mumbai/us-consulate'},\n",
       "   'dominentpol': 'pm25',\n",
       "   'iaqi': {'dew': {'v': 22},\n",
       "    'h': {'v': 65},\n",
       "    'p': {'v': 1012},\n",
       "    'pm25': {'v': 122},\n",
       "    't': {'v': 29},\n",
       "    'w': {'v': 2.8},\n",
       "    'wg': {'v': 10.2}},\n",
       "   'time': {'s': '2020-03-27 22:00:00', 'tz': '+05:30', 'v': 1585346400},\n",
       "   'debug': {'sync': '2020-03-28T02:00:28+09:00'}}})"
      ]
     },
     "execution_count": 20,
     "metadata": {},
     "output_type": "execute_result"
    }
   ],
   "source": [
    "get_data(auth)"
   ]
  },
  {
   "cell_type": "code",
   "execution_count": 21,
   "metadata": {},
   "outputs": [],
   "source": [
    "def prepare_data(json_data, poll_json_data):\n",
    "    \n",
    "    \n",
    "    condition = json_data['weather'][0]['main']\n",
    "    temperature = json_data['main']['temp']\n",
    "    humidity = json_data['main']['humidity']\n",
    "    windspeed = json_data['wind']['speed']\n",
    "    visibility = json_data['visibility']\n",
    "    min_temp = json_data['main']['temp_min']\n",
    "    max_temp = json_data['main']['temp_max']\n",
    "\n",
    "    pollution = poll_json_data['data']['aqi']\n",
    "\n",
    "    if(pollution <= 50):\n",
    "        pol_status = \"Good\"\n",
    "    elif(pollution >50 and pollution <= 100):\n",
    "        pol_status = \"Moderate\"\n",
    "    elif (pollution > 100 and pollution <= 200):\n",
    "        pol_status = \"Unhealthy\"\n",
    "    elif (pollution > 200 and pollution <= 300):\n",
    "        pol_status = \"Very Unhealthy\"\n",
    "    elif (pollution > 300):\n",
    "        pol_status = \"FUCKING RUN\"\n",
    "\n",
    "    temperature -= 273.15\n",
    "    min_temp -= 273.15\n",
    "    max_temp -= 273.15\n",
    "    windspeed *= 3.6\n",
    "    visibility /= 1000\n",
    "\n",
    "    degree_sign = u'\\N{DEGREE SIGN}'\n",
    "\n",
    "\n",
    "    india = timezone('Asia/Kolkata')\n",
    "    currenttime = datetime.now(india).strftime('%H:%M on %d-%m-%Y')\n",
    "\n",
    "\n",
    "    tweet = \"It's \" + str(currenttime) + \",\\nThe weather is \" + str(round(temperature)) + degree_sign + \" Celsius with \"\\\n",
    "            + str(condition) + \" (Min: \" + str(round(min_temp)) + \", Max: \" + str(round(max_temp)) + \")\\nAir Pollution Level: \" + str(pollution) + \" (\" \\\n",
    "            + str(pol_status) + \").\\nHumidity: \" + str(humidity) + \"%. \\n\" + \"Wind speed: \" + str(round(windspeed, 1)) + \"km/hr. \\nVisibility: \"+ str(round(visibility, 1)) + \"km.\\n#Mumbai #Weather #Forecast #Climate #Bombay #Pollution #AirPollution\"\n",
    "\n",
    "    return tweet\n",
    "    "
   ]
  },
  {
   "cell_type": "code",
   "execution_count": 28,
   "metadata": {},
   "outputs": [],
   "source": [
    "def main():\n",
    "    api, json_data, poll_json_data = get_data(auth)\n",
    "\n",
    "    tweet = prepare_data(json_data, poll_json_data)\n",
    "    api.update_status(status=tweet)\n",
    "    print(tweet)"
   ]
  },
  {
   "cell_type": "code",
   "execution_count": 29,
   "metadata": {
    "scrolled": true
   },
   "outputs": [
    {
     "name": "stdout",
     "output_type": "stream",
     "text": [
      "It's 23:37 on 27-03-2020,\n",
      "The weather is 28° Celsius with Haze (Min: 28, Max: 28)\n",
      "Air Pollution Level: 124 (Unhealthy).\n",
      "Humidity: 65%. \n",
      "Wind speed: 11.2km/hr. \n",
      "Visibility: 3.5km.\n",
      "#Mumbai #Weather #Forecast #Climate #Bombay #Pollution #AirPollution\n"
     ]
    },
    {
     "name": "stderr",
     "output_type": "stream",
     "text": [
      "ERROR:apscheduler.executors.default:Job \"main (trigger: interval[0:00:05], next run at: 2020-03-27 23:37:27 IST)\" raised an exception\n",
      "Traceback (most recent call last):\n",
      "  File \"C:\\Users\\yasho\\Anaconda3\\lib\\site-packages\\apscheduler\\executors\\base.py\", line 125, in run_job\n",
      "    retval = job.func(*job.args, **job.kwargs)\n",
      "  File \"<ipython-input-28-d134fcd506e3>\", line 5, in main\n",
      "    api.update_status(status=tweet)\n",
      "  File \"C:\\Users\\yasho\\Anaconda3\\lib\\site-packages\\tweepy\\api.py\", line 193, in update_status\n",
      "    )(post_data=post_data, *args, **kwargs)\n",
      "  File \"C:\\Users\\yasho\\Anaconda3\\lib\\site-packages\\tweepy\\binder.py\", line 250, in _call\n",
      "    return method.execute()\n",
      "  File \"C:\\Users\\yasho\\Anaconda3\\lib\\site-packages\\tweepy\\binder.py\", line 233, in execute\n",
      "    raise TweepError(error_msg, resp, api_code=api_error_code)\n",
      "tweepy.error.TweepError: [{'code': 187, 'message': 'Status is a duplicate.'}]\n",
      "ERROR:apscheduler.executors.default:Job \"main (trigger: interval[0:00:05], next run at: 2020-03-27 23:37:32 IST)\" raised an exception\n",
      "Traceback (most recent call last):\n",
      "  File \"C:\\Users\\yasho\\Anaconda3\\lib\\site-packages\\apscheduler\\executors\\base.py\", line 125, in run_job\n",
      "    retval = job.func(*job.args, **job.kwargs)\n",
      "  File \"<ipython-input-28-d134fcd506e3>\", line 5, in main\n",
      "    api.update_status(status=tweet)\n",
      "  File \"C:\\Users\\yasho\\Anaconda3\\lib\\site-packages\\tweepy\\api.py\", line 193, in update_status\n",
      "    )(post_data=post_data, *args, **kwargs)\n",
      "  File \"C:\\Users\\yasho\\Anaconda3\\lib\\site-packages\\tweepy\\binder.py\", line 250, in _call\n",
      "    return method.execute()\n",
      "  File \"C:\\Users\\yasho\\Anaconda3\\lib\\site-packages\\tweepy\\binder.py\", line 233, in execute\n",
      "    raise TweepError(error_msg, resp, api_code=api_error_code)\n",
      "tweepy.error.TweepError: [{'code': 187, 'message': 'Status is a duplicate.'}]\n",
      "ERROR:apscheduler.executors.default:Job \"main (trigger: interval[0:00:05], next run at: 2020-03-27 23:37:37 IST)\" raised an exception\n",
      "Traceback (most recent call last):\n",
      "  File \"C:\\Users\\yasho\\Anaconda3\\lib\\site-packages\\apscheduler\\executors\\base.py\", line 125, in run_job\n",
      "    retval = job.func(*job.args, **job.kwargs)\n",
      "  File \"<ipython-input-28-d134fcd506e3>\", line 5, in main\n",
      "    api.update_status(status=tweet)\n",
      "  File \"C:\\Users\\yasho\\Anaconda3\\lib\\site-packages\\tweepy\\api.py\", line 193, in update_status\n",
      "    )(post_data=post_data, *args, **kwargs)\n",
      "  File \"C:\\Users\\yasho\\Anaconda3\\lib\\site-packages\\tweepy\\binder.py\", line 250, in _call\n",
      "    return method.execute()\n",
      "  File \"C:\\Users\\yasho\\Anaconda3\\lib\\site-packages\\tweepy\\binder.py\", line 233, in execute\n",
      "    raise TweepError(error_msg, resp, api_code=api_error_code)\n",
      "tweepy.error.TweepError: [{'code': 187, 'message': 'Status is a duplicate.'}]\n",
      "ERROR:apscheduler.executors.default:Job \"main (trigger: interval[0:00:05], next run at: 2020-03-27 23:37:42 IST)\" raised an exception\n",
      "Traceback (most recent call last):\n",
      "  File \"C:\\Users\\yasho\\Anaconda3\\lib\\site-packages\\apscheduler\\executors\\base.py\", line 125, in run_job\n",
      "    retval = job.func(*job.args, **job.kwargs)\n",
      "  File \"<ipython-input-28-d134fcd506e3>\", line 5, in main\n",
      "    api.update_status(status=tweet)\n",
      "  File \"C:\\Users\\yasho\\Anaconda3\\lib\\site-packages\\tweepy\\api.py\", line 193, in update_status\n",
      "    )(post_data=post_data, *args, **kwargs)\n",
      "  File \"C:\\Users\\yasho\\Anaconda3\\lib\\site-packages\\tweepy\\binder.py\", line 250, in _call\n",
      "    return method.execute()\n",
      "  File \"C:\\Users\\yasho\\Anaconda3\\lib\\site-packages\\tweepy\\binder.py\", line 233, in execute\n",
      "    raise TweepError(error_msg, resp, api_code=api_error_code)\n",
      "tweepy.error.TweepError: [{'code': 187, 'message': 'Status is a duplicate.'}]\n",
      "ERROR:apscheduler.executors.default:Job \"main (trigger: interval[0:00:05], next run at: 2020-03-27 23:37:47 IST)\" raised an exception\n",
      "Traceback (most recent call last):\n",
      "  File \"C:\\Users\\yasho\\Anaconda3\\lib\\site-packages\\apscheduler\\executors\\base.py\", line 125, in run_job\n",
      "    retval = job.func(*job.args, **job.kwargs)\n",
      "  File \"<ipython-input-28-d134fcd506e3>\", line 5, in main\n",
      "    api.update_status(status=tweet)\n",
      "  File \"C:\\Users\\yasho\\Anaconda3\\lib\\site-packages\\tweepy\\api.py\", line 193, in update_status\n",
      "    )(post_data=post_data, *args, **kwargs)\n",
      "  File \"C:\\Users\\yasho\\Anaconda3\\lib\\site-packages\\tweepy\\binder.py\", line 250, in _call\n",
      "    return method.execute()\n",
      "  File \"C:\\Users\\yasho\\Anaconda3\\lib\\site-packages\\tweepy\\binder.py\", line 233, in execute\n",
      "    raise TweepError(error_msg, resp, api_code=api_error_code)\n",
      "tweepy.error.TweepError: [{'code': 187, 'message': 'Status is a duplicate.'}]\n",
      "ERROR:apscheduler.executors.default:Job \"main (trigger: interval[0:00:05], next run at: 2020-03-27 23:37:52 IST)\" raised an exception\n",
      "Traceback (most recent call last):\n",
      "  File \"C:\\Users\\yasho\\Anaconda3\\lib\\site-packages\\apscheduler\\executors\\base.py\", line 125, in run_job\n",
      "    retval = job.func(*job.args, **job.kwargs)\n",
      "  File \"<ipython-input-28-d134fcd506e3>\", line 5, in main\n",
      "    api.update_status(status=tweet)\n",
      "  File \"C:\\Users\\yasho\\Anaconda3\\lib\\site-packages\\tweepy\\api.py\", line 193, in update_status\n",
      "    )(post_data=post_data, *args, **kwargs)\n",
      "  File \"C:\\Users\\yasho\\Anaconda3\\lib\\site-packages\\tweepy\\binder.py\", line 250, in _call\n",
      "    return method.execute()\n",
      "  File \"C:\\Users\\yasho\\Anaconda3\\lib\\site-packages\\tweepy\\binder.py\", line 233, in execute\n",
      "    raise TweepError(error_msg, resp, api_code=api_error_code)\n",
      "tweepy.error.TweepError: [{'code': 187, 'message': 'Status is a duplicate.'}]\n",
      "ERROR:apscheduler.executors.default:Job \"main (trigger: interval[0:00:05], next run at: 2020-03-27 23:37:57 IST)\" raised an exception\n",
      "Traceback (most recent call last):\n",
      "  File \"C:\\Users\\yasho\\Anaconda3\\lib\\site-packages\\apscheduler\\executors\\base.py\", line 125, in run_job\n",
      "    retval = job.func(*job.args, **job.kwargs)\n",
      "  File \"<ipython-input-28-d134fcd506e3>\", line 5, in main\n",
      "    api.update_status(status=tweet)\n",
      "  File \"C:\\Users\\yasho\\Anaconda3\\lib\\site-packages\\tweepy\\api.py\", line 193, in update_status\n",
      "    )(post_data=post_data, *args, **kwargs)\n",
      "  File \"C:\\Users\\yasho\\Anaconda3\\lib\\site-packages\\tweepy\\binder.py\", line 250, in _call\n",
      "    return method.execute()\n",
      "  File \"C:\\Users\\yasho\\Anaconda3\\lib\\site-packages\\tweepy\\binder.py\", line 233, in execute\n",
      "    raise TweepError(error_msg, resp, api_code=api_error_code)\n",
      "tweepy.error.TweepError: [{'code': 187, 'message': 'Status is a duplicate.'}]\n",
      "ERROR:apscheduler.executors.default:Job \"main (trigger: interval[0:00:05], next run at: 2020-03-27 23:38:02 IST)\" raised an exception\n",
      "Traceback (most recent call last):\n",
      "  File \"C:\\Users\\yasho\\Anaconda3\\lib\\site-packages\\apscheduler\\executors\\base.py\", line 125, in run_job\n",
      "    retval = job.func(*job.args, **job.kwargs)\n",
      "  File \"<ipython-input-28-d134fcd506e3>\", line 5, in main\n",
      "    api.update_status(status=tweet)\n",
      "  File \"C:\\Users\\yasho\\Anaconda3\\lib\\site-packages\\tweepy\\api.py\", line 193, in update_status\n",
      "    )(post_data=post_data, *args, **kwargs)\n",
      "  File \"C:\\Users\\yasho\\Anaconda3\\lib\\site-packages\\tweepy\\binder.py\", line 250, in _call\n",
      "    return method.execute()\n",
      "  File \"C:\\Users\\yasho\\Anaconda3\\lib\\site-packages\\tweepy\\binder.py\", line 233, in execute\n",
      "    raise TweepError(error_msg, resp, api_code=api_error_code)\n",
      "tweepy.error.TweepError: [{'code': 187, 'message': 'Status is a duplicate.'}]\n"
     ]
    },
    {
     "name": "stdout",
     "output_type": "stream",
     "text": [
      "It's 23:38 on 27-03-2020,\n",
      "The weather is 28° Celsius with Haze (Min: 28, Max: 28)\n",
      "Air Pollution Level: 124 (Unhealthy).\n",
      "Humidity: 65%. \n",
      "Wind speed: 11.2km/hr. \n",
      "Visibility: 3.5km.\n",
      "#Mumbai #Weather #Forecast #Climate #Bombay #Pollution #AirPollution\n"
     ]
    },
    {
     "name": "stderr",
     "output_type": "stream",
     "text": [
      "ERROR:apscheduler.executors.default:Job \"main (trigger: interval[0:00:05], next run at: 2020-03-27 23:38:12 IST)\" raised an exception\n",
      "Traceback (most recent call last):\n",
      "  File \"C:\\Users\\yasho\\Anaconda3\\lib\\site-packages\\apscheduler\\executors\\base.py\", line 125, in run_job\n",
      "    retval = job.func(*job.args, **job.kwargs)\n",
      "  File \"<ipython-input-28-d134fcd506e3>\", line 5, in main\n",
      "    api.update_status(status=tweet)\n",
      "  File \"C:\\Users\\yasho\\Anaconda3\\lib\\site-packages\\tweepy\\api.py\", line 193, in update_status\n",
      "    )(post_data=post_data, *args, **kwargs)\n",
      "  File \"C:\\Users\\yasho\\Anaconda3\\lib\\site-packages\\tweepy\\binder.py\", line 250, in _call\n",
      "    return method.execute()\n",
      "  File \"C:\\Users\\yasho\\Anaconda3\\lib\\site-packages\\tweepy\\binder.py\", line 233, in execute\n",
      "    raise TweepError(error_msg, resp, api_code=api_error_code)\n",
      "tweepy.error.TweepError: [{'code': 187, 'message': 'Status is a duplicate.'}]\n",
      "ERROR:apscheduler.executors.default:Job \"main (trigger: interval[0:00:05], next run at: 2020-03-27 23:38:17 IST)\" raised an exception\n",
      "Traceback (most recent call last):\n",
      "  File \"C:\\Users\\yasho\\Anaconda3\\lib\\site-packages\\apscheduler\\executors\\base.py\", line 125, in run_job\n",
      "    retval = job.func(*job.args, **job.kwargs)\n",
      "  File \"<ipython-input-28-d134fcd506e3>\", line 5, in main\n",
      "    api.update_status(status=tweet)\n",
      "  File \"C:\\Users\\yasho\\Anaconda3\\lib\\site-packages\\tweepy\\api.py\", line 193, in update_status\n",
      "    )(post_data=post_data, *args, **kwargs)\n",
      "  File \"C:\\Users\\yasho\\Anaconda3\\lib\\site-packages\\tweepy\\binder.py\", line 250, in _call\n",
      "    return method.execute()\n",
      "  File \"C:\\Users\\yasho\\Anaconda3\\lib\\site-packages\\tweepy\\binder.py\", line 233, in execute\n",
      "    raise TweepError(error_msg, resp, api_code=api_error_code)\n",
      "tweepy.error.TweepError: [{'code': 187, 'message': 'Status is a duplicate.'}]\n"
     ]
    },
    {
     "ename": "KeyboardInterrupt",
     "evalue": "",
     "output_type": "error",
     "traceback": [
      "\u001b[1;31m---------------------------------------------------------------------------\u001b[0m",
      "\u001b[1;31mKeyboardInterrupt\u001b[0m                         Traceback (most recent call last)",
      "\u001b[1;32m<ipython-input-29-88d37daa5d85>\u001b[0m in \u001b[0;36m<module>\u001b[1;34m\u001b[0m\n\u001b[0;32m      2\u001b[0m     \u001b[0mscheduler\u001b[0m \u001b[1;33m=\u001b[0m \u001b[0mBlockingScheduler\u001b[0m\u001b[1;33m(\u001b[0m\u001b[1;33m)\u001b[0m\u001b[1;33m\u001b[0m\u001b[1;33m\u001b[0m\u001b[0m\n\u001b[0;32m      3\u001b[0m     \u001b[0mscheduler\u001b[0m\u001b[1;33m.\u001b[0m\u001b[0madd_job\u001b[0m\u001b[1;33m(\u001b[0m\u001b[0mmain\u001b[0m\u001b[1;33m,\u001b[0m \u001b[1;34m'interval'\u001b[0m\u001b[1;33m,\u001b[0m \u001b[0mseconds\u001b[0m\u001b[1;33m=\u001b[0m\u001b[1;36m5\u001b[0m\u001b[1;33m)\u001b[0m\u001b[1;33m\u001b[0m\u001b[1;33m\u001b[0m\u001b[0m\n\u001b[1;32m----> 4\u001b[1;33m     \u001b[0mscheduler\u001b[0m\u001b[1;33m.\u001b[0m\u001b[0mstart\u001b[0m\u001b[1;33m(\u001b[0m\u001b[1;33m)\u001b[0m\u001b[1;33m\u001b[0m\u001b[1;33m\u001b[0m\u001b[0m\n\u001b[0m",
      "\u001b[1;32m~\\Anaconda3\\lib\\site-packages\\apscheduler\\schedulers\\blocking.py\u001b[0m in \u001b[0;36mstart\u001b[1;34m(self, *args, **kwargs)\u001b[0m\n\u001b[0;32m     17\u001b[0m         \u001b[0mself\u001b[0m\u001b[1;33m.\u001b[0m\u001b[0m_event\u001b[0m \u001b[1;33m=\u001b[0m \u001b[0mEvent\u001b[0m\u001b[1;33m(\u001b[0m\u001b[1;33m)\u001b[0m\u001b[1;33m\u001b[0m\u001b[1;33m\u001b[0m\u001b[0m\n\u001b[0;32m     18\u001b[0m         \u001b[0msuper\u001b[0m\u001b[1;33m(\u001b[0m\u001b[0mBlockingScheduler\u001b[0m\u001b[1;33m,\u001b[0m \u001b[0mself\u001b[0m\u001b[1;33m)\u001b[0m\u001b[1;33m.\u001b[0m\u001b[0mstart\u001b[0m\u001b[1;33m(\u001b[0m\u001b[1;33m*\u001b[0m\u001b[0margs\u001b[0m\u001b[1;33m,\u001b[0m \u001b[1;33m**\u001b[0m\u001b[0mkwargs\u001b[0m\u001b[1;33m)\u001b[0m\u001b[1;33m\u001b[0m\u001b[1;33m\u001b[0m\u001b[0m\n\u001b[1;32m---> 19\u001b[1;33m         \u001b[0mself\u001b[0m\u001b[1;33m.\u001b[0m\u001b[0m_main_loop\u001b[0m\u001b[1;33m(\u001b[0m\u001b[1;33m)\u001b[0m\u001b[1;33m\u001b[0m\u001b[1;33m\u001b[0m\u001b[0m\n\u001b[0m\u001b[0;32m     20\u001b[0m \u001b[1;33m\u001b[0m\u001b[0m\n\u001b[0;32m     21\u001b[0m     \u001b[1;32mdef\u001b[0m \u001b[0mshutdown\u001b[0m\u001b[1;33m(\u001b[0m\u001b[0mself\u001b[0m\u001b[1;33m,\u001b[0m \u001b[0mwait\u001b[0m\u001b[1;33m=\u001b[0m\u001b[1;32mTrue\u001b[0m\u001b[1;33m)\u001b[0m\u001b[1;33m:\u001b[0m\u001b[1;33m\u001b[0m\u001b[1;33m\u001b[0m\u001b[0m\n",
      "\u001b[1;32m~\\Anaconda3\\lib\\site-packages\\apscheduler\\schedulers\\blocking.py\u001b[0m in \u001b[0;36m_main_loop\u001b[1;34m(self)\u001b[0m\n\u001b[0;32m     26\u001b[0m         \u001b[0mwait_seconds\u001b[0m \u001b[1;33m=\u001b[0m \u001b[0mTIMEOUT_MAX\u001b[0m\u001b[1;33m\u001b[0m\u001b[1;33m\u001b[0m\u001b[0m\n\u001b[0;32m     27\u001b[0m         \u001b[1;32mwhile\u001b[0m \u001b[0mself\u001b[0m\u001b[1;33m.\u001b[0m\u001b[0mstate\u001b[0m \u001b[1;33m!=\u001b[0m \u001b[0mSTATE_STOPPED\u001b[0m\u001b[1;33m:\u001b[0m\u001b[1;33m\u001b[0m\u001b[1;33m\u001b[0m\u001b[0m\n\u001b[1;32m---> 28\u001b[1;33m             \u001b[0mself\u001b[0m\u001b[1;33m.\u001b[0m\u001b[0m_event\u001b[0m\u001b[1;33m.\u001b[0m\u001b[0mwait\u001b[0m\u001b[1;33m(\u001b[0m\u001b[0mwait_seconds\u001b[0m\u001b[1;33m)\u001b[0m\u001b[1;33m\u001b[0m\u001b[1;33m\u001b[0m\u001b[0m\n\u001b[0m\u001b[0;32m     29\u001b[0m             \u001b[0mself\u001b[0m\u001b[1;33m.\u001b[0m\u001b[0m_event\u001b[0m\u001b[1;33m.\u001b[0m\u001b[0mclear\u001b[0m\u001b[1;33m(\u001b[0m\u001b[1;33m)\u001b[0m\u001b[1;33m\u001b[0m\u001b[1;33m\u001b[0m\u001b[0m\n\u001b[0;32m     30\u001b[0m             \u001b[0mwait_seconds\u001b[0m \u001b[1;33m=\u001b[0m \u001b[0mself\u001b[0m\u001b[1;33m.\u001b[0m\u001b[0m_process_jobs\u001b[0m\u001b[1;33m(\u001b[0m\u001b[1;33m)\u001b[0m\u001b[1;33m\u001b[0m\u001b[1;33m\u001b[0m\u001b[0m\n",
      "\u001b[1;32m~\\Anaconda3\\lib\\threading.py\u001b[0m in \u001b[0;36mwait\u001b[1;34m(self, timeout)\u001b[0m\n\u001b[0;32m    550\u001b[0m             \u001b[0msignaled\u001b[0m \u001b[1;33m=\u001b[0m \u001b[0mself\u001b[0m\u001b[1;33m.\u001b[0m\u001b[0m_flag\u001b[0m\u001b[1;33m\u001b[0m\u001b[1;33m\u001b[0m\u001b[0m\n\u001b[0;32m    551\u001b[0m             \u001b[1;32mif\u001b[0m \u001b[1;32mnot\u001b[0m \u001b[0msignaled\u001b[0m\u001b[1;33m:\u001b[0m\u001b[1;33m\u001b[0m\u001b[1;33m\u001b[0m\u001b[0m\n\u001b[1;32m--> 552\u001b[1;33m                 \u001b[0msignaled\u001b[0m \u001b[1;33m=\u001b[0m \u001b[0mself\u001b[0m\u001b[1;33m.\u001b[0m\u001b[0m_cond\u001b[0m\u001b[1;33m.\u001b[0m\u001b[0mwait\u001b[0m\u001b[1;33m(\u001b[0m\u001b[0mtimeout\u001b[0m\u001b[1;33m)\u001b[0m\u001b[1;33m\u001b[0m\u001b[1;33m\u001b[0m\u001b[0m\n\u001b[0m\u001b[0;32m    553\u001b[0m             \u001b[1;32mreturn\u001b[0m \u001b[0msignaled\u001b[0m\u001b[1;33m\u001b[0m\u001b[1;33m\u001b[0m\u001b[0m\n\u001b[0;32m    554\u001b[0m \u001b[1;33m\u001b[0m\u001b[0m\n",
      "\u001b[1;32m~\\Anaconda3\\lib\\threading.py\u001b[0m in \u001b[0;36mwait\u001b[1;34m(self, timeout)\u001b[0m\n\u001b[0;32m    298\u001b[0m             \u001b[1;32melse\u001b[0m\u001b[1;33m:\u001b[0m\u001b[1;33m\u001b[0m\u001b[1;33m\u001b[0m\u001b[0m\n\u001b[0;32m    299\u001b[0m                 \u001b[1;32mif\u001b[0m \u001b[0mtimeout\u001b[0m \u001b[1;33m>\u001b[0m \u001b[1;36m0\u001b[0m\u001b[1;33m:\u001b[0m\u001b[1;33m\u001b[0m\u001b[1;33m\u001b[0m\u001b[0m\n\u001b[1;32m--> 300\u001b[1;33m                     \u001b[0mgotit\u001b[0m \u001b[1;33m=\u001b[0m \u001b[0mwaiter\u001b[0m\u001b[1;33m.\u001b[0m\u001b[0macquire\u001b[0m\u001b[1;33m(\u001b[0m\u001b[1;32mTrue\u001b[0m\u001b[1;33m,\u001b[0m \u001b[0mtimeout\u001b[0m\u001b[1;33m)\u001b[0m\u001b[1;33m\u001b[0m\u001b[1;33m\u001b[0m\u001b[0m\n\u001b[0m\u001b[0;32m    301\u001b[0m                 \u001b[1;32melse\u001b[0m\u001b[1;33m:\u001b[0m\u001b[1;33m\u001b[0m\u001b[1;33m\u001b[0m\u001b[0m\n\u001b[0;32m    302\u001b[0m                     \u001b[0mgotit\u001b[0m \u001b[1;33m=\u001b[0m \u001b[0mwaiter\u001b[0m\u001b[1;33m.\u001b[0m\u001b[0macquire\u001b[0m\u001b[1;33m(\u001b[0m\u001b[1;32mFalse\u001b[0m\u001b[1;33m)\u001b[0m\u001b[1;33m\u001b[0m\u001b[1;33m\u001b[0m\u001b[0m\n",
      "\u001b[1;31mKeyboardInterrupt\u001b[0m: "
     ]
    }
   ],
   "source": [
    "if __name__ == '__main__':\n",
    "    scheduler = BlockingScheduler()\n",
    "    scheduler.add_job(main, 'interval', hours=3)\n",
    "    scheduler.start()"
   ]
  },
  {
   "cell_type": "code",
   "execution_count": 30,
   "metadata": {},
   "outputs": [],
   "source": [
    "scheduler.shutdown()"
   ]
  }
 ],
 "metadata": {
  "kernelspec": {
   "display_name": "Python 3",
   "language": "python",
   "name": "python3"
  },
  "language_info": {
   "codemirror_mode": {
    "name": "ipython",
    "version": 3
   },
   "file_extension": ".py",
   "mimetype": "text/x-python",
   "name": "python",
   "nbconvert_exporter": "python",
   "pygments_lexer": "ipython3",
   "version": "3.7.4"
  }
 },
 "nbformat": 4,
 "nbformat_minor": 2
}
